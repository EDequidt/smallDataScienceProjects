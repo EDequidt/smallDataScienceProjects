{
 "cells": [
  {
   "cell_type": "markdown",
   "id": "ab44ed55",
   "metadata": {
    "papermill": {
     "duration": 0.009782,
     "end_time": "2023-05-22T07:10:29.428330",
     "exception": false,
     "start_time": "2023-05-22T07:10:29.418548",
     "status": "completed"
    },
    "tags": []
   },
   "source": [
    "# 15 : Regroupement par k-moyennes"
   ]
  },
  {
   "cell_type": "markdown",
   "id": "a749560f",
   "metadata": {
    "papermill": {
     "duration": 0.008053,
     "end_time": "2023-05-22T07:10:29.444833",
     "exception": false,
     "start_time": "2023-05-22T07:10:29.436780",
     "status": "completed"
    },
    "tags": []
   },
   "source": [
    "## Algorithmes basés centroïdes"
   ]
  },
  {
   "cell_type": "code",
   "execution_count": 1,
   "id": "bf27ee4e",
   "metadata": {
    "execution": {
     "iopub.execute_input": "2023-05-22T07:10:29.464157Z",
     "iopub.status.busy": "2023-05-22T07:10:29.463669Z",
     "iopub.status.idle": "2023-05-22T07:10:29.481373Z",
     "shell.execute_reply": "2023-05-22T07:10:29.479988Z"
    },
    "papermill": {
     "duration": 0.030893,
     "end_time": "2023-05-22T07:10:29.484438",
     "exception": false,
     "start_time": "2023-05-22T07:10:29.453545",
     "status": "completed"
    },
    "tags": []
   },
   "outputs": [
    {
     "name": "stdout",
     "output_type": "stream",
     "text": [
      "45.0\n"
     ]
    }
   ],
   "source": [
    "import numpy as np\n",
    "A = np.array([165, 55, 70])\n",
    "B = np.array([185, 60, 30])\n",
    "\n",
    "D = (A - B)\n",
    "D = D**2\n",
    "D = np.sqrt(np.sum(D))\n",
    "\n",
    "print(D)"
   ]
  },
  {
   "cell_type": "markdown",
   "id": "61ef3a3b",
   "metadata": {
    "papermill": {
     "duration": 0.007806,
     "end_time": "2023-05-22T07:10:29.500472",
     "exception": false,
     "start_time": "2023-05-22T07:10:29.492666",
     "status": "completed"
    },
    "tags": []
   },
   "source": [
    "## Exemple avec données graphiques"
   ]
  },
  {
   "cell_type": "code",
   "execution_count": 2,
   "id": "4041ed6e",
   "metadata": {
    "execution": {
     "iopub.execute_input": "2023-05-22T07:10:29.518652Z",
     "iopub.status.busy": "2023-05-22T07:10:29.518206Z",
     "iopub.status.idle": "2023-05-22T07:10:31.085251Z",
     "shell.execute_reply": "2023-05-22T07:10:31.083453Z"
    },
    "papermill": {
     "duration": 1.58019,
     "end_time": "2023-05-22T07:10:31.088677",
     "exception": false,
     "start_time": "2023-05-22T07:10:29.508487",
     "status": "completed"
    },
    "tags": []
   },
   "outputs": [],
   "source": [
    "from sklearn.datasets import load_digits\n",
    "from sklearn.preprocessing import StandardScaler\n",
    "\n",
    "digits = load_digits()\n",
    "scaler = StandardScaler()\n",
    "X = scaler.fit_transform(digits.data)\n",
    "ground_truth = digits.target"
   ]
  },
  {
   "cell_type": "code",
   "execution_count": 32,
   "id": "dd9d9dc8",
   "metadata": {
    "execution": {
     "iopub.execute_input": "2023-05-22T07:10:31.108659Z",
     "iopub.status.busy": "2023-05-22T07:10:31.108185Z",
     "iopub.status.idle": "2023-05-22T07:10:33.330393Z",
     "shell.execute_reply": "2023-05-22T07:10:33.329026Z"
    },
    "papermill": {
     "duration": 2.236739,
     "end_time": "2023-05-22T07:10:33.334053",
     "exception": false,
     "start_time": "2023-05-22T07:10:31.097314",
     "status": "completed"
    },
    "tags": []
   },
   "outputs": [
    {
     "data": {
      "text/html": [
       "<style>#sk-container-id-3 {color: black;}#sk-container-id-3 pre{padding: 0;}#sk-container-id-3 div.sk-toggleable {background-color: white;}#sk-container-id-3 label.sk-toggleable__label {cursor: pointer;display: block;width: 100%;margin-bottom: 0;padding: 0.3em;box-sizing: border-box;text-align: center;}#sk-container-id-3 label.sk-toggleable__label-arrow:before {content: \"▸\";float: left;margin-right: 0.25em;color: #696969;}#sk-container-id-3 label.sk-toggleable__label-arrow:hover:before {color: black;}#sk-container-id-3 div.sk-estimator:hover label.sk-toggleable__label-arrow:before {color: black;}#sk-container-id-3 div.sk-toggleable__content {max-height: 0;max-width: 0;overflow: hidden;text-align: left;background-color: #f0f8ff;}#sk-container-id-3 div.sk-toggleable__content pre {margin: 0.2em;color: black;border-radius: 0.25em;background-color: #f0f8ff;}#sk-container-id-3 input.sk-toggleable__control:checked~div.sk-toggleable__content {max-height: 200px;max-width: 100%;overflow: auto;}#sk-container-id-3 input.sk-toggleable__control:checked~label.sk-toggleable__label-arrow:before {content: \"▾\";}#sk-container-id-3 div.sk-estimator input.sk-toggleable__control:checked~label.sk-toggleable__label {background-color: #d4ebff;}#sk-container-id-3 div.sk-label input.sk-toggleable__control:checked~label.sk-toggleable__label {background-color: #d4ebff;}#sk-container-id-3 input.sk-hidden--visually {border: 0;clip: rect(1px 1px 1px 1px);clip: rect(1px, 1px, 1px, 1px);height: 1px;margin: -1px;overflow: hidden;padding: 0;position: absolute;width: 1px;}#sk-container-id-3 div.sk-estimator {font-family: monospace;background-color: #f0f8ff;border: 1px dotted black;border-radius: 0.25em;box-sizing: border-box;margin-bottom: 0.5em;}#sk-container-id-3 div.sk-estimator:hover {background-color: #d4ebff;}#sk-container-id-3 div.sk-parallel-item::after {content: \"\";width: 100%;border-bottom: 1px solid gray;flex-grow: 1;}#sk-container-id-3 div.sk-label:hover label.sk-toggleable__label {background-color: #d4ebff;}#sk-container-id-3 div.sk-serial::before {content: \"\";position: absolute;border-left: 1px solid gray;box-sizing: border-box;top: 0;bottom: 0;left: 50%;z-index: 0;}#sk-container-id-3 div.sk-serial {display: flex;flex-direction: column;align-items: center;background-color: white;padding-right: 0.2em;padding-left: 0.2em;position: relative;}#sk-container-id-3 div.sk-item {position: relative;z-index: 1;}#sk-container-id-3 div.sk-parallel {display: flex;align-items: stretch;justify-content: center;background-color: white;position: relative;}#sk-container-id-3 div.sk-item::before, #sk-container-id-3 div.sk-parallel-item::before {content: \"\";position: absolute;border-left: 1px solid gray;box-sizing: border-box;top: 0;bottom: 0;left: 50%;z-index: -1;}#sk-container-id-3 div.sk-parallel-item {display: flex;flex-direction: column;z-index: 1;position: relative;background-color: white;}#sk-container-id-3 div.sk-parallel-item:first-child::after {align-self: flex-end;width: 50%;}#sk-container-id-3 div.sk-parallel-item:last-child::after {align-self: flex-start;width: 50%;}#sk-container-id-3 div.sk-parallel-item:only-child::after {width: 0;}#sk-container-id-3 div.sk-dashed-wrapped {border: 1px dashed gray;margin: 0 0.4em 0.5em 0.4em;box-sizing: border-box;padding-bottom: 0.4em;background-color: white;}#sk-container-id-3 div.sk-label label {font-family: monospace;font-weight: bold;display: inline-block;line-height: 1.2em;}#sk-container-id-3 div.sk-label-container {text-align: center;}#sk-container-id-3 div.sk-container {/* jupyter's `normalize.less` sets `[hidden] { display: none; }` but bootstrap.min.css set `[hidden] { display: none !important; }` so we also need the `!important` here to be able to override the default hidden behavior on the sphinx rendered scikit-learn.org. See: https://github.com/scikit-learn/scikit-learn/issues/21755 */display: inline-block !important;position: relative;}#sk-container-id-3 div.sk-text-repr-fallback {display: none;}</style><div id=\"sk-container-id-3\" class=\"sk-top-container\"><div class=\"sk-text-repr-fallback\"><pre>KMeans(n_clusters=10, n_init=10, random_state=1)</pre><b>In a Jupyter environment, please rerun this cell to show the HTML representation or trust the notebook. <br />On GitHub, the HTML representation is unable to render, please try loading this page with nbviewer.org.</b></div><div class=\"sk-container\" hidden><div class=\"sk-item\"><div class=\"sk-estimator sk-toggleable\"><input class=\"sk-toggleable__control sk-hidden--visually\" id=\"sk-estimator-id-3\" type=\"checkbox\" checked><label for=\"sk-estimator-id-3\" class=\"sk-toggleable__label sk-toggleable__label-arrow\">KMeans</label><div class=\"sk-toggleable__content\"><pre>KMeans(n_clusters=10, n_init=10, random_state=1)</pre></div></div></div></div></div>"
      ],
      "text/plain": [
       "KMeans(n_clusters=10, n_init=10, random_state=1)"
      ]
     },
     "execution_count": 32,
     "metadata": {},
     "output_type": "execute_result"
    }
   ],
   "source": [
    "from sklearn.cluster import KMeans\n",
    "regroup = KMeans(n_clusters=10, \n",
    "                    n_init=10, random_state=1)\n",
    "regroup.fit(X)"
   ]
  },
  {
   "cell_type": "markdown",
   "id": "fbe0638f",
   "metadata": {
    "papermill": {
     "duration": 0.007905,
     "end_time": "2023-05-22T07:10:33.350451",
     "exception": false,
     "start_time": "2023-05-22T07:10:33.342546",
     "status": "completed"
    },
    "tags": []
   },
   "source": [
    "## Recherche des solutions optimales"
   ]
  },
  {
   "cell_type": "code",
   "execution_count": 33,
   "id": "1712b682",
   "metadata": {
    "execution": {
     "iopub.execute_input": "2023-05-22T07:10:33.368938Z",
     "iopub.status.busy": "2023-05-22T07:10:33.368477Z",
     "iopub.status.idle": "2023-05-22T07:10:33.466681Z",
     "shell.execute_reply": "2023-05-22T07:10:33.465126Z"
    },
    "papermill": {
     "duration": 0.111469,
     "end_time": "2023-05-22T07:10:33.470004",
     "exception": false,
     "start_time": "2023-05-22T07:10:33.358535",
     "status": "completed"
    },
    "tags": []
   },
   "outputs": [
    {
     "data": {
      "text/html": [
       "<div>\n",
       "<style scoped>\n",
       "    .dataframe tbody tr th:only-of-type {\n",
       "        vertical-align: middle;\n",
       "    }\n",
       "\n",
       "    .dataframe tbody tr th {\n",
       "        vertical-align: top;\n",
       "    }\n",
       "\n",
       "    .dataframe thead th {\n",
       "        text-align: right;\n",
       "    }\n",
       "</style>\n",
       "<table border=\"1\" class=\"dataframe\">\n",
       "  <thead>\n",
       "    <tr style=\"text-align: right;\">\n",
       "      <th>Clusters</th>\n",
       "      <th>0</th>\n",
       "      <th>1</th>\n",
       "      <th>2</th>\n",
       "      <th>3</th>\n",
       "      <th>4</th>\n",
       "      <th>5</th>\n",
       "      <th>6</th>\n",
       "      <th>7</th>\n",
       "      <th>8</th>\n",
       "      <th>9</th>\n",
       "      <th>All</th>\n",
       "    </tr>\n",
       "    <tr>\n",
       "      <th>Données réelles</th>\n",
       "      <th></th>\n",
       "      <th></th>\n",
       "      <th></th>\n",
       "      <th></th>\n",
       "      <th></th>\n",
       "      <th></th>\n",
       "      <th></th>\n",
       "      <th></th>\n",
       "      <th></th>\n",
       "      <th></th>\n",
       "      <th></th>\n",
       "    </tr>\n",
       "  </thead>\n",
       "  <tbody>\n",
       "    <tr>\n",
       "      <th>0</th>\n",
       "      <td>0</td>\n",
       "      <td>176</td>\n",
       "      <td>0</td>\n",
       "      <td>0</td>\n",
       "      <td>1</td>\n",
       "      <td>0</td>\n",
       "      <td>1</td>\n",
       "      <td>0</td>\n",
       "      <td>0</td>\n",
       "      <td>0</td>\n",
       "      <td>178</td>\n",
       "    </tr>\n",
       "    <tr>\n",
       "      <th>1</th>\n",
       "      <td>58</td>\n",
       "      <td>0</td>\n",
       "      <td>0</td>\n",
       "      <td>97</td>\n",
       "      <td>0</td>\n",
       "      <td>0</td>\n",
       "      <td>0</td>\n",
       "      <td>0</td>\n",
       "      <td>27</td>\n",
       "      <td>0</td>\n",
       "      <td>182</td>\n",
       "    </tr>\n",
       "    <tr>\n",
       "      <th>2</th>\n",
       "      <td>5</td>\n",
       "      <td>0</td>\n",
       "      <td>2</td>\n",
       "      <td>28</td>\n",
       "      <td>0</td>\n",
       "      <td>5</td>\n",
       "      <td>0</td>\n",
       "      <td>89</td>\n",
       "      <td>48</td>\n",
       "      <td>0</td>\n",
       "      <td>177</td>\n",
       "    </tr>\n",
       "    <tr>\n",
       "      <th>3</th>\n",
       "      <td>0</td>\n",
       "      <td>0</td>\n",
       "      <td>7</td>\n",
       "      <td>10</td>\n",
       "      <td>0</td>\n",
       "      <td>152</td>\n",
       "      <td>0</td>\n",
       "      <td>13</td>\n",
       "      <td>1</td>\n",
       "      <td>0</td>\n",
       "      <td>183</td>\n",
       "    </tr>\n",
       "    <tr>\n",
       "      <th>4</th>\n",
       "      <td>7</td>\n",
       "      <td>0</td>\n",
       "      <td>4</td>\n",
       "      <td>4</td>\n",
       "      <td>157</td>\n",
       "      <td>0</td>\n",
       "      <td>0</td>\n",
       "      <td>0</td>\n",
       "      <td>0</td>\n",
       "      <td>9</td>\n",
       "      <td>181</td>\n",
       "    </tr>\n",
       "    <tr>\n",
       "      <th>5</th>\n",
       "      <td>1</td>\n",
       "      <td>0</td>\n",
       "      <td>2</td>\n",
       "      <td>62</td>\n",
       "      <td>2</td>\n",
       "      <td>71</td>\n",
       "      <td>3</td>\n",
       "      <td>41</td>\n",
       "      <td>0</td>\n",
       "      <td>0</td>\n",
       "      <td>182</td>\n",
       "    </tr>\n",
       "    <tr>\n",
       "      <th>6</th>\n",
       "      <td>1</td>\n",
       "      <td>1</td>\n",
       "      <td>0</td>\n",
       "      <td>4</td>\n",
       "      <td>0</td>\n",
       "      <td>0</td>\n",
       "      <td>175</td>\n",
       "      <td>0</td>\n",
       "      <td>0</td>\n",
       "      <td>0</td>\n",
       "      <td>181</td>\n",
       "    </tr>\n",
       "    <tr>\n",
       "      <th>7</th>\n",
       "      <td>3</td>\n",
       "      <td>0</td>\n",
       "      <td>151</td>\n",
       "      <td>0</td>\n",
       "      <td>0</td>\n",
       "      <td>0</td>\n",
       "      <td>0</td>\n",
       "      <td>8</td>\n",
       "      <td>0</td>\n",
       "      <td>17</td>\n",
       "      <td>179</td>\n",
       "    </tr>\n",
       "    <tr>\n",
       "      <th>8</th>\n",
       "      <td>15</td>\n",
       "      <td>0</td>\n",
       "      <td>2</td>\n",
       "      <td>97</td>\n",
       "      <td>0</td>\n",
       "      <td>46</td>\n",
       "      <td>3</td>\n",
       "      <td>11</td>\n",
       "      <td>0</td>\n",
       "      <td>0</td>\n",
       "      <td>174</td>\n",
       "    </tr>\n",
       "    <tr>\n",
       "      <th>9</th>\n",
       "      <td>19</td>\n",
       "      <td>0</td>\n",
       "      <td>8</td>\n",
       "      <td>5</td>\n",
       "      <td>0</td>\n",
       "      <td>145</td>\n",
       "      <td>0</td>\n",
       "      <td>0</td>\n",
       "      <td>0</td>\n",
       "      <td>3</td>\n",
       "      <td>180</td>\n",
       "    </tr>\n",
       "    <tr>\n",
       "      <th>All</th>\n",
       "      <td>109</td>\n",
       "      <td>177</td>\n",
       "      <td>176</td>\n",
       "      <td>307</td>\n",
       "      <td>160</td>\n",
       "      <td>419</td>\n",
       "      <td>182</td>\n",
       "      <td>162</td>\n",
       "      <td>76</td>\n",
       "      <td>29</td>\n",
       "      <td>1797</td>\n",
       "    </tr>\n",
       "  </tbody>\n",
       "</table>\n",
       "</div>"
      ],
      "text/plain": [
       "Clusters           0    1    2    3    4    5    6    7   8   9   All\n",
       "Données réelles                                                      \n",
       "0                  0  176    0    0    1    0    1    0   0   0   178\n",
       "1                 58    0    0   97    0    0    0    0  27   0   182\n",
       "2                  5    0    2   28    0    5    0   89  48   0   177\n",
       "3                  0    0    7   10    0  152    0   13   1   0   183\n",
       "4                  7    0    4    4  157    0    0    0   0   9   181\n",
       "5                  1    0    2   62    2   71    3   41   0   0   182\n",
       "6                  1    1    0    4    0    0  175    0   0   0   181\n",
       "7                  3    0  151    0    0    0    0    8   0  17   179\n",
       "8                 15    0    2   97    0   46    3   11   0   0   174\n",
       "9                 19    0    8    5    0  145    0    0   0   3   180\n",
       "All              109  177  176  307  160  419  182  162  76  29  1797"
      ]
     },
     "execution_count": 33,
     "metadata": {},
     "output_type": "execute_result"
    }
   ],
   "source": [
    "import numpy as np\n",
    "import pandas as pd\n",
    "\n",
    "ms = np.column_stack((ground_truth,regroup.labels_))\n",
    "df = pd.DataFrame(ms, \n",
    "                  columns = ['Données réelles','Clusters'])\n",
    "pd.crosstab(df['Données réelles'], df['Clusters'], margins=True)"
   ]
  },
  {
   "cell_type": "code",
   "execution_count": 34,
   "id": "83cf2599",
   "metadata": {
    "execution": {
     "iopub.execute_input": "2023-05-22T07:10:33.490155Z",
     "iopub.status.busy": "2023-05-22T07:10:33.489597Z",
     "iopub.status.idle": "2023-05-22T07:11:05.851825Z",
     "shell.execute_reply": "2023-05-22T07:11:05.850175Z"
    },
    "papermill": {
     "duration": 32.376512,
     "end_time": "2023-05-22T07:11:05.855816",
     "exception": false,
     "start_time": "2023-05-22T07:10:33.479304",
     "status": "completed"
    },
    "tags": []
   },
   "outputs": [],
   "source": [
    "import numpy as np\n",
    "inertia = list()\n",
    "for k in range(1,21):\n",
    "    regroup = KMeans(n_clusters=k, \n",
    "                        n_init=10, random_state=1)\n",
    "    regroup.fit(X)\n",
    "    inertia.append(regroup.inertia_)\n",
    "delta_inertia = np.diff(inertia) * -1"
   ]
  },
  {
   "cell_type": "code",
   "execution_count": 35,
   "id": "2692739f",
   "metadata": {
    "execution": {
     "iopub.execute_input": "2023-05-22T07:11:05.878790Z",
     "iopub.status.busy": "2023-05-22T07:11:05.878305Z",
     "iopub.status.idle": "2023-05-22T07:11:06.198463Z",
     "shell.execute_reply": "2023-05-22T07:11:06.197004Z"
    },
    "papermill": {
     "duration": 0.334141,
     "end_time": "2023-05-22T07:11:06.201496",
     "exception": false,
     "start_time": "2023-05-22T07:11:05.867355",
     "status": "completed"
    },
    "tags": []
   },
   "outputs": [
    {
     "data": {
      "image/png": "[encoded data removed]",
      "text/plain": [
       "<Figure size 640x480 with 1 Axes>"
      ]
     },
     "metadata": {},
     "output_type": "display_data"
    }
   ],
   "source": [
    "%matplotlib inline\n",
    "import matplotlib.pyplot as plt\n",
    "\n",
    "plt.figure()\n",
    "x_range = [k for k in range(2, 21)]\n",
    "plt.xticks(x_range)\n",
    "plt.plot(x_range, delta_inertia, 'ko-')\n",
    "plt.xlabel(\"Nombre de clusters\")\n",
    "plt.ylabel(\"Taux de variation d'inertie\")\n",
    "plt.show()"
   ]
  },
  {
   "cell_type": "markdown",
   "id": "f38f8cd9",
   "metadata": {
    "papermill": {
     "duration": 0.010559,
     "end_time": "2023-05-22T07:11:06.221682",
     "exception": false,
     "start_time": "2023-05-22T07:11:06.211123",
     "status": "completed"
    },
    "tags": []
   },
   "source": [
    "## Regroupement de mégadonnées"
   ]
  },
  {
   "cell_type": "code",
   "execution_count": 23,
   "id": "26a52321",
   "metadata": {
    "execution": {
     "iopub.execute_input": "2023-05-22T07:11:06.243936Z",
     "iopub.status.busy": "2023-05-22T07:11:06.242768Z",
     "iopub.status.idle": "2023-05-22T07:11:07.810553Z",
     "shell.execute_reply": "2023-05-22T07:11:07.808698Z"
    },
    "papermill": {
     "duration": 1.582557,
     "end_time": "2023-05-22T07:11:07.813930",
     "exception": false,
     "start_time": "2023-05-22T07:11:06.231373",
     "status": "completed"
    },
    "tags": []
   },
   "outputs": [
    {
     "name": "stdout",
     "output_type": "stream",
     "text": [
      "Inertie k-moyennes : 69408.6\n"
     ]
    }
   ],
   "source": [
    "k = 10\n",
    "regroup = KMeans(n_clusters=k, \n",
    "                    n_init=10, random_state=1)\n",
    "regroup.fit(X)\n",
    "inertie_kmoy = regroup.inertia_\n",
    "print(f\"Inertie k-moyennes : {inertie_kmoy:0.1f}\")"
   ]
  },
  {
   "cell_type": "code",
   "execution_count": 24,
   "id": "533fca7d",
   "metadata": {
    "execution": {
     "iopub.execute_input": "2023-05-22T07:11:07.837318Z",
     "iopub.status.busy": "2023-05-22T07:11:07.835961Z",
     "iopub.status.idle": "2023-05-22T07:11:07.884564Z",
     "shell.execute_reply": "2023-05-22T07:11:07.883128Z"
    },
    "papermill": {
     "duration": 0.063716,
     "end_time": "2023-05-22T07:11:07.888334",
     "exception": false,
     "start_time": "2023-05-22T07:11:07.824618",
     "status": "completed"
    },
    "tags": []
   },
   "outputs": [
    {
     "name": "stderr",
     "output_type": "stream",
     "text": [
      "C:\\X\\DATALOGY\\ANACONDA\\Lib\\site-packages\\sklearn\\cluster\\_kmeans.py:1962: UserWarning: MiniBatchKMeans is known to have a memory leak on Windows with MKL, when there are less chunks than available threads. You can prevent it by setting batch_size >= 1024 or by setting the environment variable OMP_NUM_THREADS=1\n",
      "  warnings.warn(\n"
     ]
    },
    {
     "name": "stdout",
     "output_type": "stream",
     "text": [
      "Inertie MiniBatchKmeans : 73163.1\n"
     ]
    }
   ],
   "source": [
    "from sklearn.cluster import MiniBatchKMeans\n",
    "batch_regroup = MiniBatchKMeans(n_clusters=k, \n",
    "                                random_state=1,\n",
    "                                n_init=3)\n",
    "taille_lot = 100\n",
    "for ligne in range(0, len(X), taille_lot):\n",
    "    if ligne+taille_lot < len(X):\n",
    "        feed = X[ligne:ligne+taille_lot,:]\n",
    "    else:\n",
    "        feed = X[ligne:,:]\n",
    "    batch_regroup.partial_fit(feed)\n",
    "inertie_parlots = batch_regroup.score(X) * -1\n",
    "\n",
    "print(f\"Inertie MiniBatchKmeans : {inertie_parlots:.1f}\")"
   ]
  },
  {
   "cell_type": "markdown",
   "id": "e75c8b63",
   "metadata": {
    "papermill": {
     "duration": 0.009754,
     "end_time": "2023-05-22T07:11:07.908830",
     "exception": false,
     "start_time": "2023-05-22T07:11:07.899076",
     "status": "completed"
    },
    "tags": []
   },
   "source": [
    "# Classification hiérarchique ascendante"
   ]
  },
  {
   "cell_type": "markdown",
   "id": "102c9e4d",
   "metadata": {
    "papermill": {
     "duration": 0.009609,
     "end_time": "2023-05-22T07:11:07.927952",
     "exception": false,
     "start_time": "2023-05-22T07:11:07.918343",
     "status": "completed"
    },
    "tags": []
   },
   "source": [
    "## Solution de regroupement hiérarchique"
   ]
  },
  {
   "cell_type": "code",
   "execution_count": 27,
   "id": "c0d4f866",
   "metadata": {
    "execution": {
     "iopub.execute_input": "2023-05-22T07:11:07.950053Z",
     "iopub.status.busy": "2023-05-22T07:11:07.949530Z",
     "iopub.status.idle": "2023-05-22T07:11:08.201175Z",
     "shell.execute_reply": "2023-05-22T07:11:08.200189Z"
    },
    "papermill": {
     "duration": 0.266148,
     "end_time": "2023-05-22T07:11:08.203744",
     "exception": false,
     "start_time": "2023-05-22T07:11:07.937596",
     "status": "completed"
    },
    "tags": []
   },
   "outputs": [
    {
     "data": {
      "text/html": [
       "<div>\n",
       "<style scoped>\n",
       "    .dataframe tbody tr th:only-of-type {\n",
       "        vertical-align: middle;\n",
       "    }\n",
       "\n",
       "    .dataframe tbody tr th {\n",
       "        vertical-align: top;\n",
       "    }\n",
       "\n",
       "    .dataframe thead th {\n",
       "        text-align: right;\n",
       "    }\n",
       "</style>\n",
       "<table border=\"1\" class=\"dataframe\">\n",
       "  <thead>\n",
       "    <tr style=\"text-align: right;\">\n",
       "      <th>Clusters</th>\n",
       "      <th>0</th>\n",
       "      <th>1</th>\n",
       "      <th>2</th>\n",
       "      <th>3</th>\n",
       "      <th>4</th>\n",
       "      <th>5</th>\n",
       "      <th>6</th>\n",
       "      <th>7</th>\n",
       "      <th>8</th>\n",
       "      <th>9</th>\n",
       "      <th>All</th>\n",
       "    </tr>\n",
       "    <tr>\n",
       "      <th>Données réelles</th>\n",
       "      <th></th>\n",
       "      <th></th>\n",
       "      <th></th>\n",
       "      <th></th>\n",
       "      <th></th>\n",
       "      <th></th>\n",
       "      <th></th>\n",
       "      <th></th>\n",
       "      <th></th>\n",
       "      <th></th>\n",
       "      <th></th>\n",
       "    </tr>\n",
       "  </thead>\n",
       "  <tbody>\n",
       "    <tr>\n",
       "      <th>0</th>\n",
       "      <td>0</td>\n",
       "      <td>0</td>\n",
       "      <td>0</td>\n",
       "      <td>0</td>\n",
       "      <td>0</td>\n",
       "      <td>178</td>\n",
       "      <td>0</td>\n",
       "      <td>0</td>\n",
       "      <td>0</td>\n",
       "      <td>0</td>\n",
       "      <td>178</td>\n",
       "    </tr>\n",
       "    <tr>\n",
       "      <th>1</th>\n",
       "      <td>1</td>\n",
       "      <td>150</td>\n",
       "      <td>0</td>\n",
       "      <td>27</td>\n",
       "      <td>0</td>\n",
       "      <td>0</td>\n",
       "      <td>0</td>\n",
       "      <td>0</td>\n",
       "      <td>4</td>\n",
       "      <td>0</td>\n",
       "      <td>182</td>\n",
       "    </tr>\n",
       "    <tr>\n",
       "      <th>2</th>\n",
       "      <td>0</td>\n",
       "      <td>15</td>\n",
       "      <td>1</td>\n",
       "      <td>160</td>\n",
       "      <td>1</td>\n",
       "      <td>0</td>\n",
       "      <td>0</td>\n",
       "      <td>0</td>\n",
       "      <td>0</td>\n",
       "      <td>0</td>\n",
       "      <td>177</td>\n",
       "    </tr>\n",
       "    <tr>\n",
       "      <th>3</th>\n",
       "      <td>0</td>\n",
       "      <td>11</td>\n",
       "      <td>0</td>\n",
       "      <td>4</td>\n",
       "      <td>168</td>\n",
       "      <td>0</td>\n",
       "      <td>0</td>\n",
       "      <td>0</td>\n",
       "      <td>0</td>\n",
       "      <td>0</td>\n",
       "      <td>183</td>\n",
       "    </tr>\n",
       "    <tr>\n",
       "      <th>4</th>\n",
       "      <td>1</td>\n",
       "      <td>4</td>\n",
       "      <td>1</td>\n",
       "      <td>0</td>\n",
       "      <td>0</td>\n",
       "      <td>0</td>\n",
       "      <td>0</td>\n",
       "      <td>12</td>\n",
       "      <td>163</td>\n",
       "      <td>0</td>\n",
       "      <td>181</td>\n",
       "    </tr>\n",
       "    <tr>\n",
       "      <th>5</th>\n",
       "      <td>168</td>\n",
       "      <td>0</td>\n",
       "      <td>0</td>\n",
       "      <td>1</td>\n",
       "      <td>12</td>\n",
       "      <td>0</td>\n",
       "      <td>1</td>\n",
       "      <td>0</td>\n",
       "      <td>0</td>\n",
       "      <td>0</td>\n",
       "      <td>182</td>\n",
       "    </tr>\n",
       "    <tr>\n",
       "      <th>6</th>\n",
       "      <td>0</td>\n",
       "      <td>1</td>\n",
       "      <td>0</td>\n",
       "      <td>0</td>\n",
       "      <td>0</td>\n",
       "      <td>0</td>\n",
       "      <td>180</td>\n",
       "      <td>0</td>\n",
       "      <td>0</td>\n",
       "      <td>0</td>\n",
       "      <td>181</td>\n",
       "    </tr>\n",
       "    <tr>\n",
       "      <th>7</th>\n",
       "      <td>1</td>\n",
       "      <td>1</td>\n",
       "      <td>0</td>\n",
       "      <td>0</td>\n",
       "      <td>1</td>\n",
       "      <td>0</td>\n",
       "      <td>0</td>\n",
       "      <td>25</td>\n",
       "      <td>0</td>\n",
       "      <td>151</td>\n",
       "      <td>179</td>\n",
       "    </tr>\n",
       "    <tr>\n",
       "      <th>8</th>\n",
       "      <td>1</td>\n",
       "      <td>168</td>\n",
       "      <td>0</td>\n",
       "      <td>3</td>\n",
       "      <td>2</td>\n",
       "      <td>0</td>\n",
       "      <td>0</td>\n",
       "      <td>0</td>\n",
       "      <td>0</td>\n",
       "      <td>0</td>\n",
       "      <td>174</td>\n",
       "    </tr>\n",
       "    <tr>\n",
       "      <th>9</th>\n",
       "      <td>3</td>\n",
       "      <td>38</td>\n",
       "      <td>0</td>\n",
       "      <td>0</td>\n",
       "      <td>135</td>\n",
       "      <td>0</td>\n",
       "      <td>1</td>\n",
       "      <td>3</td>\n",
       "      <td>0</td>\n",
       "      <td>0</td>\n",
       "      <td>180</td>\n",
       "    </tr>\n",
       "    <tr>\n",
       "      <th>All</th>\n",
       "      <td>175</td>\n",
       "      <td>388</td>\n",
       "      <td>2</td>\n",
       "      <td>195</td>\n",
       "      <td>319</td>\n",
       "      <td>178</td>\n",
       "      <td>182</td>\n",
       "      <td>40</td>\n",
       "      <td>167</td>\n",
       "      <td>151</td>\n",
       "      <td>1797</td>\n",
       "    </tr>\n",
       "  </tbody>\n",
       "</table>\n",
       "</div>"
      ],
      "text/plain": [
       "Clusters           0    1  2    3    4    5    6   7    8    9   All\n",
       "Données réelles                                                     \n",
       "0                  0    0  0    0    0  178    0   0    0    0   178\n",
       "1                  1  150  0   27    0    0    0   0    4    0   182\n",
       "2                  0   15  1  160    1    0    0   0    0    0   177\n",
       "3                  0   11  0    4  168    0    0   0    0    0   183\n",
       "4                  1    4  1    0    0    0    0  12  163    0   181\n",
       "5                168    0  0    1   12    0    1   0    0    0   182\n",
       "6                  0    1  0    0    0    0  180   0    0    0   181\n",
       "7                  1    1  0    0    1    0    0  25    0  151   179\n",
       "8                  1  168  0    3    2    0    0   0    0    0   174\n",
       "9                  3   38  0    0  135    0    1   3    0    0   180\n",
       "All              175  388  2  195  319  178  182  40  167  151  1797"
      ]
     },
     "execution_count": 27,
     "metadata": {},
     "output_type": "execute_result"
    }
   ],
   "source": [
    "from sklearn.cluster import AgglomerativeClustering\n",
    "\n",
    "hregroup = AgglomerativeClustering(\n",
    "    n_clusters=10, metric='euclidean', \n",
    "    linkage='ward')\n",
    "hregroup.fit(X)\n",
    "\n",
    "ms = np.column_stack((ground_truth,hregroup.labels_))\n",
    "df = pd.DataFrame(ms, \n",
    "                  columns = ['Données réelles','Clusters'])\n",
    "pd.crosstab(df['Données réelles'], \n",
    "            df['Clusters'], margins=True)"
   ]
  },
  {
   "cell_type": "markdown",
   "id": "b46b5738",
   "metadata": {
    "papermill": {
     "duration": 0.009438,
     "end_time": "2023-05-22T07:11:08.223121",
     "exception": false,
     "start_time": "2023-05-22T07:11:08.213683",
     "status": "completed"
    },
    "tags": []
   },
   "source": [
    "## Visualisation de regroupements agrégatifs"
   ]
  },
  {
   "cell_type": "code",
   "execution_count": 28,
   "id": "db15b4bd",
   "metadata": {
    "execution": {
     "iopub.execute_input": "2023-05-22T07:11:08.244886Z",
     "iopub.status.busy": "2023-05-22T07:11:08.244197Z",
     "iopub.status.idle": "2023-05-22T07:11:08.254987Z",
     "shell.execute_reply": "2023-05-22T07:11:08.253494Z"
    },
    "papermill": {
     "duration": 0.025032,
     "end_time": "2023-05-22T07:11:08.257896",
     "exception": false,
     "start_time": "2023-05-22T07:11:08.232864",
     "status": "completed"
    },
    "tags": []
   },
   "outputs": [
    {
     "data": {
      "text/plain": [
       "array([0, 1, 2, 3, 4, 5, 6, 7, 8, 9])"
      ]
     },
     "execution_count": 28,
     "metadata": {},
     "output_type": "execute_result"
    }
   ],
   "source": [
    "ground_truth[10:20]"
   ]
  },
  {
   "cell_type": "code",
   "execution_count": 29,
   "id": "265b5392",
   "metadata": {
    "execution": {
     "iopub.execute_input": "2023-05-22T07:11:08.280109Z",
     "iopub.status.busy": "2023-05-22T07:11:08.279638Z",
     "iopub.status.idle": "2023-05-22T07:11:09.172264Z",
     "shell.execute_reply": "2023-05-22T07:11:09.170870Z"
    },
    "papermill": {
     "duration": 0.907296,
     "end_time": "2023-05-22T07:11:09.175401",
     "exception": false,
     "start_time": "2023-05-22T07:11:08.268105",
     "status": "completed"
    },
    "tags": []
   },
   "outputs": [
    {
     "data": {
      "image/png": "[encoded data removed]",
      "text/plain": [
       "<Figure size 640x480 with 10 Axes>"
      ]
     },
     "metadata": {},
     "output_type": "display_data"
    }
   ],
   "source": [
    "%matplotlib inline\n",
    "import matplotlib.pyplot as plt\n",
    "\n",
    "for k, img in enumerate(range(10)):\n",
    "    plt.subplot(2, 5, k+1)\n",
    "    plt.imshow(digits.images[10+img], \n",
    "               cmap='binary', \n",
    "               interpolation='none')\n",
    "plt.show()"
   ]
  },
  {
   "cell_type": "code",
   "execution_count": 30,
   "id": "52bad633",
   "metadata": {
    "execution": {
     "iopub.execute_input": "2023-05-22T07:11:09.198085Z",
     "iopub.status.busy": "2023-05-22T07:11:09.197624Z",
     "iopub.status.idle": "2023-05-22T07:11:09.208275Z",
     "shell.execute_reply": "2023-05-22T07:11:09.206826Z"
    },
    "papermill": {
     "duration": 0.025761,
     "end_time": "2023-05-22T07:11:09.211568",
     "exception": false,
     "start_time": "2023-05-22T07:11:09.185807",
     "status": "completed"
    },
    "tags": []
   },
   "outputs": [
    {
     "data": {
      "text/html": [
       "<style>#sk-container-id-2 {color: black;}#sk-container-id-2 pre{padding: 0;}#sk-container-id-2 div.sk-toggleable {background-color: white;}#sk-container-id-2 label.sk-toggleable__label {cursor: pointer;display: block;width: 100%;margin-bottom: 0;padding: 0.3em;box-sizing: border-box;text-align: center;}#sk-container-id-2 label.sk-toggleable__label-arrow:before {content: \"▸\";float: left;margin-right: 0.25em;color: #696969;}#sk-container-id-2 label.sk-toggleable__label-arrow:hover:before {color: black;}#sk-container-id-2 div.sk-estimator:hover label.sk-toggleable__label-arrow:before {color: black;}#sk-container-id-2 div.sk-toggleable__content {max-height: 0;max-width: 0;overflow: hidden;text-align: left;background-color: #f0f8ff;}#sk-container-id-2 div.sk-toggleable__content pre {margin: 0.2em;color: black;border-radius: 0.25em;background-color: #f0f8ff;}#sk-container-id-2 input.sk-toggleable__control:checked~div.sk-toggleable__content {max-height: 200px;max-width: 100%;overflow: auto;}#sk-container-id-2 input.sk-toggleable__control:checked~label.sk-toggleable__label-arrow:before {content: \"▾\";}#sk-container-id-2 div.sk-estimator input.sk-toggleable__control:checked~label.sk-toggleable__label {background-color: #d4ebff;}#sk-container-id-2 div.sk-label input.sk-toggleable__control:checked~label.sk-toggleable__label {background-color: #d4ebff;}#sk-container-id-2 input.sk-hidden--visually {border: 0;clip: rect(1px 1px 1px 1px);clip: rect(1px, 1px, 1px, 1px);height: 1px;margin: -1px;overflow: hidden;padding: 0;position: absolute;width: 1px;}#sk-container-id-2 div.sk-estimator {font-family: monospace;background-color: #f0f8ff;border: 1px dotted black;border-radius: 0.25em;box-sizing: border-box;margin-bottom: 0.5em;}#sk-container-id-2 div.sk-estimator:hover {background-color: #d4ebff;}#sk-container-id-2 div.sk-parallel-item::after {content: \"\";width: 100%;border-bottom: 1px solid gray;flex-grow: 1;}#sk-container-id-2 div.sk-label:hover label.sk-toggleable__label {background-color: #d4ebff;}#sk-container-id-2 div.sk-serial::before {content: \"\";position: absolute;border-left: 1px solid gray;box-sizing: border-box;top: 0;bottom: 0;left: 50%;z-index: 0;}#sk-container-id-2 div.sk-serial {display: flex;flex-direction: column;align-items: center;background-color: white;padding-right: 0.2em;padding-left: 0.2em;position: relative;}#sk-container-id-2 div.sk-item {position: relative;z-index: 1;}#sk-container-id-2 div.sk-parallel {display: flex;align-items: stretch;justify-content: center;background-color: white;position: relative;}#sk-container-id-2 div.sk-item::before, #sk-container-id-2 div.sk-parallel-item::before {content: \"\";position: absolute;border-left: 1px solid gray;box-sizing: border-box;top: 0;bottom: 0;left: 50%;z-index: -1;}#sk-container-id-2 div.sk-parallel-item {display: flex;flex-direction: column;z-index: 1;position: relative;background-color: white;}#sk-container-id-2 div.sk-parallel-item:first-child::after {align-self: flex-end;width: 50%;}#sk-container-id-2 div.sk-parallel-item:last-child::after {align-self: flex-start;width: 50%;}#sk-container-id-2 div.sk-parallel-item:only-child::after {width: 0;}#sk-container-id-2 div.sk-dashed-wrapped {border: 1px dashed gray;margin: 0 0.4em 0.5em 0.4em;box-sizing: border-box;padding-bottom: 0.4em;background-color: white;}#sk-container-id-2 div.sk-label label {font-family: monospace;font-weight: bold;display: inline-block;line-height: 1.2em;}#sk-container-id-2 div.sk-label-container {text-align: center;}#sk-container-id-2 div.sk-container {/* jupyter's `normalize.less` sets `[hidden] { display: none; }` but bootstrap.min.css set `[hidden] { display: none !important; }` so we also need the `!important` here to be able to override the default hidden behavior on the sphinx rendered scikit-learn.org. See: https://github.com/scikit-learn/scikit-learn/issues/21755 */display: inline-block !important;position: relative;}#sk-container-id-2 div.sk-text-repr-fallback {display: none;}</style><div id=\"sk-container-id-2\" class=\"sk-top-container\"><div class=\"sk-text-repr-fallback\"><pre>AgglomerativeClustering(metric=&#x27;euclidean&#x27;, n_clusters=10)</pre><b>In a Jupyter environment, please rerun this cell to show the HTML representation or trust the notebook. <br />On GitHub, the HTML representation is unable to render, please try loading this page with nbviewer.org.</b></div><div class=\"sk-container\" hidden><div class=\"sk-item\"><div class=\"sk-estimator sk-toggleable\"><input class=\"sk-toggleable__control sk-hidden--visually\" id=\"sk-estimator-id-2\" type=\"checkbox\" checked><label for=\"sk-estimator-id-2\" class=\"sk-toggleable__label sk-toggleable__label-arrow\">AgglomerativeClustering</label><div class=\"sk-toggleable__content\"><pre>AgglomerativeClustering(metric=&#x27;euclidean&#x27;, n_clusters=10)</pre></div></div></div></div></div>"
      ],
      "text/plain": [
       "AgglomerativeClustering(metric='euclidean', n_clusters=10)"
      ]
     },
     "execution_count": 30,
     "metadata": {},
     "output_type": "execute_result"
    }
   ],
   "source": [
    "hregroup = AgglomerativeClustering(\n",
    "    n_clusters=10, metric='euclidean',\n",
    "    linkage='ward')\n",
    "hregroup.fit(X[10:20, :])"
   ]
  },
  {
   "cell_type": "code",
   "execution_count": 31,
   "id": "d8dc93a1",
   "metadata": {
    "execution": {
     "iopub.execute_input": "2023-05-22T07:11:09.235368Z",
     "iopub.status.busy": "2023-05-22T07:11:09.234945Z",
     "iopub.status.idle": "2023-05-22T07:11:09.509310Z",
     "shell.execute_reply": "2023-05-22T07:11:09.507899Z"
    },
    "papermill": {
     "duration": 0.28992,
     "end_time": "2023-05-22T07:11:09.512183",
     "exception": false,
     "start_time": "2023-05-22T07:11:09.222263",
     "status": "completed"
    },
    "tags": []
   },
   "outputs": [
    {
     "data": {
      "image/png": "[encoded data removed]",
      "text/plain": [
       "<Figure size 640x480 with 1 Axes>"
      ]
     },
     "metadata": {},
     "output_type": "display_data"
    }
   ],
   "source": [
    "from scipy.cluster.hierarchy import dendrogram, linkage\n",
    "# https://docs.scipy.org/doc/scipy/reference/generated/scipy.cluster.hierarchy.dendrogram.html\n",
    "\n",
    "linkage_matrix = linkage(hregroup.children_, 'ward')\n",
    "\n",
    "dendrogram(linkage_matrix)\n",
    "plt.title('Dendrogramme de regroupement hiérarchique')\n",
    "plt.show()"
   ]
  },
  {
   "cell_type": "markdown",
   "id": "ed3f99e7",
   "metadata": {
    "papermill": {
     "duration": 0.011023,
     "end_time": "2023-05-22T07:11:09.534226",
     "exception": false,
     "start_time": "2023-05-22T07:11:09.523203",
     "status": "completed"
    },
    "tags": []
   },
   "source": [
    "# Détection de nouveaux groupes avec DBScan"
   ]
  },
  {
   "cell_type": "code",
   "execution_count": 25,
   "id": "cd9fa0ae",
   "metadata": {
    "execution": {
     "iopub.execute_input": "2023-05-22T07:11:09.558473Z",
     "iopub.status.busy": "2023-05-22T07:11:09.557690Z",
     "iopub.status.idle": "2023-05-22T07:11:09.661146Z",
     "shell.execute_reply": "2023-05-22T07:11:09.659219Z"
    },
    "papermill": {
     "duration": 0.121127,
     "end_time": "2023-05-22T07:11:09.666238",
     "exception": false,
     "start_time": "2023-05-22T07:11:09.545111",
     "status": "completed"
    },
    "tags": []
   },
   "outputs": [
    {
     "name": "stdout",
     "output_type": "stream",
     "text": [
      "Nombre de clusters: 10\n"
     ]
    }
   ],
   "source": [
    "from sklearn.cluster import DBSCAN\n",
    "\n",
    "db = DBSCAN(eps=4.5, min_samples=20)\n",
    "db.fit(X)\n",
    "\n",
    "print(f\"Nombre de clusters: {len(np.unique(db.labels_))}\")"
   ]
  },
  {
   "cell_type": "code",
   "execution_count": 26,
   "id": "3247e309",
   "metadata": {
    "execution": {
     "iopub.execute_input": "2023-05-22T07:11:09.706692Z",
     "iopub.status.busy": "2023-05-22T07:11:09.706252Z",
     "iopub.status.idle": "2023-05-22T07:11:09.770883Z",
     "shell.execute_reply": "2023-05-22T07:11:09.769257Z"
    },
    "papermill": {
     "duration": 0.084707,
     "end_time": "2023-05-22T07:11:09.773864",
     "exception": false,
     "start_time": "2023-05-22T07:11:09.689157",
     "status": "completed"
    },
    "tags": []
   },
   "outputs": [
    {
     "name": "stdout",
     "output_type": "stream",
     "text": [
      "Nombre de clusters: 10\n",
      "Counter({-1: 1032, 0: 172, 1: 157, 4: 111, 3: 95, 5: 90, 7: 64, 6: 35, 2: 21, 8: 20})\n"
     ]
    },
    {
     "data": {
      "text/html": [
       "<div>\n",
       "<style scoped>\n",
       "    .dataframe tbody tr th:only-of-type {\n",
       "        vertical-align: middle;\n",
       "    }\n",
       "\n",
       "    .dataframe tbody tr th {\n",
       "        vertical-align: top;\n",
       "    }\n",
       "\n",
       "    .dataframe thead th {\n",
       "        text-align: right;\n",
       "    }\n",
       "</style>\n",
       "<table border=\"1\" class=\"dataframe\">\n",
       "  <thead>\n",
       "    <tr style=\"text-align: right;\">\n",
       "      <th>Clusters</th>\n",
       "      <th>-1</th>\n",
       "      <th>0</th>\n",
       "      <th>1</th>\n",
       "      <th>2</th>\n",
       "      <th>3</th>\n",
       "      <th>4</th>\n",
       "      <th>5</th>\n",
       "      <th>6</th>\n",
       "      <th>7</th>\n",
       "      <th>8</th>\n",
       "      <th>All</th>\n",
       "    </tr>\n",
       "    <tr>\n",
       "      <th>Données réelles</th>\n",
       "      <th></th>\n",
       "      <th></th>\n",
       "      <th></th>\n",
       "      <th></th>\n",
       "      <th></th>\n",
       "      <th></th>\n",
       "      <th></th>\n",
       "      <th></th>\n",
       "      <th></th>\n",
       "      <th></th>\n",
       "      <th></th>\n",
       "    </tr>\n",
       "  </thead>\n",
       "  <tbody>\n",
       "    <tr>\n",
       "      <th>0</th>\n",
       "      <td>6</td>\n",
       "      <td>172</td>\n",
       "      <td>0</td>\n",
       "      <td>0</td>\n",
       "      <td>0</td>\n",
       "      <td>0</td>\n",
       "      <td>0</td>\n",
       "      <td>0</td>\n",
       "      <td>0</td>\n",
       "      <td>0</td>\n",
       "      <td>178</td>\n",
       "    </tr>\n",
       "    <tr>\n",
       "      <th>1</th>\n",
       "      <td>73</td>\n",
       "      <td>0</td>\n",
       "      <td>0</td>\n",
       "      <td>20</td>\n",
       "      <td>0</td>\n",
       "      <td>89</td>\n",
       "      <td>0</td>\n",
       "      <td>0</td>\n",
       "      <td>0</td>\n",
       "      <td>0</td>\n",
       "      <td>182</td>\n",
       "    </tr>\n",
       "    <tr>\n",
       "      <th>2</th>\n",
       "      <td>175</td>\n",
       "      <td>0</td>\n",
       "      <td>0</td>\n",
       "      <td>0</td>\n",
       "      <td>0</td>\n",
       "      <td>2</td>\n",
       "      <td>0</td>\n",
       "      <td>0</td>\n",
       "      <td>0</td>\n",
       "      <td>0</td>\n",
       "      <td>177</td>\n",
       "    </tr>\n",
       "    <tr>\n",
       "      <th>3</th>\n",
       "      <td>94</td>\n",
       "      <td>0</td>\n",
       "      <td>0</td>\n",
       "      <td>0</td>\n",
       "      <td>0</td>\n",
       "      <td>0</td>\n",
       "      <td>89</td>\n",
       "      <td>0</td>\n",
       "      <td>0</td>\n",
       "      <td>0</td>\n",
       "      <td>183</td>\n",
       "    </tr>\n",
       "    <tr>\n",
       "      <th>4</th>\n",
       "      <td>126</td>\n",
       "      <td>0</td>\n",
       "      <td>0</td>\n",
       "      <td>0</td>\n",
       "      <td>0</td>\n",
       "      <td>0</td>\n",
       "      <td>0</td>\n",
       "      <td>35</td>\n",
       "      <td>0</td>\n",
       "      <td>20</td>\n",
       "      <td>181</td>\n",
       "    </tr>\n",
       "    <tr>\n",
       "      <th>5</th>\n",
       "      <td>179</td>\n",
       "      <td>0</td>\n",
       "      <td>1</td>\n",
       "      <td>0</td>\n",
       "      <td>0</td>\n",
       "      <td>0</td>\n",
       "      <td>0</td>\n",
       "      <td>0</td>\n",
       "      <td>2</td>\n",
       "      <td>0</td>\n",
       "      <td>182</td>\n",
       "    </tr>\n",
       "    <tr>\n",
       "      <th>6</th>\n",
       "      <td>25</td>\n",
       "      <td>0</td>\n",
       "      <td>156</td>\n",
       "      <td>0</td>\n",
       "      <td>0</td>\n",
       "      <td>0</td>\n",
       "      <td>0</td>\n",
       "      <td>0</td>\n",
       "      <td>0</td>\n",
       "      <td>0</td>\n",
       "      <td>181</td>\n",
       "    </tr>\n",
       "    <tr>\n",
       "      <th>7</th>\n",
       "      <td>84</td>\n",
       "      <td>0</td>\n",
       "      <td>0</td>\n",
       "      <td>0</td>\n",
       "      <td>95</td>\n",
       "      <td>0</td>\n",
       "      <td>0</td>\n",
       "      <td>0</td>\n",
       "      <td>0</td>\n",
       "      <td>0</td>\n",
       "      <td>179</td>\n",
       "    </tr>\n",
       "    <tr>\n",
       "      <th>8</th>\n",
       "      <td>154</td>\n",
       "      <td>0</td>\n",
       "      <td>0</td>\n",
       "      <td>0</td>\n",
       "      <td>0</td>\n",
       "      <td>20</td>\n",
       "      <td>0</td>\n",
       "      <td>0</td>\n",
       "      <td>0</td>\n",
       "      <td>0</td>\n",
       "      <td>174</td>\n",
       "    </tr>\n",
       "    <tr>\n",
       "      <th>9</th>\n",
       "      <td>116</td>\n",
       "      <td>0</td>\n",
       "      <td>0</td>\n",
       "      <td>1</td>\n",
       "      <td>0</td>\n",
       "      <td>0</td>\n",
       "      <td>1</td>\n",
       "      <td>0</td>\n",
       "      <td>62</td>\n",
       "      <td>0</td>\n",
       "      <td>180</td>\n",
       "    </tr>\n",
       "    <tr>\n",
       "      <th>All</th>\n",
       "      <td>1032</td>\n",
       "      <td>172</td>\n",
       "      <td>157</td>\n",
       "      <td>21</td>\n",
       "      <td>95</td>\n",
       "      <td>111</td>\n",
       "      <td>90</td>\n",
       "      <td>35</td>\n",
       "      <td>64</td>\n",
       "      <td>20</td>\n",
       "      <td>1797</td>\n",
       "    </tr>\n",
       "  </tbody>\n",
       "</table>\n",
       "</div>"
      ],
      "text/plain": [
       "Clusters           -1    0    1   2   3    4   5   6   7   8   All\n",
       "Données réelles                                                   \n",
       "0                   6  172    0   0   0    0   0   0   0   0   178\n",
       "1                  73    0    0  20   0   89   0   0   0   0   182\n",
       "2                 175    0    0   0   0    2   0   0   0   0   177\n",
       "3                  94    0    0   0   0    0  89   0   0   0   183\n",
       "4                 126    0    0   0   0    0   0  35   0  20   181\n",
       "5                 179    0    1   0   0    0   0   0   2   0   182\n",
       "6                  25    0  156   0   0    0   0   0   0   0   181\n",
       "7                  84    0    0   0  95    0   0   0   0   0   179\n",
       "8                 154    0    0   0   0   20   0   0   0   0   174\n",
       "9                 116    0    0   1   0    0   1   0  62   0   180\n",
       "All              1032  172  157  21  95  111  90  35  64  20  1797"
      ]
     },
     "execution_count": 26,
     "metadata": {},
     "output_type": "execute_result"
    }
   ],
   "source": [
    "from collections import Counter\n",
    "print(f\"Nombre de clusters: {len(np.unique(db.labels_))}\")\n",
    "print(Counter(db.labels_))\n",
    "\n",
    "ms = np.column_stack((ground_truth, db.labels_))\n",
    "df = pd.DataFrame(ms, \n",
    "                  columns = ['Données réelles', 'Clusters'])\n",
    "\n",
    "pd.crosstab(df['Données réelles'], \n",
    "            df['Clusters'], margins=True)"
   ]
  },
  {
   "cell_type": "code",
   "execution_count": null,
   "id": "05e30c1d",
   "metadata": {},
   "outputs": [],
   "source": []
  }
 ],
 "metadata": {
  "kernelspec": {
   "display_name": "Python 3 (ipykernel)",
   "language": "python",
   "name": "python3"
  },
  "language_info": {
   "codemirror_mode": {
    "name": "ipython",
    "version": 3
   },
   "file_extension": ".py",
   "mimetype": "text/x-python",
   "name": "python",
   "nbconvert_exporter": "python",
   "pygments_lexer": "ipython3",
   "version": "3.11.5"
  },
  "papermill": {
   "default_parameters": {},
   "duration": 57.469207,
   "end_time": "2023-05-22T07:11:10.710493",
   "environment_variables": {},
   "exception": null,
   "input_path": "__notebook__.ipynb",
   "output_path": "__notebook__.ipynb",
   "parameters": {},
   "start_time": "2023-05-22T07:10:13.241286",
   "version": "2.4.0"
  }
 },
 "nbformat": 4,
 "nbformat_minor": 5
}
