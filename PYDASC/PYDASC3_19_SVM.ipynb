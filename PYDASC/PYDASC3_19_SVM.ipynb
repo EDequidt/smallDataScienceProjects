{
  "cells": [
    {
      "cell_type": "markdown",
      "id": "3563a9bb",
      "metadata": {
        "papermill": {
          "duration": 0.020393,
          "end_time": "2023-05-13T06:39:45.997136",
          "exception": false,
          "start_time": "2023-05-13T06:39:45.976743",
          "status": "completed"
        },
        "tags": [],
        "id": "3563a9bb"
      },
      "source": [
        "# 19 bis : Machines à vecteurs de support (SVM)"
      ]
    },
    {
      "cell_type": "markdown",
      "id": "32e9a4f2",
      "metadata": {
        "papermill": {
          "duration": 0.020381,
          "end_time": "2023-05-13T06:39:46.038395",
          "exception": false,
          "start_time": "2023-05-13T06:39:46.018014",
          "status": "completed"
        },
        "tags": [],
        "id": "32e9a4f2"
      },
      "source": [
        "## Classification SVC"
      ]
    },
    {
      "cell_type": "code",
      "execution_count": 6,
      "id": "46825996",
      "metadata": {
        "execution": {
          "iopub.execute_input": "2023-05-13T06:39:46.081959Z",
          "iopub.status.busy": "2023-05-13T06:39:46.081390Z",
          "iopub.status.idle": "2023-05-13T06:39:46.208956Z",
          "shell.execute_reply": "2023-05-13T06:39:46.207573Z"
        },
        "papermill": {
          "duration": 0.153631,
          "end_time": "2023-05-13T06:39:46.212586",
          "exception": false,
          "start_time": "2023-05-13T06:39:46.058955",
          "status": "completed"
        },
        "tags": [],
        "id": "46825996"
      },
      "outputs": [],
      "source": [
        "import numpy as np\n",
        "from sklearn import datasets\n",
        "digits = datasets.load_digits()\n",
        "X, y = digits.data, digits.target"
      ]
    },
    {
      "cell_type": "code",
      "execution_count": 7,
      "id": "fbb02683",
      "metadata": {
        "execution": {
          "iopub.execute_input": "2023-05-13T06:39:46.255900Z",
          "iopub.status.busy": "2023-05-13T06:39:46.255349Z",
          "iopub.status.idle": "2023-05-13T06:39:47.167822Z",
          "shell.execute_reply": "2023-05-13T06:39:47.166299Z"
        },
        "papermill": {
          "duration": 0.937859,
          "end_time": "2023-05-13T06:39:47.170946",
          "exception": false,
          "start_time": "2023-05-13T06:39:46.233087",
          "status": "completed"
        },
        "tags": [],
        "id": "fbb02683",
        "outputId": "e09c52e5-2a7b-4094-ca14-65465f3d46c7",
        "colab": {
          "base_uri": "https://localhost:8080/",
          "height": 347
        }
      },
      "outputs": [
        {
          "output_type": "display_data",
          "data": {
            "text/plain": [
              "<Figure size 640x480 with 10 Axes>"
            ],
            "image/png": "[encoded data removed]"
          },
          "metadata": {}
        }
      ],
      "source": [
        "import matplotlib.pyplot as plt\n",
        "%matplotlib inline\n",
        "\n",
        "for k,img in enumerate(range(10)):\n",
        "    plt.subplot(2, 5, k+1)\n",
        "    plt.imshow(digits.images[img],\n",
        "               cmap='binary',\n",
        "               interpolation='none')\n",
        "plt.show()"
      ]
    },
    {
      "cell_type": "code",
      "execution_count": 8,
      "id": "e91225a0",
      "metadata": {
        "execution": {
          "iopub.execute_input": "2023-05-13T06:39:47.216430Z",
          "iopub.status.busy": "2023-05-13T06:39:47.215510Z",
          "iopub.status.idle": "2023-05-13T06:39:47.225055Z",
          "shell.execute_reply": "2023-05-13T06:39:47.223427Z"
        },
        "papermill": {
          "duration": 0.036688,
          "end_time": "2023-05-13T06:39:47.228946",
          "exception": false,
          "start_time": "2023-05-13T06:39:47.192258",
          "status": "completed"
        },
        "tags": [],
        "id": "e91225a0",
        "outputId": "e8a60377-24ef-40cc-cf6e-7932b53f45e5",
        "colab": {
          "base_uri": "https://localhost:8080/"
        }
      },
      "outputs": [
        {
          "output_type": "stream",
          "name": "stdout",
          "text": [
            "[ 0.  0.  5. 13.  9.  1.  0.  0.  0.  0. 13. 15. 10. 15.  5.  0.  0.  3.\n",
            " 15.  2.  0. 11.  8.  0.  0.  4. 12.  0.  0.  8.  8.  0.  0.  5.  8.  0.\n",
            "  0.  9.  8.  0.  0.  4. 11.  0.  1. 12.  7.  0.  0.  2. 14.  5. 10. 12.\n",
            "  0.  0.  0.  0.  6. 13. 10.  0.  0.  0.]\n"
          ]
        }
      ],
      "source": [
        "print(X[0])"
      ]
    },
    {
      "cell_type": "code",
      "execution_count": 9,
      "id": "3a101136",
      "metadata": {
        "execution": {
          "iopub.execute_input": "2023-05-13T06:39:47.274765Z",
          "iopub.status.busy": "2023-05-13T06:39:47.274187Z",
          "iopub.status.idle": "2023-05-13T06:39:47.283790Z",
          "shell.execute_reply": "2023-05-13T06:39:47.282109Z"
        },
        "papermill": {
          "duration": 0.036113,
          "end_time": "2023-05-13T06:39:47.286745",
          "exception": false,
          "start_time": "2023-05-13T06:39:47.250632",
          "status": "completed"
        },
        "tags": [],
        "id": "3a101136",
        "outputId": "f66e1f93-79a9-4aba-cb41-e3ab5531171c",
        "colab": {
          "base_uri": "https://localhost:8080/"
        }
      },
      "outputs": [
        {
          "output_type": "stream",
          "name": "stdout",
          "text": [
            "[[ 0.  0.  5. 13.  9.  1.  0.  0.]\n",
            " [ 0.  0. 13. 15. 10. 15.  5.  0.]\n",
            " [ 0.  3. 15.  2.  0. 11.  8.  0.]\n",
            " [ 0.  4. 12.  0.  0.  8.  8.  0.]\n",
            " [ 0.  5.  8.  0.  0.  9.  8.  0.]\n",
            " [ 0.  4. 11.  0.  1. 12.  7.  0.]\n",
            " [ 0.  2. 14.  5. 10. 12.  0.  0.]\n",
            " [ 0.  0.  6. 13. 10.  0.  0.  0.]]\n"
          ]
        }
      ],
      "source": [
        "print(X[0].reshape(8,8))"
      ]
    },
    {
      "cell_type": "code",
      "execution_count": 10,
      "id": "951fbf47",
      "metadata": {
        "execution": {
          "iopub.execute_input": "2023-05-13T06:39:47.334202Z",
          "iopub.status.busy": "2023-05-13T06:39:47.333673Z",
          "iopub.status.idle": "2023-05-13T06:39:47.342937Z",
          "shell.execute_reply": "2023-05-13T06:39:47.341459Z"
        },
        "papermill": {
          "duration": 0.037391,
          "end_time": "2023-05-13T06:39:47.346157",
          "exception": false,
          "start_time": "2023-05-13T06:39:47.308766",
          "status": "completed"
        },
        "tags": [],
        "id": "951fbf47",
        "outputId": "64ecf7bc-775f-4cb4-aea5-062bfe67dd3f",
        "colab": {
          "base_uri": "https://localhost:8080/"
        }
      },
      "outputs": [
        {
          "output_type": "execute_result",
          "data": {
            "text/plain": [
              "(array([0, 1, 2, 3, 4, 5, 6, 7, 8, 9]),\n",
              " array([178, 182, 177, 183, 181, 182, 181, 179, 174, 180]))"
            ]
          },
          "metadata": {},
          "execution_count": 10
        }
      ],
      "source": [
        "np.unique(y, return_counts=True)"
      ]
    },
    {
      "cell_type": "code",
      "execution_count": 11,
      "id": "29d9cf6d",
      "metadata": {
        "execution": {
          "iopub.execute_input": "2023-05-13T06:39:47.392105Z",
          "iopub.status.busy": "2023-05-13T06:39:47.391593Z",
          "iopub.status.idle": "2023-05-13T06:39:47.400498Z",
          "shell.execute_reply": "2023-05-13T06:39:47.398867Z"
        },
        "papermill": {
          "duration": 0.035654,
          "end_time": "2023-05-13T06:39:47.403693",
          "exception": false,
          "start_time": "2023-05-13T06:39:47.368039",
          "status": "completed"
        },
        "tags": [],
        "id": "29d9cf6d"
      },
      "outputs": [],
      "source": [
        "from sklearn.model_selection import train_test_split\n",
        "from sklearn.model_selection import cross_val_score\n",
        "from sklearn.preprocessing import MinMaxScaler\n",
        "X_tr, X_t, y_tr, y_t = train_test_split(\n",
        "    X, y, test_size=0.3, random_state=0)"
      ]
    },
    {
      "cell_type": "code",
      "execution_count": 12,
      "id": "4b9e1298",
      "metadata": {
        "execution": {
          "iopub.execute_input": "2023-05-13T06:39:47.449420Z",
          "iopub.status.busy": "2023-05-13T06:39:47.448885Z",
          "iopub.status.idle": "2023-05-13T06:39:47.458861Z",
          "shell.execute_reply": "2023-05-13T06:39:47.457454Z"
        },
        "papermill": {
          "duration": 0.036532,
          "end_time": "2023-05-13T06:39:47.462012",
          "exception": false,
          "start_time": "2023-05-13T06:39:47.425480",
          "status": "completed"
        },
        "tags": [],
        "id": "4b9e1298"
      },
      "outputs": [],
      "source": [
        "scaling = MinMaxScaler(feature_range=(-1, 1)).fit(X_tr)\n",
        "X_tr = scaling.transform(X_tr)\n",
        "X_t = scaling.transform(X_t)"
      ]
    },
    {
      "cell_type": "code",
      "execution_count": 13,
      "id": "ba94811c",
      "metadata": {
        "execution": {
          "iopub.execute_input": "2023-05-13T06:39:47.508660Z",
          "iopub.status.busy": "2023-05-13T06:39:47.508083Z",
          "iopub.status.idle": "2023-05-13T06:39:47.515325Z",
          "shell.execute_reply": "2023-05-13T06:39:47.513750Z"
        },
        "papermill": {
          "duration": 0.033879,
          "end_time": "2023-05-13T06:39:47.518186",
          "exception": false,
          "start_time": "2023-05-13T06:39:47.484307",
          "status": "completed"
        },
        "tags": [],
        "id": "ba94811c"
      },
      "outputs": [],
      "source": [
        "from sklearn.svm import SVC\n",
        "svc = SVC(kernel='linear',\n",
        "          class_weight='balanced')"
      ]
    },
    {
      "cell_type": "code",
      "execution_count": 14,
      "id": "610857f8",
      "metadata": {
        "execution": {
          "iopub.execute_input": "2023-05-13T06:39:47.564613Z",
          "iopub.status.busy": "2023-05-13T06:39:47.563071Z",
          "iopub.status.idle": "2023-05-13T06:39:47.852260Z",
          "shell.execute_reply": "2023-05-13T06:39:47.850771Z"
        },
        "papermill": {
          "duration": 0.316008,
          "end_time": "2023-05-13T06:39:47.855693",
          "exception": false,
          "start_time": "2023-05-13T06:39:47.539685",
          "status": "completed"
        },
        "tags": [],
        "id": "610857f8"
      },
      "outputs": [],
      "source": [
        "cv = cross_val_score(svc, X_tr, y_tr, cv=10)\n",
        "test_score = svc.fit(X_tr, y_tr).score(X_t, y_t)"
      ]
    },
    {
      "cell_type": "code",
      "execution_count": 15,
      "id": "9cfff61b",
      "metadata": {
        "execution": {
          "iopub.execute_input": "2023-05-13T06:39:47.903698Z",
          "iopub.status.busy": "2023-05-13T06:39:47.902354Z",
          "iopub.status.idle": "2023-05-13T06:39:47.911010Z",
          "shell.execute_reply": "2023-05-13T06:39:47.909401Z"
        },
        "papermill": {
          "duration": 0.036962,
          "end_time": "2023-05-13T06:39:47.914262",
          "exception": false,
          "start_time": "2023-05-13T06:39:47.877300",
          "status": "completed"
        },
        "tags": [],
        "id": "9cfff61b",
        "outputId": "3d64323f-8535-4226-d23d-dccc664728e8",
        "colab": {
          "base_uri": "https://localhost:8080/"
        }
      },
      "outputs": [
        {
          "output_type": "stream",
          "name": "stdout",
          "text": [
            "Score exactitude CV: 0.981\n",
            "Score exactitude Test: 0.976\n"
          ]
        }
      ],
      "source": [
        "print(f'Score exactitude CV: {np.mean(cv):.3f}')\n",
        "print(f'Score exactitude Test: {test_score:.3f}')"
      ]
    },
    {
      "cell_type": "code",
      "execution_count": 15,
      "id": "d9657310",
      "metadata": {
        "id": "d9657310"
      },
      "outputs": [],
      "source": []
    },
    {
      "cell_type": "code",
      "execution_count": 16,
      "id": "e7350ec1",
      "metadata": {
        "execution": {
          "iopub.execute_input": "2023-05-13T06:39:47.962151Z",
          "iopub.status.busy": "2023-05-13T06:39:47.960663Z",
          "iopub.status.idle": "2023-05-13T06:39:54.059566Z",
          "shell.execute_reply": "2023-05-13T06:39:54.057921Z"
        },
        "papermill": {
          "duration": 6.125468,
          "end_time": "2023-05-13T06:39:54.062527",
          "exception": false,
          "start_time": "2023-05-13T06:39:47.937059",
          "status": "completed"
        },
        "tags": [],
        "id": "e7350ec1",
        "outputId": "7e245076-2144-40a7-ca9c-01fdd52eeefa",
        "colab": {
          "base_uri": "https://localhost:8080/",
          "height": 140
        }
      },
      "outputs": [
        {
          "output_type": "execute_result",
          "data": {
            "text/plain": [
              "GridSearchCV(cv=10, estimator=SVC(class_weight='balanced', random_state=1),\n",
              "             param_grid={'C': array([1.e-03, 1.e-02, 1.e-01, 1.e+00, 1.e+01, 1.e+02, 1.e+03])},\n",
              "             scoring='accuracy')"
            ],
            "text/html": [
              "<style>#sk-container-id-1 {color: black;background-color: white;}#sk-container-id-1 pre{padding: 0;}#sk-container-id-1 div.sk-toggleable {background-color: white;}#sk-container-id-1 label.sk-toggleable__label {cursor: pointer;display: block;width: 100%;margin-bottom: 0;padding: 0.3em;box-sizing: border-box;text-align: center;}#sk-container-id-1 label.sk-toggleable__label-arrow:before {content: \"▸\";float: left;margin-right: 0.25em;color: #696969;}#sk-container-id-1 label.sk-toggleable__label-arrow:hover:before {color: black;}#sk-container-id-1 div.sk-estimator:hover label.sk-toggleable__label-arrow:before {color: black;}#sk-container-id-1 div.sk-toggleable__content {max-height: 0;max-width: 0;overflow: hidden;text-align: left;background-color: #f0f8ff;}#sk-container-id-1 div.sk-toggleable__content pre {margin: 0.2em;color: black;border-radius: 0.25em;background-color: #f0f8ff;}#sk-container-id-1 input.sk-toggleable__control:checked~div.sk-toggleable__content {max-height: 200px;max-width: 100%;overflow: auto;}#sk-container-id-1 input.sk-toggleable__control:checked~label.sk-toggleable__label-arrow:before {content: \"▾\";}#sk-container-id-1 div.sk-estimator input.sk-toggleable__control:checked~label.sk-toggleable__label {background-color: #d4ebff;}#sk-container-id-1 div.sk-label input.sk-toggleable__control:checked~label.sk-toggleable__label {background-color: #d4ebff;}#sk-container-id-1 input.sk-hidden--visually {border: 0;clip: rect(1px 1px 1px 1px);clip: rect(1px, 1px, 1px, 1px);height: 1px;margin: -1px;overflow: hidden;padding: 0;position: absolute;width: 1px;}#sk-container-id-1 div.sk-estimator {font-family: monospace;background-color: #f0f8ff;border: 1px dotted black;border-radius: 0.25em;box-sizing: border-box;margin-bottom: 0.5em;}#sk-container-id-1 div.sk-estimator:hover {background-color: #d4ebff;}#sk-container-id-1 div.sk-parallel-item::after {content: \"\";width: 100%;border-bottom: 1px solid gray;flex-grow: 1;}#sk-container-id-1 div.sk-label:hover label.sk-toggleable__label {background-color: #d4ebff;}#sk-container-id-1 div.sk-serial::before {content: \"\";position: absolute;border-left: 1px solid gray;box-sizing: border-box;top: 0;bottom: 0;left: 50%;z-index: 0;}#sk-container-id-1 div.sk-serial {display: flex;flex-direction: column;align-items: center;background-color: white;padding-right: 0.2em;padding-left: 0.2em;position: relative;}#sk-container-id-1 div.sk-item {position: relative;z-index: 1;}#sk-container-id-1 div.sk-parallel {display: flex;align-items: stretch;justify-content: center;background-color: white;position: relative;}#sk-container-id-1 div.sk-item::before, #sk-container-id-1 div.sk-parallel-item::before {content: \"\";position: absolute;border-left: 1px solid gray;box-sizing: border-box;top: 0;bottom: 0;left: 50%;z-index: -1;}#sk-container-id-1 div.sk-parallel-item {display: flex;flex-direction: column;z-index: 1;position: relative;background-color: white;}#sk-container-id-1 div.sk-parallel-item:first-child::after {align-self: flex-end;width: 50%;}#sk-container-id-1 div.sk-parallel-item:last-child::after {align-self: flex-start;width: 50%;}#sk-container-id-1 div.sk-parallel-item:only-child::after {width: 0;}#sk-container-id-1 div.sk-dashed-wrapped {border: 1px dashed gray;margin: 0 0.4em 0.5em 0.4em;box-sizing: border-box;padding-bottom: 0.4em;background-color: white;}#sk-container-id-1 div.sk-label label {font-family: monospace;font-weight: bold;display: inline-block;line-height: 1.2em;}#sk-container-id-1 div.sk-label-container {text-align: center;}#sk-container-id-1 div.sk-container {/* jupyter's `normalize.less` sets `[hidden] { display: none; }` but bootstrap.min.css set `[hidden] { display: none !important; }` so we also need the `!important` here to be able to override the default hidden behavior on the sphinx rendered scikit-learn.org. See: https://github.com/scikit-learn/scikit-learn/issues/21755 */display: inline-block !important;position: relative;}#sk-container-id-1 div.sk-text-repr-fallback {display: none;}</style><div id=\"sk-container-id-1\" class=\"sk-top-container\"><div class=\"sk-text-repr-fallback\"><pre>GridSearchCV(cv=10, estimator=SVC(class_weight=&#x27;balanced&#x27;, random_state=1),\n",
              "             param_grid={&#x27;C&#x27;: array([1.e-03, 1.e-02, 1.e-01, 1.e+00, 1.e+01, 1.e+02, 1.e+03])},\n",
              "             scoring=&#x27;accuracy&#x27;)</pre><b>In a Jupyter environment, please rerun this cell to show the HTML representation or trust the notebook. <br />On GitHub, the HTML representation is unable to render, please try loading this page with nbviewer.org.</b></div><div class=\"sk-container\" hidden><div class=\"sk-item sk-dashed-wrapped\"><div class=\"sk-label-container\"><div class=\"sk-label sk-toggleable\"><input class=\"sk-toggleable__control sk-hidden--visually\" id=\"sk-estimator-id-1\" type=\"checkbox\" ><label for=\"sk-estimator-id-1\" class=\"sk-toggleable__label sk-toggleable__label-arrow\">GridSearchCV</label><div class=\"sk-toggleable__content\"><pre>GridSearchCV(cv=10, estimator=SVC(class_weight=&#x27;balanced&#x27;, random_state=1),\n",
              "             param_grid={&#x27;C&#x27;: array([1.e-03, 1.e-02, 1.e-01, 1.e+00, 1.e+01, 1.e+02, 1.e+03])},\n",
              "             scoring=&#x27;accuracy&#x27;)</pre></div></div></div><div class=\"sk-parallel\"><div class=\"sk-parallel-item\"><div class=\"sk-item\"><div class=\"sk-label-container\"><div class=\"sk-label sk-toggleable\"><input class=\"sk-toggleable__control sk-hidden--visually\" id=\"sk-estimator-id-2\" type=\"checkbox\" ><label for=\"sk-estimator-id-2\" class=\"sk-toggleable__label sk-toggleable__label-arrow\">estimator: SVC</label><div class=\"sk-toggleable__content\"><pre>SVC(class_weight=&#x27;balanced&#x27;, random_state=1)</pre></div></div></div><div class=\"sk-serial\"><div class=\"sk-item\"><div class=\"sk-estimator sk-toggleable\"><input class=\"sk-toggleable__control sk-hidden--visually\" id=\"sk-estimator-id-3\" type=\"checkbox\" ><label for=\"sk-estimator-id-3\" class=\"sk-toggleable__label sk-toggleable__label-arrow\">SVC</label><div class=\"sk-toggleable__content\"><pre>SVC(class_weight=&#x27;balanced&#x27;, random_state=1)</pre></div></div></div></div></div></div></div></div></div></div>"
            ]
          },
          "metadata": {},
          "execution_count": 16
        }
      ],
      "source": [
        "from sklearn.model_selection  import GridSearchCV\n",
        "svc = SVC(class_weight='balanced', random_state=1)\n",
        "search_space = {'C': np.logspace(-3, 3, 7)}\n",
        "gridsearch = GridSearchCV(svc,\n",
        "                          param_grid=search_space,\n",
        "                          scoring='accuracy',\n",
        "                          refit=True, cv=10)\n",
        "gridsearch.fit(X_tr,y_tr)"
      ]
    },
    {
      "cell_type": "code",
      "execution_count": 17,
      "id": "fc72bd3c",
      "metadata": {
        "execution": {
          "iopub.execute_input": "2023-05-13T06:39:54.110450Z",
          "iopub.status.busy": "2023-05-13T06:39:54.109158Z",
          "iopub.status.idle": "2023-05-13T06:39:54.151344Z",
          "shell.execute_reply": "2023-05-13T06:39:54.149486Z"
        },
        "papermill": {
          "duration": 0.069973,
          "end_time": "2023-05-13T06:39:54.154781",
          "exception": false,
          "start_time": "2023-05-13T06:39:54.084808",
          "status": "completed"
        },
        "tags": [],
        "id": "fc72bd3c"
      },
      "outputs": [],
      "source": [
        "cv = gridsearch.best_score_\n",
        "test_score = gridsearch.score(X_t, y_t)\n",
        "best_c =  gridsearch.best_params_['C']"
      ]
    },
    {
      "cell_type": "code",
      "execution_count": 18,
      "id": "1b228863",
      "metadata": {
        "execution": {
          "iopub.execute_input": "2023-05-13T06:39:54.200328Z",
          "iopub.status.busy": "2023-05-13T06:39:54.199771Z",
          "iopub.status.idle": "2023-05-13T06:39:54.207815Z",
          "shell.execute_reply": "2023-05-13T06:39:54.205844Z"
        },
        "papermill": {
          "duration": 0.034252,
          "end_time": "2023-05-13T06:39:54.210809",
          "exception": false,
          "start_time": "2023-05-13T06:39:54.176557",
          "status": "completed"
        },
        "tags": [],
        "id": "1b228863",
        "outputId": "b41425af-e0d2-4112-a113-b8fb763e8361",
        "colab": {
          "base_uri": "https://localhost:8080/"
        }
      },
      "outputs": [
        {
          "output_type": "stream",
          "name": "stdout",
          "text": [
            "Score exactitude CV: 0.990\n",
            "Score exactitude Test: 0.993\n",
            "Meilleur paramètre C: 10.0\n"
          ]
        }
      ],
      "source": [
        "print(f'Score exactitude CV: {cv:.3f}')\n",
        "print(f'Score exactitude Test: {test_score:.3f}')\n",
        "print(f'Meilleur paramètre C: {best_c:.1f}')"
      ]
    },
    {
      "cell_type": "markdown",
      "id": "8375e186",
      "metadata": {
        "papermill": {
          "duration": 0.022244,
          "end_time": "2023-05-13T06:39:54.254770",
          "exception": false,
          "start_time": "2023-05-13T06:39:54.232526",
          "status": "completed"
        },
        "tags": [],
        "id": "8375e186"
      },
      "source": [
        "## Non linéarité"
      ]
    },
    {
      "cell_type": "code",
      "execution_count": 19,
      "id": "b991f660",
      "metadata": {
        "execution": {
          "iopub.execute_input": "2023-05-13T06:39:54.300118Z",
          "iopub.status.busy": "2023-05-13T06:39:54.299575Z",
          "iopub.status.idle": "2023-05-13T06:41:21.941277Z",
          "shell.execute_reply": "2023-05-13T06:41:21.939557Z"
        },
        "papermill": {
          "duration": 87.690978,
          "end_time": "2023-05-13T06:41:21.966796",
          "exception": false,
          "start_time": "2023-05-13T06:39:54.275818",
          "status": "completed"
        },
        "tags": [],
        "id": "b991f660",
        "outputId": "eb7d6779-177c-4cb9-9146-9028fd63e065",
        "colab": {
          "base_uri": "https://localhost:8080/"
        }
      },
      "outputs": [
        {
          "output_type": "stream",
          "name": "stdout",
          "text": [
            "Score exactitude CV: 0.990\n",
            "Score exactitude Test: 0.993\n",
            "Meilleurs paramètres: {'C': 1.0, 'degree': 2, 'gamma': 0.1, 'kernel': 'rbf'}\n"
          ]
        }
      ],
      "source": [
        "from sklearn.model_selection import GridSearchCV\n",
        "svc = SVC(class_weight='balanced', random_state=1)\n",
        "search_space = [{'kernel': ['linear'],\n",
        "                 'C': np.logspace(-3, 3, 7)},\n",
        "                {'kernel': ['rbf'],\n",
        "                 'degree':[2, 3, 4],\n",
        "                 'C':np.logspace(-3, 3, 7),\n",
        "                 'gamma': np.logspace(-3, 2, 6)}]\n",
        "gridsearch = GridSearchCV(svc,\n",
        "                          param_grid=search_space,\n",
        "                          scoring='accuracy',\n",
        "                          refit=True, cv=10,\n",
        "                          n_jobs=-1)\n",
        "gridsearch.fit(X_tr, y_tr)\n",
        "cv = gridsearch.best_score_\n",
        "test_score = gridsearch.score(X_t, y_t)\n",
        "print(f'Score exactitude CV: {cv:0.3f}')\n",
        "print(f'Score exactitude Test: {test_score:0.3f}')\n",
        "print(f'Meilleurs paramètres: {gridsearch.best_params_}')"
      ]
    },
    {
      "cell_type": "markdown",
      "id": "f1f77cc9",
      "metadata": {
        "papermill": {
          "duration": 0.021889,
          "end_time": "2023-05-13T06:41:22.010659",
          "exception": false,
          "start_time": "2023-05-13T06:41:21.988770",
          "status": "completed"
        },
        "tags": [],
        "id": "f1f77cc9"
      },
      "source": [
        "## Régression avec SVR"
      ]
    },
    {
      "cell_type": "code",
      "execution_count": 20,
      "id": "f1d9bb64",
      "metadata": {
        "execution": {
          "iopub.execute_input": "2023-05-13T06:41:22.058381Z",
          "iopub.status.busy": "2023-05-13T06:41:22.057859Z",
          "iopub.status.idle": "2023-05-13T06:41:22.072255Z",
          "shell.execute_reply": "2023-05-13T06:41:22.070878Z"
        },
        "papermill": {
          "duration": 0.042139,
          "end_time": "2023-05-13T06:41:22.075588",
          "exception": false,
          "start_time": "2023-05-13T06:41:22.033449",
          "status": "completed"
        },
        "tags": [],
        "id": "f1d9bb64"
      },
      "outputs": [],
      "source": [
        "from sklearn.model_selection import train_test_split\n",
        "from sklearn.model_selection import cross_val_score\n",
        "from sklearn.model_selection import GridSearchCV\n",
        "from sklearn.preprocessing import MinMaxScaler\n",
        "from sklearn.svm import SVR\n",
        "from sklearn.datasets import make_regression\n",
        "\n",
        "X, y = make_regression(n_samples=500,\n",
        "                       n_features=15,\n",
        "                       n_informative=3,\n",
        "                       noise=10,\n",
        "                       random_state=101)\n",
        "\n",
        "X_tr, X_t, y_tr, y_t = train_test_split(X, y,\n",
        "                                        test_size=0.3,\n",
        "                                        random_state=0)\n",
        "scaling = MinMaxScaler(feature_range=(-1, 1)).fit(X_tr)\n",
        "X_tr = scaling.transform(X_tr)\n",
        "X_t  = scaling.transform(X_t)"
      ]
    },
    {
      "cell_type": "code",
      "execution_count": 21,
      "id": "0d6ef5f0",
      "metadata": {
        "execution": {
          "iopub.execute_input": "2023-05-13T06:41:22.123880Z",
          "iopub.status.busy": "2023-05-13T06:41:22.122624Z",
          "iopub.status.idle": "2023-05-13T06:41:56.536897Z",
          "shell.execute_reply": "2023-05-13T06:41:56.535183Z"
        },
        "papermill": {
          "duration": 34.462687,
          "end_time": "2023-05-13T06:41:56.561070",
          "exception": false,
          "start_time": "2023-05-13T06:41:22.098383",
          "status": "completed"
        },
        "tags": [],
        "id": "0d6ef5f0",
        "outputId": "0b67af17-83e5-4337-f61d-69db516c59e3",
        "colab": {
          "base_uri": "https://localhost:8080/"
        }
      },
      "outputs": [
        {
          "output_type": "stream",
          "name": "stdout",
          "text": [
            "Score R2 CV: 0.990\n",
            "Score R2 Test: 0.992\n",
            "Meilleurs paramètres: {'C': 100.0, 'epsilon': 0.5, 'kernel': 'linear'}\n"
          ]
        }
      ],
      "source": [
        "svr = SVR()\n",
        "search_space = [{'kernel': ['linear'],\n",
        "                 'C': np.logspace(-3, 2, 6),\n",
        "                 'epsilon': [0, 0.01, 0.1, 0.5, 1, 2, 4]},\n",
        "                {'kernel': ['rbf'],\n",
        "                 'degree':[2,3],\n",
        "                 'C':np.logspace(-3, 3, 7),\n",
        "                 'gamma': np.logspace(-3, 2, 6),\n",
        "                 'epsilon': [0, 0.01, 0.1, 0.5, 1, 2, 4]}]\n",
        "gridsearch = GridSearchCV(svr,\n",
        "                          param_grid=search_space,\n",
        "                          refit=True,\n",
        "                          scoring= 'r2',\n",
        "                          cv=10, n_jobs=-1)\n",
        "gridsearch.fit(X_tr, y_tr)\n",
        "cv = gridsearch.best_score_\n",
        "test_score = gridsearch.score(X_t, y_t)\n",
        "print(f'Score R2 CV: {cv:.3f}')\n",
        "print(f'Score R2 Test: {test_score:.3f}')\n",
        "print(f'Meilleurs paramètres: {gridsearch.best_params_}')"
      ]
    },
    {
      "cell_type": "markdown",
      "id": "86386928",
      "metadata": {
        "papermill": {
          "duration": 0.021764,
          "end_time": "2023-05-13T06:41:56.606256",
          "exception": false,
          "start_time": "2023-05-13T06:41:56.584492",
          "status": "completed"
        },
        "tags": [],
        "id": "86386928"
      },
      "source": [
        "## Solution stochastique avec SVM"
      ]
    },
    {
      "cell_type": "code",
      "execution_count": 23,
      "id": "dc4573d5",
      "metadata": {
        "execution": {
          "iopub.execute_input": "2023-05-13T06:41:56.653089Z",
          "iopub.status.busy": "2023-05-13T06:41:56.652588Z",
          "iopub.status.idle": "2023-05-13T06:41:56.707390Z",
          "shell.execute_reply": "2023-05-13T06:41:56.705410Z"
        },
        "papermill": {
          "duration": 0.082299,
          "end_time": "2023-05-13T06:41:56.710907",
          "exception": false,
          "start_time": "2023-05-13T06:41:56.628608",
          "status": "completed"
        },
        "tags": [],
        "id": "dc4573d5",
        "outputId": "c35234af-e3d3-4552-c300-c9efef901ee9",
        "colab": {
          "base_uri": "https://localhost:8080/"
        }
      },
      "outputs": [
        {
          "output_type": "stream",
          "name": "stdout",
          "text": [
            "Exactitude Test SVC: 0.787\n",
            "Exactitude Test LinearSVC: 0.787\n"
          ]
        }
      ],
      "source": [
        "from sklearn.datasets import make_classification\n",
        "from sklearn.model_selection import train_test_split\n",
        "\n",
        "X,y = make_classification(n_samples=500,\n",
        "                          n_features=15,\n",
        "                          n_informative=5,\n",
        "                          random_state=101)\n",
        "X_tr, X_t, y_tr, y_t = train_test_split(X, y,\n",
        "                                        test_size=0.3,\n",
        "                                        random_state=1)\n",
        "\n",
        "from sklearn.svm import SVC, LinearSVC\n",
        "svc = SVC(kernel='linear', random_state=0)\n",
        "linear = LinearSVC(loss='hinge', max_iter=100_000, random_state=0)\n",
        "\n",
        "svc.fit(X_tr, y_tr)\n",
        "linear.fit(X_tr, y_tr)\n",
        "svc_score = svc.score(X_t, y_t)\n",
        "libsvc_score = linear.score(X_t, y_t)\n",
        "print(f'Exactitude Test SVC: {svc_score:.3f}')\n",
        "print(f'Exactitude Test LinearSVC: {libsvc_score:.3f}')"
      ]
    },
    {
      "cell_type": "code",
      "execution_count": 24,
      "id": "08d2b4b9",
      "metadata": {
        "execution": {
          "iopub.execute_input": "2023-05-13T06:41:56.759241Z",
          "iopub.status.busy": "2023-05-13T06:41:56.758697Z",
          "iopub.status.idle": "2023-05-13T06:41:57.036549Z",
          "shell.execute_reply": "2023-05-13T06:41:57.034279Z"
        },
        "papermill": {
          "duration": 0.306481,
          "end_time": "2023-05-13T06:41:57.040112",
          "exception": false,
          "start_time": "2023-05-13T06:41:56.733631",
          "status": "completed"
        },
        "tags": [],
        "id": "08d2b4b9",
        "outputId": "d5a8ed79-4ad5-46c6-fe77-9a80befda172",
        "colab": {
          "base_uri": "https://localhost:8080/"
        }
      },
      "outputs": [
        {
          "output_type": "stream",
          "name": "stdout",
          "text": [
            "Meilleurs secs moy. pour SVC: 0.2\n",
            "Meilleurs secs moy. pour LinearSVC: 0.1\n"
          ]
        }
      ],
      "source": [
        "import timeit\n",
        "import numpy as np\n",
        "\n",
        "X,y = make_classification(n_samples=10**3,\n",
        "                          n_features=15,\n",
        "                          n_informative=5,\n",
        "                          random_state=101)\n",
        "t_svc = timeit.timeit(\n",
        "    'svc.fit(X, y)',\n",
        "    'from __main__ import svc, X, y',\n",
        "    number=3)\n",
        "t_libsvc = timeit.timeit(\n",
        "    'linear.fit(X, y)',\n",
        "    'from __main__ import linear, X, y',\n",
        "    number=3)\n",
        "print(f'Meilleurs secs moy. pour SVC: {np.mean(t_svc):0.1f}')\n",
        "print(f'Meilleurs secs moy. pour LinearSVC: '\n",
        "      f'{np.mean(t_libsvc):0.1f}')"
      ]
    },
    {
      "cell_type": "code",
      "execution_count": 25,
      "id": "b3daee55",
      "metadata": {
        "execution": {
          "iopub.execute_input": "2023-05-13T06:41:57.097865Z",
          "iopub.status.busy": "2023-05-13T06:41:57.096364Z",
          "iopub.status.idle": "2023-05-13T06:41:58.998984Z",
          "shell.execute_reply": "2023-05-13T06:41:58.997025Z"
        },
        "papermill": {
          "duration": 1.931559,
          "end_time": "2023-05-13T06:41:59.002109",
          "exception": false,
          "start_time": "2023-05-13T06:41:57.070550",
          "status": "completed"
        },
        "scrolled": true,
        "tags": [],
        "id": "b3daee55",
        "outputId": "dc6531a0-24d3-4afc-8b9b-544db268d87b",
        "colab": {
          "base_uri": "https://localhost:8080/"
        }
      },
      "outputs": [
        {
          "output_type": "stream",
          "name": "stdout",
          "text": [
            "Temps moy. pour SVC: 1.9 secs\n",
            "Temps moy. pour LinearSVC: 0.1 secs\n"
          ]
        }
      ],
      "source": [
        "X,y = make_classification(n_samples=3*10**3,\n",
        "                          n_features=15,\n",
        "                          n_informative=5,\n",
        "                          random_state=101)\n",
        "t_svc = timeit.timeit('svc.fit(X, y)',\n",
        "                      'from __main__ import svc, X, y',\n",
        "                      number=3)\n",
        "t_linear = timeit.timeit('linear.fit(X, y)',\n",
        "                         'from __main__ import linear, X, y',\n",
        "                         number=3)\n",
        "print(f'Temps moy. pour SVC: {np.mean(t_svc):0.1f} secs')\n",
        "print(f'Temps moy. pour LinearSVC: {np.mean(t_linear):0.1f} secs')"
      ]
    },
    {
      "cell_type": "code",
      "execution_count": 26,
      "id": "0b1fc345",
      "metadata": {
        "execution": {
          "iopub.execute_input": "2023-05-13T06:41:59.050744Z",
          "iopub.status.busy": "2023-05-13T06:41:59.049265Z",
          "iopub.status.idle": "2023-05-13T07:01:32.798753Z",
          "shell.execute_reply": "2023-05-13T07:01:32.797002Z"
        },
        "papermill": {
          "duration": 1173.79928,
          "end_time": "2023-05-13T07:01:32.824258",
          "exception": false,
          "start_time": "2023-05-13T06:41:59.024978",
          "status": "completed"
        },
        "tags": [],
        "id": "0b1fc345",
        "outputId": "617eebed-160d-4572-bc41-7464b7d7abd2",
        "colab": {
          "base_uri": "https://localhost:8080/"
        }
      },
      "outputs": [
        {
          "output_type": "stream",
          "name": "stdout",
          "text": [
            "Temps moy. pour SVC: 939.3 secs\n",
            "Temps moy. pour LinearSVC: 4.9 secs\n"
          ]
        }
      ],
      "source": [
        "X,y = make_classification(n_samples=5*10**4,\n",
        "                          n_features=15,\n",
        "                          n_informative=5,\n",
        "                          random_state=101)\n",
        "t_svc = timeit.timeit('svc.fit(X, y)',\n",
        "                      'from __main__ import svc, X, y',\n",
        "                      number=3)\n",
        "t_linear = timeit.timeit('linear.fit(X, y)',\n",
        "                         'from __main__ import linear, X, y',\n",
        "                         number=3)\n",
        "print(f'Temps moy. pour SVC: {np.mean(t_svc):.1f} secs')\n",
        "print(f'Temps moy. pour LinearSVC: {np.mean(t_linear):.1f} secs')"
      ]
    },
    {
      "cell_type": "code",
      "execution_count": 27,
      "id": "64221a37",
      "metadata": {
        "execution": {
          "iopub.execute_input": "2023-05-13T07:01:32.870053Z",
          "iopub.status.busy": "2023-05-13T07:01:32.869527Z",
          "iopub.status.idle": "2023-05-13T07:01:33.106422Z",
          "shell.execute_reply": "2023-05-13T07:01:33.104899Z"
        },
        "papermill": {
          "duration": 0.264209,
          "end_time": "2023-05-13T07:01:33.109933",
          "exception": false,
          "start_time": "2023-05-13T07:01:32.845724",
          "status": "completed"
        },
        "tags": [],
        "id": "64221a37"
      },
      "outputs": [],
      "source": [
        "from sklearn.datasets import make_classification\n",
        "from sklearn.model_selection import train_test_split\n",
        "from sklearn.model_selection import cross_val_score\n",
        "from sklearn.svm import LinearSVC\n",
        "import timeit\n",
        "\n",
        "from sklearn.linear_model import SGDClassifier\n",
        "X, y = make_classification(n_samples=10**5,\n",
        "                           n_features=15,\n",
        "                           n_informative=10,\n",
        "                           random_state=101)\n",
        "X_tr, X_t, y_tr, y_t = train_test_split(X, y,\n",
        "                                        test_size=0.3,\n",
        "                                        random_state=1)"
      ]
    },
    {
      "cell_type": "code",
      "execution_count": 28,
      "id": "7bf024ca",
      "metadata": {
        "execution": {
          "iopub.execute_input": "2023-05-13T07:01:33.157795Z",
          "iopub.status.busy": "2023-05-13T07:01:33.157233Z",
          "iopub.status.idle": "2023-05-13T07:01:49.434511Z",
          "shell.execute_reply": "2023-05-13T07:01:49.433035Z"
        },
        "papermill": {
          "duration": 16.304159,
          "end_time": "2023-05-13T07:01:49.437737",
          "exception": false,
          "start_time": "2023-05-13T07:01:33.133578",
          "status": "completed"
        },
        "tags": [],
        "id": "7bf024ca",
        "outputId": "78f3eec4-a8ac-4d43-ba69-4cdc7a0a2551",
        "colab": {
          "base_uri": "https://localhost:8080/"
        }
      },
      "outputs": [
        {
          "output_type": "stream",
          "name": "stderr",
          "text": [
            "/usr/local/lib/python3.10/dist-packages/sklearn/svm/_base.py:1244: ConvergenceWarning: Liblinear failed to converge, increase the number of iterations.\n",
            "  warnings.warn(\n"
          ]
        },
        {
          "output_type": "stream",
          "name": "stdout",
          "text": [
            "Exactitude  test LinearSVC: 0.796\n",
            "Temps moyen pour LinearSVC: 4.4 secs\n"
          ]
        },
        {
          "output_type": "stream",
          "name": "stderr",
          "text": [
            "/usr/local/lib/python3.10/dist-packages/sklearn/svm/_base.py:1244: ConvergenceWarning: Liblinear failed to converge, increase the number of iterations.\n",
            "  warnings.warn(\n"
          ]
        }
      ],
      "source": [
        "linear = LinearSVC(penalty='l2',\n",
        "                   loss='hinge',\n",
        "                   dual=True,\n",
        "                   random_state=101)\n",
        "linear.fit(X_tr, y_tr)\n",
        "score = linear.score(X_t, y_t)\n",
        "t = timeit.timeit(\"linear.fit(X_tr, y_tr)\",\n",
        "        \"from __main__ import linear, X_tr, y_tr\",\n",
        "        number=1)\n",
        "print(f'Exactitude  test LinearSVC: {score:.3f}')\n",
        "print(f'Temps moyen pour LinearSVC: {np.mean(t):.1f} secs')"
      ]
    },
    {
      "cell_type": "code",
      "execution_count": 29,
      "id": "10efb000",
      "metadata": {
        "execution": {
          "iopub.execute_input": "2023-05-13T07:01:49.484657Z",
          "iopub.status.busy": "2023-05-13T07:01:49.484134Z",
          "iopub.status.idle": "2023-05-13T07:01:49.785020Z",
          "shell.execute_reply": "2023-05-13T07:01:49.783132Z"
        },
        "papermill": {
          "duration": 0.328525,
          "end_time": "2023-05-13T07:01:49.788487",
          "exception": false,
          "start_time": "2023-05-13T07:01:49.459962",
          "status": "completed"
        },
        "tags": [],
        "id": "10efb000",
        "outputId": "8135d149-691f-4596-b194-b512cd7978ba",
        "colab": {
          "base_uri": "https://localhost:8080/"
        }
      },
      "outputs": [
        {
          "output_type": "stream",
          "name": "stdout",
          "text": [
            "Exactitude  test SGDClassifier: 0.796\n",
            "Temps moyen pour SGDClassifier: 0.1 secs\n"
          ]
        }
      ],
      "source": [
        "sgd = SGDClassifier(loss='hinge',\n",
        "                    penalty='l2',\n",
        "                    alpha=0.1,\n",
        "                    max_iter=1000,\n",
        "                    shuffle=True,\n",
        "                    random_state=101)\n",
        "sgd.fit(X_tr, y_tr)\n",
        "score = sgd.score(X_t, y_t)\n",
        "t = timeit.timeit(\"sgd.fit(X_tr, y_tr)\",\n",
        "                  \"from __main__ import sgd, X_tr, y_tr\",\n",
        "                  number=1)\n",
        "print(f'Exactitude  test SGDClassifier: {score:.3f}')\n",
        "print(f'Temps moyen pour SGDClassifier: {np.mean(t):.1f} secs')"
      ]
    },
    {
      "cell_type": "markdown",
      "id": "2c847a0c",
      "metadata": {
        "papermill": {
          "duration": 0.022692,
          "end_time": "2023-05-13T07:01:49.833812",
          "exception": false,
          "start_time": "2023-05-13T07:01:49.811120",
          "status": "completed"
        },
        "tags": [],
        "id": "2c847a0c"
      },
      "source": [
        "# Réseaux neuronaux"
      ]
    },
    {
      "cell_type": "code",
      "execution_count": 30,
      "id": "05491de2",
      "metadata": {
        "id": "05491de2"
      },
      "outputs": [],
      "source": [
        "#import tensorflow as tf\n",
        "#print(tf.__version__)\n",
        "import keras"
      ]
    },
    {
      "cell_type": "code",
      "execution_count": 31,
      "id": "1b02acfd",
      "metadata": {
        "execution": {
          "iopub.execute_input": "2023-05-13T07:01:49.883478Z",
          "iopub.status.busy": "2023-05-13T07:01:49.883010Z",
          "iopub.status.idle": "2023-05-13T07:02:00.039112Z",
          "shell.execute_reply": "2023-05-13T07:02:00.037255Z"
        },
        "papermill": {
          "duration": 10.186169,
          "end_time": "2023-05-13T07:02:00.042947",
          "exception": false,
          "start_time": "2023-05-13T07:01:49.856778",
          "status": "completed"
        },
        "tags": [],
        "id": "1b02acfd"
      },
      "outputs": [],
      "source": [
        "import numpy as np\n",
        "from sklearn.model_selection import train_test_split\n",
        "from sklearn.preprocessing import MinMaxScaler\n",
        "from sklearn.datasets import load_digits\n",
        "from keras.models import Sequential\n",
        "from keras.layers import Dense, Dropout\n",
        "from sklearn.preprocessing import MinMaxScaler\n",
        "from sklearn.model_selection import train_test_split\n",
        "from sklearn.datasets import load_digits\n",
        "\n",
        "X, y = load_digits(return_X_y=True)\n",
        "X_train, X_test, y_train, y_test = train_test_split(X, y, test_size=0.2, random_state=0)"
      ]
    },
    {
      "cell_type": "code",
      "execution_count": 32,
      "id": "a3874ded",
      "metadata": {
        "execution": {
          "iopub.execute_input": "2023-05-13T07:02:00.093792Z",
          "iopub.status.busy": "2023-05-13T07:02:00.092036Z",
          "iopub.status.idle": "2023-05-13T07:02:00.103281Z",
          "shell.execute_reply": "2023-05-13T07:02:00.101623Z"
        },
        "papermill": {
          "duration": 0.041233,
          "end_time": "2023-05-13T07:02:00.107120",
          "exception": false,
          "start_time": "2023-05-13T07:02:00.065887",
          "status": "completed"
        },
        "tags": [],
        "id": "a3874ded"
      },
      "outputs": [],
      "source": [
        "scaler = MinMaxScaler(feature_range=(-1, 1))\n",
        "X_train = scaler.fit_transform(X_train)\n",
        "X_test = scaler.transform(X_test)"
      ]
    },
    {
      "cell_type": "code",
      "execution_count": 33,
      "id": "a4ea2999",
      "metadata": {
        "execution": {
          "iopub.execute_input": "2023-05-13T07:02:00.156427Z",
          "iopub.status.busy": "2023-05-13T07:02:00.155185Z",
          "iopub.status.idle": "2023-05-13T07:02:00.162877Z",
          "shell.execute_reply": "2023-05-13T07:02:00.161586Z"
        },
        "papermill": {
          "duration": 0.036149,
          "end_time": "2023-05-13T07:02:00.166261",
          "exception": false,
          "start_time": "2023-05-13T07:02:00.130112",
          "status": "completed"
        },
        "tags": [],
        "id": "a4ea2999"
      },
      "outputs": [],
      "source": [
        "num_classes = 10\n",
        "y_train = np.eye(num_classes)[y_train]\n",
        "y_test = np.eye(num_classes)[y_test]"
      ]
    },
    {
      "cell_type": "code",
      "execution_count": 34,
      "id": "8c5990f2",
      "metadata": {
        "execution": {
          "iopub.execute_input": "2023-05-13T07:02:00.215987Z",
          "iopub.status.busy": "2023-05-13T07:02:00.215125Z",
          "iopub.status.idle": "2023-05-13T07:02:11.025583Z",
          "shell.execute_reply": "2023-05-13T07:02:11.023899Z"
        },
        "papermill": {
          "duration": 10.840258,
          "end_time": "2023-05-13T07:02:11.029351",
          "exception": false,
          "start_time": "2023-05-13T07:02:00.189093",
          "status": "completed"
        },
        "tags": [],
        "id": "8c5990f2",
        "colab": {
          "base_uri": "https://localhost:8080/"
        },
        "outputId": "146d52bb-f3ee-4b96-da7b-9b45621fac53"
      },
      "outputs": [
        {
          "output_type": "stream",
          "name": "stdout",
          "text": [
            "Epoch 1/50\n",
            "45/45 [==============================] - 1s 11ms/step - loss: 2.1216 - accuracy: 0.2624 - val_loss: 1.7155 - val_accuracy: 0.6278\n",
            "Epoch 2/50\n",
            "45/45 [==============================] - 0s 4ms/step - loss: 1.4756 - accuracy: 0.5581 - val_loss: 1.0304 - val_accuracy: 0.8250\n",
            "Epoch 3/50\n",
            "45/45 [==============================] - 0s 4ms/step - loss: 0.9612 - accuracy: 0.7279 - val_loss: 0.6053 - val_accuracy: 0.8611\n",
            "Epoch 4/50\n",
            "45/45 [==============================] - 0s 4ms/step - loss: 0.7241 - accuracy: 0.7808 - val_loss: 0.4374 - val_accuracy: 0.8917\n",
            "Epoch 5/50\n",
            "45/45 [==============================] - 0s 4ms/step - loss: 0.5627 - accuracy: 0.8205 - val_loss: 0.3407 - val_accuracy: 0.9167\n",
            "Epoch 6/50\n",
            "45/45 [==============================] - 0s 5ms/step - loss: 0.4609 - accuracy: 0.8678 - val_loss: 0.2693 - val_accuracy: 0.9361\n",
            "Epoch 7/50\n",
            "45/45 [==============================] - 0s 9ms/step - loss: 0.3841 - accuracy: 0.8831 - val_loss: 0.2176 - val_accuracy: 0.9500\n",
            "Epoch 8/50\n",
            "45/45 [==============================] - 0s 8ms/step - loss: 0.3217 - accuracy: 0.8998 - val_loss: 0.2173 - val_accuracy: 0.9444\n",
            "Epoch 9/50\n",
            "45/45 [==============================] - 1s 16ms/step - loss: 0.3103 - accuracy: 0.9109 - val_loss: 0.1788 - val_accuracy: 0.9556\n",
            "Epoch 10/50\n",
            "45/45 [==============================] - 0s 8ms/step - loss: 0.2823 - accuracy: 0.9068 - val_loss: 0.1764 - val_accuracy: 0.9500\n",
            "Epoch 11/50\n",
            "45/45 [==============================] - 0s 8ms/step - loss: 0.2566 - accuracy: 0.9255 - val_loss: 0.1497 - val_accuracy: 0.9611\n",
            "Epoch 12/50\n",
            "45/45 [==============================] - 0s 7ms/step - loss: 0.2385 - accuracy: 0.9269 - val_loss: 0.1498 - val_accuracy: 0.9611\n",
            "Epoch 13/50\n",
            "45/45 [==============================] - 0s 8ms/step - loss: 0.2241 - accuracy: 0.9297 - val_loss: 0.1411 - val_accuracy: 0.9639\n",
            "Epoch 14/50\n",
            "45/45 [==============================] - 0s 6ms/step - loss: 0.2278 - accuracy: 0.9235 - val_loss: 0.1417 - val_accuracy: 0.9528\n",
            "Epoch 15/50\n",
            "45/45 [==============================] - 0s 6ms/step - loss: 0.2045 - accuracy: 0.9374 - val_loss: 0.1291 - val_accuracy: 0.9639\n",
            "Epoch 16/50\n",
            "45/45 [==============================] - 0s 6ms/step - loss: 0.1922 - accuracy: 0.9436 - val_loss: 0.1252 - val_accuracy: 0.9667\n",
            "Epoch 17/50\n",
            "45/45 [==============================] - 0s 6ms/step - loss: 0.1521 - accuracy: 0.9596 - val_loss: 0.1205 - val_accuracy: 0.9639\n",
            "Epoch 18/50\n",
            "45/45 [==============================] - 0s 5ms/step - loss: 0.1551 - accuracy: 0.9548 - val_loss: 0.1184 - val_accuracy: 0.9667\n",
            "Epoch 19/50\n",
            "45/45 [==============================] - 0s 5ms/step - loss: 0.1587 - accuracy: 0.9555 - val_loss: 0.1155 - val_accuracy: 0.9667\n",
            "Epoch 20/50\n",
            "45/45 [==============================] - 0s 4ms/step - loss: 0.1458 - accuracy: 0.9555 - val_loss: 0.1101 - val_accuracy: 0.9667\n",
            "Epoch 21/50\n",
            "45/45 [==============================] - 0s 7ms/step - loss: 0.1421 - accuracy: 0.9562 - val_loss: 0.1086 - val_accuracy: 0.9667\n",
            "Epoch 22/50\n",
            "45/45 [==============================] - 0s 5ms/step - loss: 0.1400 - accuracy: 0.9569 - val_loss: 0.1096 - val_accuracy: 0.9694\n",
            "Epoch 23/50\n",
            "45/45 [==============================] - 1s 12ms/step - loss: 0.1305 - accuracy: 0.9652 - val_loss: 0.1057 - val_accuracy: 0.9694\n",
            "Epoch 24/50\n",
            "45/45 [==============================] - 0s 8ms/step - loss: 0.1272 - accuracy: 0.9569 - val_loss: 0.1115 - val_accuracy: 0.9667\n",
            "Epoch 25/50\n",
            "45/45 [==============================] - 0s 6ms/step - loss: 0.1108 - accuracy: 0.9673 - val_loss: 0.1069 - val_accuracy: 0.9667\n",
            "Epoch 26/50\n",
            "45/45 [==============================] - 0s 6ms/step - loss: 0.1064 - accuracy: 0.9694 - val_loss: 0.1076 - val_accuracy: 0.9667\n",
            "Epoch 27/50\n",
            "45/45 [==============================] - 0s 3ms/step - loss: 0.1003 - accuracy: 0.9666 - val_loss: 0.1053 - val_accuracy: 0.9694\n",
            "Epoch 28/50\n",
            "45/45 [==============================] - 0s 3ms/step - loss: 0.0985 - accuracy: 0.9708 - val_loss: 0.1060 - val_accuracy: 0.9722\n",
            "Epoch 29/50\n",
            "45/45 [==============================] - 0s 3ms/step - loss: 0.1077 - accuracy: 0.9659 - val_loss: 0.1085 - val_accuracy: 0.9694\n",
            "Epoch 30/50\n",
            "45/45 [==============================] - 0s 2ms/step - loss: 0.0964 - accuracy: 0.9722 - val_loss: 0.0978 - val_accuracy: 0.9722\n",
            "Epoch 31/50\n",
            "45/45 [==============================] - 0s 3ms/step - loss: 0.0944 - accuracy: 0.9687 - val_loss: 0.1034 - val_accuracy: 0.9722\n",
            "Epoch 32/50\n",
            "45/45 [==============================] - 0s 2ms/step - loss: 0.0864 - accuracy: 0.9743 - val_loss: 0.0942 - val_accuracy: 0.9722\n",
            "Epoch 33/50\n",
            "45/45 [==============================] - 0s 3ms/step - loss: 0.0882 - accuracy: 0.9694 - val_loss: 0.0963 - val_accuracy: 0.9750\n",
            "Epoch 34/50\n",
            "45/45 [==============================] - 0s 3ms/step - loss: 0.1000 - accuracy: 0.9756 - val_loss: 0.0969 - val_accuracy: 0.9778\n",
            "Epoch 35/50\n",
            "45/45 [==============================] - 0s 3ms/step - loss: 0.0775 - accuracy: 0.9756 - val_loss: 0.0993 - val_accuracy: 0.9694\n",
            "Epoch 36/50\n",
            "45/45 [==============================] - 0s 3ms/step - loss: 0.0726 - accuracy: 0.9812 - val_loss: 0.0971 - val_accuracy: 0.9750\n",
            "Epoch 37/50\n",
            "45/45 [==============================] - 0s 3ms/step - loss: 0.0798 - accuracy: 0.9722 - val_loss: 0.0973 - val_accuracy: 0.9694\n",
            "Epoch 38/50\n",
            "45/45 [==============================] - 0s 3ms/step - loss: 0.0738 - accuracy: 0.9777 - val_loss: 0.1009 - val_accuracy: 0.9722\n",
            "Epoch 39/50\n",
            "45/45 [==============================] - 0s 3ms/step - loss: 0.0639 - accuracy: 0.9819 - val_loss: 0.1053 - val_accuracy: 0.9722\n",
            "Epoch 40/50\n",
            "45/45 [==============================] - 0s 3ms/step - loss: 0.0805 - accuracy: 0.9756 - val_loss: 0.0992 - val_accuracy: 0.9722\n",
            "Epoch 41/50\n",
            "45/45 [==============================] - 0s 3ms/step - loss: 0.0739 - accuracy: 0.9763 - val_loss: 0.0969 - val_accuracy: 0.9722\n",
            "Epoch 42/50\n",
            "45/45 [==============================] - 0s 3ms/step - loss: 0.0585 - accuracy: 0.9875 - val_loss: 0.1023 - val_accuracy: 0.9639\n",
            "Epoch 43/50\n",
            "45/45 [==============================] - 0s 3ms/step - loss: 0.0682 - accuracy: 0.9784 - val_loss: 0.1037 - val_accuracy: 0.9694\n",
            "Epoch 44/50\n",
            "45/45 [==============================] - 0s 3ms/step - loss: 0.0594 - accuracy: 0.9861 - val_loss: 0.1063 - val_accuracy: 0.9667\n",
            "Epoch 45/50\n",
            "45/45 [==============================] - 0s 3ms/step - loss: 0.0489 - accuracy: 0.9875 - val_loss: 0.0993 - val_accuracy: 0.9694\n",
            "Epoch 46/50\n",
            "45/45 [==============================] - 0s 3ms/step - loss: 0.0576 - accuracy: 0.9854 - val_loss: 0.1121 - val_accuracy: 0.9722\n",
            "Epoch 47/50\n",
            "45/45 [==============================] - 0s 3ms/step - loss: 0.0623 - accuracy: 0.9798 - val_loss: 0.1029 - val_accuracy: 0.9722\n",
            "Epoch 48/50\n",
            "45/45 [==============================] - 0s 3ms/step - loss: 0.0611 - accuracy: 0.9798 - val_loss: 0.0976 - val_accuracy: 0.9750\n",
            "Epoch 49/50\n",
            "45/45 [==============================] - 0s 3ms/step - loss: 0.0522 - accuracy: 0.9854 - val_loss: 0.1010 - val_accuracy: 0.9750\n",
            "Epoch 50/50\n",
            "45/45 [==============================] - 0s 3ms/step - loss: 0.0581 - accuracy: 0.9819 - val_loss: 0.0968 - val_accuracy: 0.9778\n"
          ]
        }
      ],
      "source": [
        "model = Sequential()\n",
        "model.add(Dense(64, activation='relu', input_shape=(64,)))\n",
        "model.add(Dropout(0.2))\n",
        "model.add(Dense(32, activation='relu'))\n",
        "model.add(Dropout(0.2))\n",
        "model.add(Dense(num_classes, activation='softmax'))\n",
        "\n",
        "model.compile(loss='categorical_crossentropy', optimizer='adam', metrics=['accuracy'])\n",
        "history = model.fit(X_train, y_train, epochs=50, batch_size=32, validation_data=(X_test, y_test))"
      ]
    },
    {
      "cell_type": "code",
      "execution_count": 35,
      "id": "6651a5f2",
      "metadata": {
        "execution": {
          "iopub.execute_input": "2023-05-13T07:02:11.127103Z",
          "iopub.status.busy": "2023-05-13T07:02:11.125257Z",
          "iopub.status.idle": "2023-05-13T07:02:11.241256Z",
          "shell.execute_reply": "2023-05-13T07:02:11.239368Z"
        },
        "papermill": {
          "duration": 0.164625,
          "end_time": "2023-05-13T07:02:11.244579",
          "exception": false,
          "start_time": "2023-05-13T07:02:11.079954",
          "status": "completed"
        },
        "tags": [],
        "id": "6651a5f2",
        "colab": {
          "base_uri": "https://localhost:8080/"
        },
        "outputId": "b6a5e604-2672-4db2-97f8-fc3809b7bc92"
      },
      "outputs": [
        {
          "output_type": "stream",
          "name": "stdout",
          "text": [
            "12/12 [==============================] - 0s 2ms/step - loss: 0.0968 - accuracy: 0.9778\n",
            "Score exactitude Test: 0.9777777791023254\n"
          ]
        }
      ],
      "source": [
        "loss, accuracy = model.evaluate(X_test, y_test)\n",
        "print('Score exactitude Test:', accuracy)"
      ]
    },
    {
      "cell_type": "code",
      "execution_count": 36,
      "id": "ee7e5cf8",
      "metadata": {
        "execution": {
          "iopub.execute_input": "2023-05-13T07:02:11.334875Z",
          "iopub.status.busy": "2023-05-13T07:02:11.334445Z",
          "iopub.status.idle": "2023-05-13T07:02:11.653328Z",
          "shell.execute_reply": "2023-05-13T07:02:11.651754Z"
        },
        "papermill": {
          "duration": 0.367763,
          "end_time": "2023-05-13T07:02:11.656841",
          "exception": false,
          "start_time": "2023-05-13T07:02:11.289078",
          "status": "completed"
        },
        "scrolled": true,
        "tags": [],
        "id": "ee7e5cf8",
        "colab": {
          "base_uri": "https://localhost:8080/",
          "height": 472
        },
        "outputId": "2b2a0538-1ff8-41dd-bbd9-a55242944696"
      },
      "outputs": [
        {
          "output_type": "display_data",
          "data": {
            "text/plain": [
              "<Figure size 640x480 with 1 Axes>"
            ],
            "image/png": "[encoded data removed]"
          },
          "metadata": {}
        }
      ],
      "source": [
        "import matplotlib.pyplot as plt\n",
        "\n",
        "train_loss = history.history['loss']\n",
        "val_loss = history.history['val_loss']\n",
        "\n",
        "# Tracé des pertes selon les epochs\n",
        "epochs = range(5, len(train_loss) + 1)\n",
        "plt.plot(epochs, train_loss[4:], 'b',\n",
        "         label='Perte Training')\n",
        "plt.plot(epochs, val_loss[4:], 'r',\n",
        "         label='Perte Validation')\n",
        "plt.axvline(x=val_loss.index(min(val_loss)),\n",
        "            color='r', linestyle='--')\n",
        "plt.title('Perte Training et Validation')\n",
        "plt.xlabel('Epochs')\n",
        "plt.ylabel('Loss')\n",
        "plt.legend()\n",
        "plt.show()"
      ]
    },
    {
      "cell_type": "code",
      "execution_count": null,
      "id": "f114e60a",
      "metadata": {
        "id": "f114e60a"
      },
      "outputs": [],
      "source": []
    }
  ],
  "metadata": {
    "kernelspec": {
      "display_name": "Python 3 (ipykernel)",
      "language": "python",
      "name": "python3"
    },
    "language_info": {
      "codemirror_mode": {
        "name": "ipython",
        "version": 3
      },
      "file_extension": ".py",
      "mimetype": "text/x-python",
      "name": "python",
      "nbconvert_exporter": "python",
      "pygments_lexer": "ipython3",
      "version": "3.11.5"
    },
    "papermill": {
      "default_parameters": {},
      "duration": 1861.882266,
      "end_time": "2023-05-13T07:02:14.337023",
      "environment_variables": {},
      "exception": null,
      "input_path": "__notebook__.ipynb",
      "output_path": "__notebook__.ipynb",
      "parameters": {},
      "start_time": "2023-05-13T06:31:12.454757",
      "version": "2.4.0"
    },
    "colab": {
      "provenance": []
    }
  },
  "nbformat": 4,
  "nbformat_minor": 5
}