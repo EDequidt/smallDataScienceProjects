{
 "cells": [
  {
   "cell_type": "markdown",
   "id": "71711632",
   "metadata": {},
   "source": [
    "# Récupération des données et des exemples"
   ]
  },
  {
   "cell_type": "markdown",
   "id": "ca6051e3",
   "metadata": {},
   "source": [
    "## Définition du référentiel de code"
   ]
  },
  {
   "cell_type": "markdown",
   "id": "0fd851d9",
   "metadata": {},
   "source": [
    "### Ajout de contenu à un calepin"
   ]
  },
  {
   "cell_type": "code",
   "execution_count": 1,
   "id": "7224ea27",
   "metadata": {},
   "outputs": [
    {
     "name": "stdout",
     "output_type": "stream",
     "text": [
      "Python est vraiment sympa !\n"
     ]
    }
   ],
   "source": [
    "print(\"Python est vraiment sympa !\")"
   ]
  },
  {
   "cell_type": "code",
   "execution_count": null,
   "id": "867b8d6c",
   "metadata": {},
   "outputs": [],
   "source": []
  }
 ],
 "metadata": {
  "kernelspec": {
   "display_name": "Python 3 (ipykernel)",
   "language": "python",
   "name": "python3"
  },
  "language_info": {
   "codemirror_mode": {
    "name": "ipython",
    "version": 3
   },
   "file_extension": ".py",
   "mimetype": "text/x-python",
   "name": "python",
   "nbconvert_exporter": "python",
   "pygments_lexer": "ipython3",
   "version": "3.11.5"
  }
 },
 "nbformat": 4,
 "nbformat_minor": 5
}
