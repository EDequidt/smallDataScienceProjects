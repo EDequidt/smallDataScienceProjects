{
 "cells": [
  {
   "cell_type": "markdown",
   "id": "54573151-c7f9-4b36-83ca-9cb6ffcefd75",
   "metadata": {},
   "source": [
    "# Récupération des données et des exemples"
   ]
  },
  {
   "cell_type": "markdown",
   "id": "9010e67e-9619-4624-ab54-60281f5ea5b0",
   "metadata": {},
   "source": [
    "## Définition du référentiel de code"
   ]
  },
  {
   "cell_type": "markdown",
   "id": "04547c16-fd41-41e5-8073-afef1cd9840c",
   "metadata": {},
   "source": [
    "### Ajout de contenu à un calepin"
   ]
  },
  {
   "cell_type": "code",
   "execution_count": 1,
   "id": "a1688607-8229-43a7-9a6c-ad377cfccf53",
   "metadata": {},
   "outputs": [
    {
     "name": "stdout",
     "output_type": "stream",
     "text": [
      "Python c'est vraiment sympa !\n"
     ]
    }
   ],
   "source": [
    "print(\"Python c'est vraiment sympa !\")"
   ]
  },
  {
   "cell_type": "code",
   "execution_count": null,
   "id": "45c4ad80-978c-4c7c-81e2-b36889aa0a35",
   "metadata": {},
   "outputs": [],
   "source": [
    "testsetse"
   ]
  }
 ],
 "metadata": {
  "kernelspec": {
   "display_name": "Python 3 (ipykernel)",
   "language": "python",
   "name": "python3"
  },
  "language_info": {
   "codemirror_mode": {
    "name": "ipython",
    "version": 3
   },
   "file_extension": ".py",
   "mimetype": "text/x-python",
   "name": "python",
   "nbconvert_exporter": "python",
   "pygments_lexer": "ipython3",
   "version": "3.12.4"
  }
 },
 "nbformat": 4,
 "nbformat_minor": 5
}
