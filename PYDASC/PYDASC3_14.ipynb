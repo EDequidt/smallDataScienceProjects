{
 "cells": [
  {
   "cell_type": "markdown",
   "id": "289ecc47",
   "metadata": {
    "papermill": {
     "duration": 0.013893,
     "end_time": "2023-05-20T08:39:03.229456",
     "exception": false,
     "start_time": "2023-05-20T08:39:03.215563",
     "status": "completed"
    },
    "tags": []
   },
   "source": [
    "# 14 : Décomposition en valeurs singulières SVD"
   ]
  },
  {
   "cell_type": "markdown",
   "id": "cf33e745",
   "metadata": {
    "papermill": {
     "duration": 0.011731,
     "end_time": "2023-05-20T08:39:03.253409",
     "exception": false,
     "start_time": "2023-05-20T08:39:03.241678",
     "status": "completed"
    },
    "tags": []
   },
   "source": [
    "## Pratique de la réduction dimensionnelle"
   ]
  },
  {
   "cell_type": "code",
   "execution_count": 1,
   "id": "446fb018",
   "metadata": {
    "execution": {
     "iopub.execute_input": "2023-05-20T08:39:03.280651Z",
     "iopub.status.busy": "2023-05-20T08:39:03.279820Z",
     "iopub.status.idle": "2023-05-20T08:39:03.296042Z",
     "shell.execute_reply": "2023-05-20T08:39:03.294661Z"
    },
    "papermill": {
     "duration": 0.033523,
     "end_time": "2023-05-20T08:39:03.299548",
     "exception": false,
     "start_time": "2023-05-20T08:39:03.266025",
     "status": "completed"
    },
    "tags": []
   },
   "outputs": [
    {
     "name": "stdout",
     "output_type": "stream",
     "text": [
      "[[1 3 4]\n",
      " [2 3 5]\n",
      " [1 2 3]\n",
      " [5 4 6]]\n"
     ]
    }
   ],
   "source": [
    "import numpy as np\n",
    "A = np.array([[1, 3, 4], [2, 3, 5], [1, 2, 3], [5, 4, 6]])\n",
    "print(A)"
   ]
  },
  {
   "cell_type": "code",
   "execution_count": 2,
   "id": "5731f30e",
   "metadata": {
    "execution": {
     "iopub.execute_input": "2023-05-20T08:39:03.326533Z",
     "iopub.status.busy": "2023-05-20T08:39:03.325650Z",
     "iopub.status.idle": "2023-05-20T08:39:03.348904Z",
     "shell.execute_reply": "2023-05-20T08:39:03.347050Z"
    },
    "papermill": {
     "duration": 0.039911,
     "end_time": "2023-05-20T08:39:03.351752",
     "exception": false,
     "start_time": "2023-05-20T08:39:03.311841",
     "status": "completed"
    },
    "tags": []
   },
   "outputs": [
    {
     "name": "stdout",
     "output_type": "stream",
     "text": [
      "(4, 3) (3,) (3, 3)\n",
      "[12.26362747  2.11085464  0.38436189]\n"
     ]
    }
   ],
   "source": [
    "U, s, Vh = np.linalg.svd(A, full_matrices=False)\n",
    "print(np.shape(U), np.shape(s), np.shape(Vh))\n",
    "print(s)"
   ]
  },
  {
   "cell_type": "code",
   "execution_count": 3,
   "id": "48d8e6e0",
   "metadata": {
    "execution": {
     "iopub.execute_input": "2023-05-20T08:39:03.378889Z",
     "iopub.status.busy": "2023-05-20T08:39:03.377867Z",
     "iopub.status.idle": "2023-05-20T08:39:03.388331Z",
     "shell.execute_reply": "2023-05-20T08:39:03.386697Z"
    },
    "papermill": {
     "duration": 0.026816,
     "end_time": "2023-05-20T08:39:03.390934",
     "exception": false,
     "start_time": "2023-05-20T08:39:03.364118",
     "status": "completed"
    },
    "tags": []
   },
   "outputs": [
    {
     "name": "stdout",
     "output_type": "stream",
     "text": [
      "[[1. 3. 4.]\n",
      " [2. 3. 5.]\n",
      " [1. 2. 3.]\n",
      " [5. 4. 6.]]\n"
     ]
    }
   ],
   "source": [
    "print(np.dot(np.dot(U, np.diag(s)), Vh)) # Reconstruction de matrice"
   ]
  },
  {
   "cell_type": "code",
   "execution_count": 4,
   "id": "7f4b69b9",
   "metadata": {
    "execution": {
     "iopub.execute_input": "2023-05-20T08:39:03.418134Z",
     "iopub.status.busy": "2023-05-20T08:39:03.417263Z",
     "iopub.status.idle": "2023-05-20T08:39:03.424998Z",
     "shell.execute_reply": "2023-05-20T08:39:03.423427Z"
    },
    "papermill": {
     "duration": 0.02434,
     "end_time": "2023-05-20T08:39:03.427645",
     "exception": false,
     "start_time": "2023-05-20T08:39:03.403305",
     "status": "completed"
    },
    "tags": []
   },
   "outputs": [
    {
     "name": "stdout",
     "output_type": "stream",
     "text": [
      "[[1.  2.8 4.1]\n",
      " [2.  3.2 4.8]\n",
      " [1.  2.  3. ]\n",
      " [5.  3.9 6. ]]\n"
     ]
    }
   ],
   "source": [
    "print(np.round(np.dot(np.dot(U[:,:2], np.diag(s[:2])),\n",
    "                      Vh[:2,:]),1)) # k=2 reconstruction"
   ]
  },
  {
   "cell_type": "code",
   "execution_count": 5,
   "id": "59058a1a",
   "metadata": {
    "execution": {
     "iopub.execute_input": "2023-05-20T08:39:03.454775Z",
     "iopub.status.busy": "2023-05-20T08:39:03.454320Z",
     "iopub.status.idle": "2023-05-20T08:39:03.462863Z",
     "shell.execute_reply": "2023-05-20T08:39:03.461287Z"
    },
    "papermill": {
     "duration": 0.025012,
     "end_time": "2023-05-20T08:39:03.465394",
     "exception": false,
     "start_time": "2023-05-20T08:39:03.440382",
     "status": "completed"
    },
    "tags": []
   },
   "outputs": [
    {
     "name": "stdout",
     "output_type": "stream",
     "text": [
      "[[2.1 2.5 3.7]\n",
      " [2.6 3.1 4.6]\n",
      " [1.6 1.8 2.8]\n",
      " [3.7 4.3 6.5]]\n"
     ]
    }
   ],
   "source": [
    "print(np.round(np.dot(np.dot(U[:,:1], np.diag(s[:1])), \n",
    "                      Vh[:1,:]),1)) # k=1 reconstruction"
   ]
  },
  {
   "cell_type": "markdown",
   "id": "b6c73769",
   "metadata": {
    "papermill": {
     "duration": 0.012182,
     "end_time": "2023-05-20T08:39:03.491135",
     "exception": false,
     "start_time": "2023-05-20T08:39:03.478953",
     "status": "completed"
    },
    "tags": []
   },
   "source": [
    "# Analyse de facteurs et PCA"
   ]
  },
  {
   "cell_type": "markdown",
   "id": "982951f4",
   "metadata": {
    "papermill": {
     "duration": 0.012248,
     "end_time": "2023-05-20T08:39:03.516034",
     "exception": false,
     "start_time": "2023-05-20T08:39:03.503786",
     "status": "completed"
    },
    "tags": []
   },
   "source": [
    "## Recherche des facteurs cachés"
   ]
  },
  {
   "cell_type": "code",
   "execution_count": 6,
   "id": "0114d13f",
   "metadata": {
    "execution": {
     "iopub.execute_input": "2023-05-20T08:39:03.543555Z",
     "iopub.status.busy": "2023-05-20T08:39:03.542776Z",
     "iopub.status.idle": "2023-05-20T08:39:04.914854Z",
     "shell.execute_reply": "2023-05-20T08:39:04.913553Z"
    },
    "papermill": {
     "duration": 1.389066,
     "end_time": "2023-05-20T08:39:04.917754",
     "exception": false,
     "start_time": "2023-05-20T08:39:03.528688",
     "status": "completed"
    },
    "tags": []
   },
   "outputs": [],
   "source": [
    "import pandas as pd\n",
    "from sklearn.preprocessing import StandardScaler\n",
    "\n",
    "def load_palmer_penguins():\n",
    "    url = \"https://raw.githubusercontent.com/allisonhorst/\" \\\n",
    "          \"palmerpenguins/main/inst/extdata/penguins.csv\"\n",
    "    numeric_features = [\"bill_length_mm\", \"bill_depth_mm\", \n",
    "                        \"flipper_length_mm\", \"body_mass_g\"]\n",
    "    data = pd.read_csv(url).dropna()\n",
    "    target = data.species.replace({'Adelie':1, 'Gentoo':2, \n",
    "                                   'Chinstrap':3})\n",
    "    data[numeric_features] = StandardScaler() \\\n",
    "        .fit_transform(data[numeric_features])\n",
    "    return data[numeric_features], target\n",
    "\n",
    "X, y = load_palmer_penguins()"
   ]
  },
  {
   "cell_type": "code",
   "execution_count": 7,
   "id": "9d7899fc",
   "metadata": {
    "execution": {
     "iopub.execute_input": "2023-05-20T08:39:04.945609Z",
     "iopub.status.busy": "2023-05-20T08:39:04.944365Z",
     "iopub.status.idle": "2023-05-20T08:39:05.193770Z",
     "shell.execute_reply": "2023-05-20T08:39:05.191953Z"
    },
    "papermill": {
     "duration": 0.269085,
     "end_time": "2023-05-20T08:39:05.199588",
     "exception": false,
     "start_time": "2023-05-20T08:39:04.930503",
     "status": "completed"
    },
    "tags": []
   },
   "outputs": [],
   "source": [
    "from sklearn.decomposition import FactorAnalysis\n",
    "factor = FactorAnalysis(n_components=4).fit(X)"
   ]
  },
  {
   "cell_type": "code",
   "execution_count": 8,
   "id": "4dafbf5f",
   "metadata": {
    "execution": {
     "iopub.execute_input": "2023-05-20T08:39:05.257101Z",
     "iopub.status.busy": "2023-05-20T08:39:05.256160Z",
     "iopub.status.idle": "2023-05-20T08:39:05.285918Z",
     "shell.execute_reply": "2023-05-20T08:39:05.284111Z"
    },
    "papermill": {
     "duration": 0.062939,
     "end_time": "2023-05-20T08:39:05.290489",
     "exception": false,
     "start_time": "2023-05-20T08:39:05.227550",
     "status": "completed"
    },
    "tags": []
   },
   "outputs": [
    {
     "name": "stdout",
     "output_type": "stream",
     "text": [
      "                          0         1    2    3\n",
      "bill_length_mm     0.665834  0.179744 -0.0  0.0\n",
      "bill_depth_mm     -0.561658  0.236985  0.0 -0.0\n",
      "flipper_length_mm  0.874881 -0.009841  0.0 -0.0\n",
      "body_mass_g        0.840450  0.010157  0.0  0.0\n"
     ]
    }
   ],
   "source": [
    "print(pd.DataFrame(factor.components_, columns=X.columns).T)"
   ]
  },
  {
   "cell_type": "markdown",
   "id": "592cefa4",
   "metadata": {
    "papermill": {
     "duration": 0.012431,
     "end_time": "2023-05-20T08:39:05.325999",
     "exception": false,
     "start_time": "2023-05-20T08:39:05.313568",
     "status": "completed"
    },
    "tags": []
   },
   "source": [
    "## Obtention d'une réduction dimensionnelle"
   ]
  },
  {
   "cell_type": "code",
   "execution_count": 9,
   "id": "4a045281",
   "metadata": {
    "execution": {
     "iopub.execute_input": "2023-05-20T08:39:05.353279Z",
     "iopub.status.busy": "2023-05-20T08:39:05.352791Z",
     "iopub.status.idle": "2023-05-20T08:39:05.367306Z",
     "shell.execute_reply": "2023-05-20T08:39:05.365808Z"
    },
    "papermill": {
     "duration": 0.03129,
     "end_time": "2023-05-20T08:39:05.369919",
     "exception": false,
     "start_time": "2023-05-20T08:39:05.338629",
     "status": "completed"
    },
    "tags": []
   },
   "outputs": [
    {
     "name": "stdout",
     "output_type": "stream",
     "text": [
      "Ecart-type expliqué par chaque composant: [0.68634 0.19453 0.09216] \n",
      "\n",
      "                          0         1         2\n",
      "bill_length_mm     0.453753  0.600195  0.642495\n",
      "bill_depth_mm     -0.399047  0.796170 -0.425800\n",
      "flipper_length_mm  0.576825  0.005788 -0.236095\n",
      "body_mass_g        0.549675  0.076464 -0.591737\n"
     ]
    }
   ],
   "source": [
    "from sklearn.decomposition import PCA\n",
    "pca = PCA(n_components=\"mle\").fit(X)\n",
    "print('Ecart-type expliqué par chaque composant:',\n",
    "      pca.explained_variance_ratio_.round(5),\"\\n\")\n",
    "print(pd.DataFrame(pca.components_, columns=X.columns).T)"
   ]
  },
  {
   "cell_type": "markdown",
   "id": "218726b1",
   "metadata": {
    "papermill": {
     "duration": 0.012365,
     "end_time": "2023-05-20T08:39:05.395114",
     "exception": false,
     "start_time": "2023-05-20T08:39:05.382749",
     "status": "completed"
    },
    "tags": []
   },
   "source": [
    "## Extraction d'informations avec t-SNE"
   ]
  },
  {
   "cell_type": "code",
   "execution_count": 10,
   "id": "d7fdf29a",
   "metadata": {
    "execution": {
     "iopub.execute_input": "2023-05-20T08:39:05.423445Z",
     "iopub.status.busy": "2023-05-20T08:39:05.422352Z",
     "iopub.status.idle": "2023-05-20T08:39:05.635311Z",
     "shell.execute_reply": "2023-05-20T08:39:05.634303Z"
    },
    "papermill": {
     "duration": 0.230101,
     "end_time": "2023-05-20T08:39:05.638048",
     "exception": false,
     "start_time": "2023-05-20T08:39:05.407947",
     "status": "completed"
    },
    "tags": []
   },
   "outputs": [],
   "source": [
    "from sklearn.datasets import load_digits\n",
    "digits = load_digits()\n",
    "X = digits.data\n",
    "y = digits.target"
   ]
  },
  {
   "cell_type": "code",
   "execution_count": 11,
   "id": "16c5b257",
   "metadata": {
    "execution": {
     "iopub.execute_input": "2023-05-20T08:39:05.666314Z",
     "iopub.status.busy": "2023-05-20T08:39:05.665340Z",
     "iopub.status.idle": "2023-05-20T08:39:09.207042Z",
     "shell.execute_reply": "2023-05-20T08:39:09.203915Z"
    },
    "papermill": {
     "duration": 3.560376,
     "end_time": "2023-05-20T08:39:09.211268",
     "exception": false,
     "start_time": "2023-05-20T08:39:05.650892",
     "status": "completed"
    },
    "tags": []
   },
   "outputs": [],
   "source": [
    "from sklearn.manifold import TSNE\n",
    "tsne = TSNE(n_components=2,\n",
    "            learning_rate=\"auto\",\n",
    "            init=\"random\", \n",
    "            random_state=0,\n",
    "            perplexity=50, \n",
    "            early_exaggeration=25,\n",
    "            n_iter=300)\n",
    "\n",
    "Tx = tsne.fit_transform(X)"
   ]
  },
  {
   "cell_type": "code",
   "execution_count": 12,
   "id": "c7a4fa5c",
   "metadata": {
    "execution": {
     "iopub.execute_input": "2023-05-20T08:39:09.240499Z",
     "iopub.status.busy": "2023-05-20T08:39:09.240059Z",
     "iopub.status.idle": "2023-05-20T08:39:09.442052Z",
     "shell.execute_reply": "2023-05-20T08:39:09.440265Z"
    },
    "papermill": {
     "duration": 0.221452,
     "end_time": "2023-05-20T08:39:09.447018",
     "exception": false,
     "start_time": "2023-05-20T08:39:09.225566",
     "status": "completed"
    },
    "tags": []
   },
   "outputs": [
    {
     "data": {
      "image/png": "[encoded data removed]",
      "text/plain": [
       "<Figure size 640x480 with 1 Axes>"
      ]
     },
     "metadata": {},
     "output_type": "display_data"
    }
   ],
   "source": [
    "%matplotlib inline\n",
    "import numpy as np\n",
    "import matplotlib.pyplot as plt\n",
    "plt.xticks([], [])\n",
    "plt.yticks([], [])\n",
    "for target in np.unique(y):\n",
    "    selection = y==target\n",
    "    X1, X2 = Tx[selection, 0], Tx[selection, 1]\n",
    "    c1, c2 = np.median(X1), np.median(X2)\n",
    "    plt.plot(X1, X2, 'o', ms=5)\n",
    "    plt.text(c1, c2, target, fontsize=18)"
   ]
  },
  {
   "cell_type": "markdown",
   "id": "8e3e93ab",
   "metadata": {
    "papermill": {
     "duration": 0.013394,
     "end_time": "2023-05-20T08:39:09.480169",
     "exception": false,
     "start_time": "2023-05-20T08:39:09.466775",
     "status": "completed"
    },
    "tags": []
   },
   "source": [
    "# Quelques applications de décomposition"
   ]
  },
  {
   "cell_type": "markdown",
   "id": "6a880e25",
   "metadata": {
    "papermill": {
     "duration": 0.013499,
     "end_time": "2023-05-20T08:39:09.507923",
     "exception": false,
     "start_time": "2023-05-20T08:39:09.494424",
     "status": "completed"
    },
    "tags": []
   },
   "source": [
    "## Reconnaissance de visages par analyse PCA"
   ]
  },
  {
   "cell_type": "code",
   "execution_count": 13,
   "id": "b9797ac2",
   "metadata": {
    "execution": {
     "iopub.execute_input": "2023-05-20T08:39:09.538129Z",
     "iopub.status.busy": "2023-05-20T08:39:09.537327Z",
     "iopub.status.idle": "2023-05-20T08:39:10.113136Z",
     "shell.execute_reply": "2023-05-20T08:39:10.111757Z"
    },
    "papermill": {
     "duration": 0.594736,
     "end_time": "2023-05-20T08:39:10.116417",
     "exception": false,
     "start_time": "2023-05-20T08:39:09.521681",
     "status": "completed"
    },
    "tags": []
   },
   "outputs": [],
   "source": [
    "from sklearn.datasets import fetch_olivetti_faces\n",
    "dataset = fetch_olivetti_faces(shuffle=True, \n",
    "                               random_state=101)\n",
    "train_faces = dataset.data[:350,:]\n",
    "test_faces  = dataset.data[350:,:]\n",
    "train_answers = dataset.target[:350]\n",
    "test_answers = dataset.target[350:]"
   ]
  },
  {
   "cell_type": "code",
   "execution_count": 14,
   "id": "e6089e55",
   "metadata": {
    "execution": {
     "iopub.execute_input": "2023-05-20T08:39:10.146407Z",
     "iopub.status.busy": "2023-05-20T08:39:10.145896Z",
     "iopub.status.idle": "2023-05-20T08:39:10.153575Z",
     "shell.execute_reply": "2023-05-20T08:39:10.151532Z"
    },
    "papermill": {
     "duration": 0.025885,
     "end_time": "2023-05-20T08:39:10.156296",
     "exception": false,
     "start_time": "2023-05-20T08:39:10.130411",
     "status": "completed"
    },
    "tags": []
   },
   "outputs": [
    {
     "name": "stdout",
     "output_type": "stream",
     "text": [
      ".. _olivetti_faces_dataset:\n",
      "\n",
      "The Olivetti faces dataset\n",
      "--------------------------\n",
      "\n",
      "`This dataset contains a set of face images`_ taken between April 1992 and \n",
      "April 1994 at AT&T Laboratories Cambridge. The\n",
      ":func:`sklearn.datasets.fetch_olivetti_faces` function is the data\n",
      "fetching / caching function that downloads the data\n",
      "archive from AT&T.\n",
      "\n",
      ".. _This dataset contains a set of face images: https://cam-orl.co.uk/facedatabase.html\n",
      "\n",
      "As described on the original website:\n",
      "\n",
      "    There are ten different images of each of 40 distinct subjects. For some\n",
      "    subjects, the images were taken at different times, varying the lighting,\n",
      "    facial expressions (open / closed eyes, smiling / not smiling) and facial\n",
      "    details (glasses / no glasses). All the images were taken against a dark\n",
      "    homogeneous background with the subjects in an upright, frontal position \n",
      "    (with tolerance for some side movement).\n",
      "\n",
      "**Data Set Characteristics:**\n",
      "\n",
      "    =================   =====================\n",
      "    Classes                                40\n",
      "    Samples total                         400\n",
      "    Dimensionality                       4096\n",
      "    Features            real, between 0 and 1\n",
      "    =================   =====================\n",
      "\n",
      "The image is quantized to 256 grey levels and stored as unsigned 8-bit \n",
      "integers; the loader will convert these to floating point values on the \n",
      "interval [0, 1], which are easier to work with for many algorithms.\n",
      "\n",
      "The \"target\" for this database is an integer from 0 to 39 indicating the\n",
      "identity of the person pictured; however, with only 10 examples per class, this\n",
      "relatively small dataset is more interesting from an unsupervised or\n",
      "semi-supervised perspective.\n",
      "\n",
      "The original dataset consisted of 92 x 112, while the version available here\n",
      "consists of 64x64 images.\n",
      "\n",
      "When using these images, please give credit to AT&T Laboratories Cambridge.\n",
      "\n"
     ]
    }
   ],
   "source": [
    "print(dataset.DESCR)"
   ]
  },
  {
   "cell_type": "code",
   "execution_count": 15,
   "id": "3a1c4f89",
   "metadata": {
    "execution": {
     "iopub.execute_input": "2023-05-20T08:39:10.187007Z",
     "iopub.status.busy": "2023-05-20T08:39:10.186126Z",
     "iopub.status.idle": "2023-05-20T08:39:10.281856Z",
     "shell.execute_reply": "2023-05-20T08:39:10.280080Z"
    },
    "papermill": {
     "duration": 0.116227,
     "end_time": "2023-05-20T08:39:10.286435",
     "exception": false,
     "start_time": "2023-05-20T08:39:10.170208",
     "status": "completed"
    },
    "tags": []
   },
   "outputs": [
    {
     "name": "stdout",
     "output_type": "stream",
     "text": [
      "Variance expliquée par 25\n",
      "composantes:  0.794\n"
     ]
    }
   ],
   "source": [
    "from sklearn.decomposition import PCA\n",
    "n_components = 25\n",
    "Rpca = PCA(svd_solver='randomized', \n",
    "           n_components=n_components, \n",
    "           whiten=True)\n",
    "Rpca.fit(train_faces)\n",
    "print(f\"Variance expliquée par {n_components}\")\n",
    "print(f\"composantes: \",\n",
    "      f\"{np.sum(Rpca.explained_variance_ratio_):0.3f}\")\n",
    "compressed_train_faces = Rpca.transform(train_faces)\n",
    "compressed_test_faces  = Rpca.transform(test_faces)"
   ]
  },
  {
   "cell_type": "code",
   "execution_count": 16,
   "id": "1a4c5666",
   "metadata": {
    "execution": {
     "iopub.execute_input": "2023-05-20T08:39:10.347700Z",
     "iopub.status.busy": "2023-05-20T08:39:10.346931Z",
     "iopub.status.idle": "2023-05-20T08:39:10.455311Z",
     "shell.execute_reply": "2023-05-20T08:39:10.453242Z"
    },
    "papermill": {
     "duration": 0.144886,
     "end_time": "2023-05-20T08:39:10.460266",
     "exception": false,
     "start_time": "2023-05-20T08:39:10.315380",
     "status": "completed"
    },
    "scrolled": true,
    "tags": []
   },
   "outputs": [
    {
     "name": "stdout",
     "output_type": "stream",
     "text": [
      "La personne représentée est le sujet 34\n"
     ]
    },
    {
     "data": {
      "image/png": "[encoded data removed]",
      "text/plain": [
       "<Figure size 640x480 with 1 Axes>"
      ]
     },
     "metadata": {},
     "output_type": "display_data"
    }
   ],
   "source": [
    "%matplotlib inline\n",
    "import matplotlib.pyplot as plt\n",
    "\n",
    "photo = 17\n",
    "print(f\"La personne représentée est le sujet \"\n",
    "      f\"{test_answers[photo]}\")\n",
    "plt.subplot(1, 2, 1)\n",
    "plt.axis('off')\n",
    "plt.title(f\"Photo {photo} inconnue dans le jeu de test\")\n",
    "plt.imshow(test_faces[photo].reshape(64, 64), \n",
    "           cmap=plt.cm.gray, interpolation=\"nearest\")\n",
    "plt.show()"
   ]
  },
  {
   "cell_type": "code",
   "execution_count": 17,
   "id": "79a777c4",
   "metadata": {
    "execution": {
     "iopub.execute_input": "2023-05-20T08:39:10.524718Z",
     "iopub.status.busy": "2023-05-20T08:39:10.523193Z",
     "iopub.status.idle": "2023-05-20T08:39:10.537437Z",
     "shell.execute_reply": "2023-05-20T08:39:10.536008Z"
    },
    "papermill": {
     "duration": 0.048856,
     "end_time": "2023-05-20T08:39:10.539870",
     "exception": false,
     "start_time": "2023-05-20T08:39:10.491014",
     "status": "completed"
    },
    "tags": []
   },
   "outputs": [
    {
     "name": "stdout",
     "output_type": "stream",
     "text": [
      "Sujet le plus ressemblant dans le jeu d'entraînement: 34\n"
     ]
    }
   ],
   "source": [
    "mask = compressed_test_faces[photo,] \n",
    "squared_errors = np.sum((compressed_train_faces \n",
    "                         - mask)**2, axis=1)\n",
    "minimum_error_face = np.argmin(squared_errors)\n",
    "most_resembling = list(np.where(squared_errors < 20)[0])\n",
    "print(f\"Sujet le plus ressemblant dans le jeu d'entraînement: \"\n",
    "      f\"{train_answers[minimum_error_face]}\")"
   ]
  },
  {
   "cell_type": "code",
   "execution_count": 18,
   "id": "ecf3777b",
   "metadata": {
    "execution": {
     "iopub.execute_input": "2023-05-20T08:39:10.571946Z",
     "iopub.status.busy": "2023-05-20T08:39:10.571072Z",
     "iopub.status.idle": "2023-05-20T08:39:10.791053Z",
     "shell.execute_reply": "2023-05-20T08:39:10.788935Z"
    },
    "papermill": {
     "duration": 0.241375,
     "end_time": "2023-05-20T08:39:10.795951",
     "exception": false,
     "start_time": "2023-05-20T08:39:10.554576",
     "status": "completed"
    },
    "tags": []
   },
   "outputs": [
    {
     "data": {
      "image/png": "[encoded data removed]",
      "text/plain": [
       "<Figure size 640x480 with 4 Axes>"
      ]
     },
     "metadata": {},
     "output_type": "display_data"
    }
   ],
   "source": [
    "%matplotlib inline\n",
    "import matplotlib.pyplot as plt\n",
    "plt.subplot(2, 2, 1)\n",
    "plt.axis('off')\n",
    "plt.title(f'Visage {photo} inconnu du jeu de test')\n",
    "plt.imshow(test_faces[photo].reshape(64, 64), \n",
    "           cmap=plt.cm.gray, \n",
    "           interpolation='nearest')\n",
    "for k,m in enumerate(most_resembling[:3]):\n",
    "    plt.subplot(2, 2, 2+k)\n",
    "    plt.title(f'Visage connu dans le jeu {m}')\n",
    "    plt.axis('off')\n",
    "    plt.imshow(train_faces[m].reshape(64, 64), \n",
    "               cmap=plt.cm.gray, \n",
    "               interpolation='nearest')\n",
    "plt.show()"
   ]
  },
  {
   "cell_type": "markdown",
   "id": "e26aa1e5",
   "metadata": {
    "papermill": {
     "duration": 0.01516,
     "end_time": "2023-05-20T08:39:10.836773",
     "exception": false,
     "start_time": "2023-05-20T08:39:10.821613",
     "status": "completed"
    },
    "tags": []
   },
   "source": [
    "## Extraction de sujets par factorisation NMF"
   ]
  },
  {
   "cell_type": "code",
   "execution_count": 19,
   "id": "a058d2cb",
   "metadata": {
    "execution": {
     "iopub.execute_input": "2023-05-20T08:39:10.870461Z",
     "iopub.status.busy": "2023-05-20T08:39:10.869328Z",
     "iopub.status.idle": "2023-05-20T08:39:23.319379Z",
     "shell.execute_reply": "2023-05-20T08:39:23.317734Z"
    },
    "papermill": {
     "duration": 12.470189,
     "end_time": "2023-05-20T08:39:23.322443",
     "exception": false,
     "start_time": "2023-05-20T08:39:10.852254",
     "status": "completed"
    },
    "tags": []
   },
   "outputs": [
    {
     "name": "stdout",
     "output_type": "stream",
     "text": [
      "Posts: 585\n"
     ]
    }
   ],
   "source": [
    "from sklearn.datasets import fetch_20newsgroups\n",
    "dataset = fetch_20newsgroups(\n",
    "    shuffle=True, \n",
    "    categories = ['misc.forsale'], \n",
    "    remove=('headers', 'footers', 'quotes'), \n",
    "    random_state=101)\n",
    "print(f'Posts: {len(dataset.data)}')"
   ]
  },
  {
   "cell_type": "code",
   "execution_count": 20,
   "id": "d78f58f8",
   "metadata": {
    "execution": {
     "iopub.execute_input": "2023-05-20T08:39:23.355519Z",
     "iopub.status.busy": "2023-05-20T08:39:23.355025Z",
     "iopub.status.idle": "2023-05-20T08:39:23.613937Z",
     "shell.execute_reply": "2023-05-20T08:39:23.612011Z"
    },
    "papermill": {
     "duration": 0.281503,
     "end_time": "2023-05-20T08:39:23.619452",
     "exception": false,
     "start_time": "2023-05-20T08:39:23.337949",
     "status": "completed"
    },
    "tags": []
   },
   "outputs": [],
   "source": [
    "from sklearn.feature_extraction.text import \\\n",
    "    TfidfVectorizer\n",
    "from sklearn.decomposition import NMF\n",
    "\n",
    "vectorizer = TfidfVectorizer(max_df=0.95, min_df=2, \n",
    "                             stop_words='english')\n",
    "tfidf = vectorizer.fit_transform(dataset.data)\n",
    "\n",
    "n_topics = 5\n",
    "nmf = NMF(n_components=n_topics,\n",
    "          init=\"nndsvda\",\n",
    "          random_state=101).fit(tfidf)"
   ]
  },
  {
   "cell_type": "code",
   "execution_count": 21,
   "id": "bf9724f6",
   "metadata": {
    "execution": {
     "iopub.execute_input": "2023-05-20T08:39:23.688190Z",
     "iopub.status.busy": "2023-05-20T08:39:23.687420Z",
     "iopub.status.idle": "2023-05-20T08:39:23.710037Z",
     "shell.execute_reply": "2023-05-20T08:39:23.708170Z"
    },
    "papermill": {
     "duration": 0.062086,
     "end_time": "2023-05-20T08:39:23.714795",
     "exception": false,
     "start_time": "2023-05-20T08:39:23.652709",
     "status": "completed"
    },
    "tags": []
   },
   "outputs": [
    {
     "name": "stdout",
     "output_type": "stream",
     "text": [
      "Topic #1:\tcondition excellent asking offer best car old new sale 10 miles 000 tape cd power\n",
      "Topic #2:\t00 50 dos 20 10 15 cover 1st new 25 price man 40 shipping comics\n",
      "Topic #3:\tdrive hard card floppy monitor meg ram disk motherboard vga modem brand scsi color internal\n",
      "Topic #4:\temail looking game games send interested mail thanks like edu good want package price list\n",
      "Topic #5:\tshipping vcr works stereo obo included amp plus great volume unc mathes gibbs radley remotes\n"
     ]
    }
   ],
   "source": [
    "feature_names = vectorizer.get_feature_names_out()\n",
    "n_top_words = 15\n",
    "for topic_idx, topic in enumerate(nmf.components_):\n",
    "    print(f'Topic #{topic_idx+1}:', end=\"\\t\")\n",
    "    topics = topic.argsort()[:-n_top_words - 1:-1]\n",
    "    print(' '.join([feature_names[i] for i in topics]))"
   ]
  },
  {
   "cell_type": "code",
   "execution_count": 22,
   "id": "e25bd498",
   "metadata": {
    "execution": {
     "iopub.execute_input": "2023-05-20T08:39:23.757007Z",
     "iopub.status.busy": "2023-05-20T08:39:23.756573Z",
     "iopub.status.idle": "2023-05-20T08:39:23.764410Z",
     "shell.execute_reply": "2023-05-20T08:39:23.762949Z"
    },
    "papermill": {
     "duration": 0.028204,
     "end_time": "2023-05-20T08:39:23.767505",
     "exception": false,
     "start_time": "2023-05-20T08:39:23.739301",
     "status": "completed"
    },
    "tags": []
   },
   "outputs": [
    {
     "name": "stdout",
     "output_type": "stream",
     "text": [
      "[1075 1459  632 2463  740  888 2476 2415 2987   10 2305    1 3349  923\n",
      " 2680]\n"
     ]
    }
   ],
   "source": [
    "print(nmf.components_[0,:].argsort()[:-n_top_words-1:-1])"
   ]
  },
  {
   "cell_type": "code",
   "execution_count": 30,
   "id": "b400295a",
   "metadata": {
    "execution": {
     "iopub.execute_input": "2023-05-20T08:39:23.801964Z",
     "iopub.status.busy": "2023-05-20T08:39:23.800799Z",
     "iopub.status.idle": "2023-05-20T08:39:23.810783Z",
     "shell.execute_reply": "2023-05-20T08:39:23.809325Z"
    },
    "papermill": {
     "duration": 0.030054,
     "end_time": "2023-05-20T08:39:23.813463",
     "exception": false,
     "start_time": "2023-05-20T08:39:23.783409",
     "status": "completed"
    },
    "tags": []
   },
   "outputs": [
    {
     "name": "stdout",
     "output_type": "stream",
     "text": [
      "condition\n"
     ]
    }
   ],
   "source": [
    "word_index = 1075\n",
    "print(vectorizer.get_feature_names_out()[word_index])"
   ]
  },
  {
   "cell_type": "markdown",
   "id": "033178fc",
   "metadata": {
    "papermill": {
     "duration": 0.015707,
     "end_time": "2023-05-20T08:39:23.845299",
     "exception": false,
     "start_time": "2023-05-20T08:39:23.829592",
     "status": "completed"
    },
    "tags": []
   },
   "source": [
    "## Suggestions cinématographiques"
   ]
  },
  {
   "cell_type": "code",
   "execution_count": 24,
   "id": "425fcd1a",
   "metadata": {
    "execution": {
     "iopub.execute_input": "2023-05-20T08:39:23.879856Z",
     "iopub.status.busy": "2023-05-20T08:39:23.878771Z",
     "iopub.status.idle": "2023-05-20T08:39:23.886098Z",
     "shell.execute_reply": "2023-05-20T08:39:23.884399Z"
    },
    "papermill": {
     "duration": 0.027438,
     "end_time": "2023-05-20T08:39:23.888775",
     "exception": false,
     "start_time": "2023-05-20T08:39:23.861337",
     "status": "completed"
    },
    "tags": []
   },
   "outputs": [
    {
     "name": "stdout",
     "output_type": "stream",
     "text": [
      "C:\\Users\\Sergent\\P4DS4D3_US\n"
     ]
    }
   ],
   "source": [
    "import os\n",
    "print(os.getcwd())"
   ]
  },
  {
   "cell_type": "code",
   "execution_count": 25,
   "id": "ce9fc13b",
   "metadata": {
    "execution": {
     "iopub.execute_input": "2023-05-20T08:39:23.922834Z",
     "iopub.status.busy": "2023-05-20T08:39:23.922418Z",
     "iopub.status.idle": "2023-05-20T08:39:34.562966Z",
     "shell.execute_reply": "2023-05-20T08:39:34.561555Z"
    },
    "papermill": {
     "duration": 10.661677,
     "end_time": "2023-05-20T08:39:34.566204",
     "exception": false,
     "start_time": "2023-05-20T08:39:23.904527",
     "status": "completed"
    },
    "tags": []
   },
   "outputs": [],
   "source": [
    "import urllib.request\n",
    "import zipfile\n",
    "\n",
    "def get_movielens():\n",
    "    url = (\"http://files.grouplens.org/datasets\"\n",
    "           \"/movielens/ml-1m.zip\")\n",
    "    filename = 'ml-1m.zip'\n",
    "    urllib.request.urlretrieve(url, filename)\n",
    "    params = {\"sep\":\"::\", \"engine\":\"python\",\n",
    "              \"encoding\":\"latin-1\"}\n",
    "\n",
    "    with zipfile.ZipFile('ml-1m.zip', 'r') as zip_file:\n",
    "        with zip_file.open('ml-1m/users.dat') as file:\n",
    "            users = pd.read_csv(\n",
    "                file, \n",
    "                names=['user_id', 'gender', 'age', \n",
    "                       'occupation', 'zip'],\n",
    "                **params)\n",
    "        with zip_file.open('ml-1m/ratings.dat') as file:\n",
    "            ratings = pd.read_csv(\n",
    "                file, \n",
    "                names=['user_id', 'movie_id', 'rating',\n",
    "                       'timestamp'],\n",
    "                **params)\n",
    "        with zip_file.open('ml-1m/movies.dat') as file:\n",
    "            movies = pd.read_csv(\n",
    "                file, \n",
    "                names=['movie_id', 'title', 'genres'],\n",
    "                **params)\n",
    "    return pd.merge(pd.merge(ratings, users), movies)\n",
    "        \n",
    "movielens = get_movielens()"
   ]
  },
  {
   "cell_type": "code",
   "execution_count": 26,
   "id": "773a3fde",
   "metadata": {
    "execution": {
     "iopub.execute_input": "2023-05-20T08:39:34.600538Z",
     "iopub.status.busy": "2023-05-20T08:39:34.600067Z",
     "iopub.status.idle": "2023-05-20T08:39:39.005836Z",
     "shell.execute_reply": "2023-05-20T08:39:39.004713Z"
    },
    "papermill": {
     "duration": 4.426174,
     "end_time": "2023-05-20T08:39:39.008624",
     "exception": false,
     "start_time": "2023-05-20T08:39:34.582450",
     "status": "completed"
    },
    "tags": []
   },
   "outputs": [],
   "source": [
    "ratings_mtx_df = movielens.pivot_table(values='rating', \n",
    "        index='user_id', columns='title', fill_value=0)\n",
    "movie_index = ratings_mtx_df.columns"
   ]
  },
  {
   "cell_type": "code",
   "execution_count": 27,
   "id": "72fac546",
   "metadata": {
    "execution": {
     "iopub.execute_input": "2023-05-20T08:39:39.043103Z",
     "iopub.status.busy": "2023-05-20T08:39:39.042433Z",
     "iopub.status.idle": "2023-05-20T08:39:41.646725Z",
     "shell.execute_reply": "2023-05-20T08:39:41.645528Z"
    },
    "papermill": {
     "duration": 2.625321,
     "end_time": "2023-05-20T08:39:41.649952",
     "exception": false,
     "start_time": "2023-05-20T08:39:39.024631",
     "status": "completed"
    },
    "tags": []
   },
   "outputs": [],
   "source": [
    "from sklearn.decomposition import TruncatedSVD\n",
    "recom = TruncatedSVD(n_components=15, random_state=101)\n",
    "R = recom.fit_transform(ratings_mtx_df.values.T)"
   ]
  },
  {
   "cell_type": "code",
   "execution_count": 32,
   "id": "ad96cd04",
   "metadata": {
    "execution": {
     "iopub.execute_input": "2023-05-20T08:39:41.683808Z",
     "iopub.status.busy": "2023-05-20T08:39:41.683413Z",
     "iopub.status.idle": "2023-05-20T08:39:41.692906Z",
     "shell.execute_reply": "2023-05-20T08:39:41.691322Z"
    },
    "papermill": {
     "duration": 0.029341,
     "end_time": "2023-05-20T08:39:41.695269",
     "exception": false,
     "start_time": "2023-05-20T08:39:41.665928",
     "status": "completed"
    },
    "tags": []
   },
   "outputs": [
    {
     "name": "stdout",
     "output_type": "stream",
     "text": [
      "Index du film: 3154\n",
      "[184.72254552 -17.77612872  47.33450866  51.4664494   47.92058216\n",
      "  17.65033116  14.3574635  -12.82219207  17.51347857   5.46888807\n",
      "   7.5430805   -0.57117869 -30.74032355   2.4088565  -22.50368497]\n"
     ]
    }
   ],
   "source": [
    "movie = 'Star Wars: Episode V \\\n",
    "- The Empire Strikes Back (1980)'\n",
    "movie_idx = list(movie_index).index(movie)\n",
    "print(f\"Index du film: {movie_idx}\")\n",
    "print(R[movie_idx])"
   ]
  },
  {
   "cell_type": "code",
   "execution_count": 33,
   "id": "70fd1fc8",
   "metadata": {
    "execution": {
     "iopub.execute_input": "2023-05-20T08:39:41.730189Z",
     "iopub.status.busy": "2023-05-20T08:39:41.728898Z",
     "iopub.status.idle": "2023-05-20T08:39:41.943498Z",
     "shell.execute_reply": "2023-05-20T08:39:41.941573Z"
    },
    "papermill": {
     "duration": 0.237258,
     "end_time": "2023-05-20T08:39:41.948771",
     "exception": false,
     "start_time": "2023-05-20T08:39:41.711513",
     "status": "completed"
    },
    "tags": []
   },
   "outputs": [
    {
     "name": "stdout",
     "output_type": "stream",
     "text": [
      "['Raiders of the Lost Ark (1981)', 'Star Wars: Episode IV - A New Hope (1977)', 'Star Wars: Episode V - The Empire Strikes Back (1980)', 'Star Wars: Episode VI - Return of the Jedi (1983)', 'Terminator, The (1984)']\n"
     ]
    }
   ],
   "source": [
    "import numpy as np\n",
    "correlation_matrix = np.corrcoef(R)\n",
    "P = correlation_matrix[movie_idx]\n",
    "print(list(movie_index[(P > 0.95) & (P < 1.0)]))"
   ]
  },
  {
   "cell_type": "code",
   "execution_count": null,
   "id": "02548a91",
   "metadata": {},
   "outputs": [],
   "source": []
  }
 ],
 "metadata": {
  "kernelspec": {
   "display_name": "Python 3 (ipykernel)",
   "language": "python",
   "name": "python3"
  },
  "language_info": {
   "codemirror_mode": {
    "name": "ipython",
    "version": 3
   },
   "file_extension": ".py",
   "mimetype": "text/x-python",
   "name": "python",
   "nbconvert_exporter": "python",
   "pygments_lexer": "ipython3",
   "version": "3.11.5"
  },
  "papermill": {
   "default_parameters": {},
   "duration": 53.006153,
   "end_time": "2023-05-20T08:39:42.795577",
   "environment_variables": {},
   "exception": null,
   "input_path": "__notebook__.ipynb",
   "output_path": "__notebook__.ipynb",
   "parameters": {},
   "start_time": "2023-05-20T08:38:49.789424",
   "version": "2.4.0"
  }
 },
 "nbformat": 4,
 "nbformat_minor": 5
}
