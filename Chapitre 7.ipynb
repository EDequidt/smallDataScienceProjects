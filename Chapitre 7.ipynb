{
 "cells": [
  {
   "cell_type": "code",
   "execution_count": 1,
   "id": "fb6978fa-6d1b-4aec-942a-f2b0a5213f1d",
   "metadata": {
    "scrolled": true
   },
   "outputs": [
    {
     "name": "stdout",
     "output_type": "stream",
     "text": [
      "  Number   String Boolean\n",
      "0      1    Primo    True\n",
      "1      2  Secundo   False\n",
      "2      3   Tertio    True\n",
      "3      3   Tertio    True\n",
      "\n",
      "3    True\n",
      "dtype: bool\n"
     ]
    }
   ],
   "source": [
    "from lxml import objectify\n",
    "import pandas as pd\n",
    "\n",
    "xml = objectify.parse(open('XMLData2.xml'))\n",
    "root = xml.getroot()\n",
    "df = pd.DataFrame(columns=('Number', 'String', 'Boolean'))\n",
    "for i in range(0,4):\n",
    "    obj = root.getchildren()[i].getchildren()\n",
    "    row = dict(zip(['Number', 'String', 'Boolean'], [obj[0].text, obj[1].text, obj[2].text]))\n",
    "    row_s = pd.Series(row)\n",
    "    row_s.name = i\n",
    "    row_s = row_s.to_frame().transpose()\n",
    "    df = pd.concat([df, row_s])\n",
    "\n",
    "search = pd.DataFrame.duplicated(df)\n",
    "print(df)\n",
    "print()\n",
    "print(search[search == True])"
   ]
  },
  {
   "cell_type": "code",
   "execution_count": 2,
   "id": "1bf926d3-00a7-45f0-9ea9-d85e5df6a14b",
   "metadata": {},
   "outputs": [
    {
     "name": "stdout",
     "output_type": "stream",
     "text": [
      "  Number   String Boolean\n",
      "0      1    Primo    True\n",
      "1      2  Secundo   False\n",
      "2      3   Tertio    True\n"
     ]
    }
   ],
   "source": [
    "print(df.drop_duplicates())"
   ]
  },
  {
   "cell_type": "code",
   "execution_count": 3,
   "id": "f50ef47c-23d2-458a-95c9-a85d08586591",
   "metadata": {},
   "outputs": [
    {
     "name": "stdout",
     "output_type": "stream",
     "text": [
      "      B                                                 \\\n",
      "  count      mean       std  min   25%  50%   75%  max   \n",
      "A                                                        \n",
      "0   4.0  3.500000  1.290994  2.0  2.75  3.5  4.25  5.0   \n",
      "1   3.0  2.666667  2.081666  1.0  1.50  2.0  3.50  5.0   \n",
      "\n",
      "      C                                                \n",
      "  count      mean       std  min  25%  50%   75%  max  \n",
      "A                                                      \n",
      "0   4.0  2.250000  1.500000  1.0  1.0  2.0  3.25  4.0  \n",
      "1   3.0  3.333333  1.527525  2.0  2.5  3.0  4.00  5.0  \n"
     ]
    }
   ],
   "source": [
    "import pandas as pd\n",
    "pd.set_option('display.width', 55)\n",
    "\n",
    "df = pd.DataFrame({'A': [1,0,0,0,0,1,1],\n",
    "                   'B': [1,2,3,5,4,2,5],\n",
    "                   'C': [5,3,4,1,1,2,3]})\n",
    "\n",
    "a_group_desc = df.groupby('A').describe()\n",
    "pd.set_option('display.width', 60)\n",
    "print(a_group_desc)"
   ]
  },
  {
   "cell_type": "code",
   "execution_count": 4,
   "id": "2b67a99a-cd07-40a4-a62a-31b632f7943c",
   "metadata": {},
   "outputs": [
    {
     "name": "stdout",
     "output_type": "stream",
     "text": [
      "                B         C\n",
      "A                          \n",
      "0 count  4.000000  4.000000\n",
      "  mean   3.500000  2.250000\n",
      "  std    1.290994  1.500000\n",
      "  min    2.000000  1.000000\n",
      "  25%    2.750000  1.000000\n",
      "  50%    3.500000  2.000000\n",
      "  75%    4.250000  3.250000\n",
      "  max    5.000000  4.000000\n",
      "1 count  3.000000  3.000000\n",
      "  mean   2.666667  3.333333\n",
      "  std    2.081666  1.527525\n",
      "  min    1.000000  2.000000\n",
      "  25%    1.500000  2.500000\n",
      "  50%    2.000000  3.000000\n",
      "  75%    3.500000  4.000000\n",
      "  max    5.000000  5.000000\n"
     ]
    },
    {
     "name": "stderr",
     "output_type": "stream",
     "text": [
      "C:\\Users\\Azelnoo\\AppData\\Local\\Temp\\ipykernel_8300\\1343200374.py:1: FutureWarning: The previous implementation of stack is deprecated and will be removed in a future version of pandas. See the What's New notes for pandas 2.1.0 for details. Specify future_stack=True to adopt the new implementation and silence this warning.\n",
      "  stacked = a_group_desc.stack()\n"
     ]
    }
   ],
   "source": [
    "stacked = a_group_desc.stack()\n",
    "print(stacked)"
   ]
  },
  {
   "cell_type": "code",
   "execution_count": 5,
   "id": "c2d80092-c354-4e04-801d-018104b5a993",
   "metadata": {},
   "outputs": [
    {
     "name": "stdout",
     "output_type": "stream",
     "text": [
      "      B               C          \n",
      "  count      mean count      mean\n",
      "A                                \n",
      "0   4.0  3.500000   4.0  2.250000\n",
      "1   3.0  2.666667   3.0  3.333333\n"
     ]
    }
   ],
   "source": [
    "print(a_group_desc.loc[:,(slice(None), ['count', 'mean']),])"
   ]
  },
  {
   "cell_type": "code",
   "execution_count": 7,
   "id": "34a307b4-79eb-495a-afd6-2faf67f90d3c",
   "metadata": {},
   "outputs": [
    {
     "name": "stdout",
     "output_type": "stream",
     "text": [
      "0     Bleu\n",
      "1    Rouge\n",
      "2     Vert\n",
      "dtype: category\n",
      "Categories (3, object): ['Bleu', 'Rouge', 'Vert']\n",
      "\n",
      "0      NaN\n",
      "1     Vert\n",
      "2    Rouge\n",
      "3     Bleu\n",
      "4      NaN\n",
      "dtype: category\n",
      "Categories (3, object): ['Bleu', 'Rouge', 'Vert']\n",
      "\n",
      "0    True\n",
      "4    True\n",
      "dtype: bool\n"
     ]
    }
   ],
   "source": [
    "car_colors = pd.Series(['Bleu','Rouge','Vert'],dtype='category')\n",
    "car_data = pd.Series(pd.Categorical(['Jaune', 'Vert', 'Rouge', 'Bleu', 'Pourpre'], categories=car_colors,ordered=False))\n",
    "find_entries = pd.isnull(car_data)\n",
    "print(car_colors)\n",
    "print()\n",
    "print(car_data)\n",
    "print()\n",
    "print(find_entries[find_entries==True])"
   ]
  },
  {
   "cell_type": "markdown",
   "id": "078d4e69-5d72-423c-973b-4449ec8ec7fc",
   "metadata": {},
   "source": [
    "Nous commençons par créer la variable portant le\n",
    "nom car_colors et contenant les trois couleurs de\n",
    "base disponibles pour le modèle de voiture\n",
    "concerné. Notez l'obligation d'ajouter la valeur de\n",
    "la propriété dtype qui vaut category.\n",
    "Nous définissons ensuite une seconde série\n",
    "correspondant à des données d'entrée. Elle contient\n",
    "une liste de couleurs car_data, mais toutes les\n",
    "couleurs ne sont pas définies dans la première série\n",
    "(ce ne sont pas des valeurs acceptables). Lorsque\n",
    "pandas détecte une telle valeur hors limites,\n",
    "l'affichage de la valeur est remplacé par la mention\n",
    "NaN (Not a Number)."
   ]
  },
  {
   "cell_type": "code",
   "execution_count": 14,
   "id": "da41855d-c675-44b8-9f79-99a3d67118ea",
   "metadata": {},
   "outputs": [
    {
     "ename": "AttributeError",
     "evalue": "property 'categories' of 'Categorical' object has no setter",
     "output_type": "error",
     "traceback": [
      "\u001b[1;31m---------------------------------------------------------------------------\u001b[0m",
      "\u001b[1;31mAttributeError\u001b[0m                            Traceback (most recent call last)",
      "Cell \u001b[1;32mIn[14], line 5\u001b[0m\n\u001b[0;32m      2\u001b[0m car_colors \u001b[38;5;241m=\u001b[39m pd\u001b[38;5;241m.\u001b[39mSeries([\u001b[38;5;124m'\u001b[39m\u001b[38;5;124mBleu\u001b[39m\u001b[38;5;124m'\u001b[39m, \u001b[38;5;124m'\u001b[39m\u001b[38;5;124mRouge\u001b[39m\u001b[38;5;124m'\u001b[39m,\u001b[38;5;124m'\u001b[39m\u001b[38;5;124mVert\u001b[39m\u001b[38;5;124m'\u001b[39m],dtype\u001b[38;5;241m=\u001b[39m\u001b[38;5;124m'\u001b[39m\u001b[38;5;124mcategory\u001b[39m\u001b[38;5;124m'\u001b[39m)\n\u001b[0;32m      3\u001b[0m car_data \u001b[38;5;241m=\u001b[39m pd\u001b[38;5;241m.\u001b[39mSeries(pd\u001b[38;5;241m.\u001b[39mCategorical([\u001b[38;5;124m'\u001b[39m\u001b[38;5;124mBleu\u001b[39m\u001b[38;5;124m'\u001b[39m, \u001b[38;5;124m'\u001b[39m\u001b[38;5;124mVert\u001b[39m\u001b[38;5;124m'\u001b[39m, \u001b[38;5;124m'\u001b[39m\u001b[38;5;124mRouge\u001b[39m\u001b[38;5;124m'\u001b[39m, \u001b[38;5;124m'\u001b[39m\u001b[38;5;124mBleu\u001b[39m\u001b[38;5;124m'\u001b[39m,\u001b[38;5;124m'\u001b[39m\u001b[38;5;124mRouge\u001b[39m\u001b[38;5;124m'\u001b[39m],categories\u001b[38;5;241m=\u001b[39mcar_colors,ordered\u001b[38;5;241m=\u001b[39m\u001b[38;5;28;01mFalse\u001b[39;00m))\n\u001b[1;32m----> 5\u001b[0m car_colors\u001b[38;5;241m.\u001b[39mcat\u001b[38;5;241m.\u001b[39mcategories \u001b[38;5;241m=\u001b[39m [\u001b[38;5;124m\"\u001b[39m\u001b[38;5;124mPourpre\u001b[39m\u001b[38;5;124m\"\u001b[39m,\u001b[38;5;124m\"\u001b[39m\u001b[38;5;124mJaune\u001b[39m\u001b[38;5;124m\"\u001b[39m, \u001b[38;5;124m\"\u001b[39m\u001b[38;5;124mMauve\u001b[39m\u001b[38;5;124m\"\u001b[39m]\n\u001b[0;32m      6\u001b[0m car_data\u001b[38;5;241m.\u001b[39mcat\u001b[38;5;241m.\u001b[39mcategories \u001b[38;5;241m=\u001b[39m car_colors\n\u001b[0;32m      7\u001b[0m \u001b[38;5;28mprint\u001b[39m(car_data)\n",
      "File \u001b[1;32mG:\\Anaconda\\Lib\\site-packages\\pandas\\core\\base.py:178\u001b[0m, in \u001b[0;36mNoNewAttributesMixin.__setattr__\u001b[1;34m(self, key, value)\u001b[0m\n\u001b[0;32m    172\u001b[0m \u001b[38;5;28;01mif\u001b[39;00m \u001b[38;5;28mgetattr\u001b[39m(\u001b[38;5;28mself\u001b[39m, \u001b[38;5;124m\"\u001b[39m\u001b[38;5;124m__frozen\u001b[39m\u001b[38;5;124m\"\u001b[39m, \u001b[38;5;28;01mFalse\u001b[39;00m) \u001b[38;5;129;01mand\u001b[39;00m \u001b[38;5;129;01mnot\u001b[39;00m (\n\u001b[0;32m    173\u001b[0m     key \u001b[38;5;241m==\u001b[39m \u001b[38;5;124m\"\u001b[39m\u001b[38;5;124m_cache\u001b[39m\u001b[38;5;124m\"\u001b[39m\n\u001b[0;32m    174\u001b[0m     \u001b[38;5;129;01mor\u001b[39;00m key \u001b[38;5;129;01min\u001b[39;00m \u001b[38;5;28mtype\u001b[39m(\u001b[38;5;28mself\u001b[39m)\u001b[38;5;241m.\u001b[39m\u001b[38;5;18m__dict__\u001b[39m\n\u001b[0;32m    175\u001b[0m     \u001b[38;5;129;01mor\u001b[39;00m \u001b[38;5;28mgetattr\u001b[39m(\u001b[38;5;28mself\u001b[39m, key, \u001b[38;5;28;01mNone\u001b[39;00m) \u001b[38;5;129;01mis\u001b[39;00m \u001b[38;5;129;01mnot\u001b[39;00m \u001b[38;5;28;01mNone\u001b[39;00m\n\u001b[0;32m    176\u001b[0m ):\n\u001b[0;32m    177\u001b[0m     \u001b[38;5;28;01mraise\u001b[39;00m \u001b[38;5;167;01mAttributeError\u001b[39;00m(\u001b[38;5;124mf\u001b[39m\u001b[38;5;124m\"\u001b[39m\u001b[38;5;124mYou cannot add any new attribute \u001b[39m\u001b[38;5;124m'\u001b[39m\u001b[38;5;132;01m{\u001b[39;00mkey\u001b[38;5;132;01m}\u001b[39;00m\u001b[38;5;124m'\u001b[39m\u001b[38;5;124m\"\u001b[39m)\n\u001b[1;32m--> 178\u001b[0m \u001b[38;5;28mobject\u001b[39m\u001b[38;5;241m.\u001b[39m\u001b[38;5;21m__setattr__\u001b[39m(\u001b[38;5;28mself\u001b[39m, key, value)\n",
      "File \u001b[1;32mG:\\Anaconda\\Lib\\site-packages\\pandas\\core\\accessor.py:99\u001b[0m, in \u001b[0;36mPandasDelegate._add_delegate_accessors.<locals>._create_delegator_property.<locals>._setter\u001b[1;34m(self, new_values)\u001b[0m\n\u001b[0;32m     98\u001b[0m \u001b[38;5;28;01mdef\u001b[39;00m \u001b[38;5;21m_setter\u001b[39m(\u001b[38;5;28mself\u001b[39m, new_values):\n\u001b[1;32m---> 99\u001b[0m     \u001b[38;5;28;01mreturn\u001b[39;00m \u001b[38;5;28mself\u001b[39m\u001b[38;5;241m.\u001b[39m_delegate_property_set(name, new_values)\n",
      "File \u001b[1;32mG:\\Anaconda\\Lib\\site-packages\\pandas\\core\\arrays\\categorical.py:2915\u001b[0m, in \u001b[0;36mCategoricalAccessor._delegate_property_set\u001b[1;34m(self, name, new_values)\u001b[0m\n\u001b[0;32m   2914\u001b[0m \u001b[38;5;28;01mdef\u001b[39;00m \u001b[38;5;21m_delegate_property_set\u001b[39m(\u001b[38;5;28mself\u001b[39m, name: \u001b[38;5;28mstr\u001b[39m, new_values):  \u001b[38;5;66;03m# type: ignore[override]\u001b[39;00m\n\u001b[1;32m-> 2915\u001b[0m     \u001b[38;5;28;01mreturn\u001b[39;00m \u001b[38;5;28msetattr\u001b[39m(\u001b[38;5;28mself\u001b[39m\u001b[38;5;241m.\u001b[39m_parent, name, new_values)\n",
      "\u001b[1;31mAttributeError\u001b[0m: property 'categories' of 'Categorical' object has no setter"
     ]
    }
   ],
   "source": [
    "import pandas as pd\n",
    "car_colors = pd.Series(['Bleu', 'Rouge','Vert'],dtype='category')\n",
    "car_data = pd.Series(pd.Categorical(['Bleu', 'Vert', 'Rouge', 'Bleu','Rouge'],categories=car_colors,ordered=False))\n",
    "\n",
    "car_colors.cat.categories = [\"Pourpre\",\"Jaune\", \"Mauve\"]\n",
    "car_data.cat.categories = car_colors\n",
    "print(car_data)"
   ]
  },
  {
   "cell_type": "code",
   "execution_count": 18,
   "id": "bbdacdd8-8d04-467b-a8fe-db0483761de4",
   "metadata": {},
   "outputs": [
    {
     "data": {
      "text/plain": [
       "\u001b[1;31mType:\u001b[0m        property\n",
       "\u001b[1;31mString form:\u001b[0m <property object at 0x0000029B605932E0>\n",
       "\u001b[1;31mDocstring:\u001b[0m  \n",
       "The categories of this categorical.\n",
       "\n",
       "Setting assigns new values to each category (effectively a rename of\n",
       "each individual category).\n",
       "\n",
       "The assigned value has to be a list-like object. All items must be\n",
       "unique and the number of items in the new categories must be the same\n",
       "as the number of items in the old categories.\n",
       "\n",
       "Raises\n",
       "------\n",
       "ValueError\n",
       "    If the new categories do not validate as categories or if the\n",
       "    number of new categories is unequal the number of old categories\n",
       "\n",
       "See Also\n",
       "--------\n",
       "rename_categories : Rename categories.\n",
       "reorder_categories : Reorder categories.\n",
       "add_categories : Add new categories.\n",
       "remove_categories : Remove the specified categories.\n",
       "remove_unused_categories : Remove categories which are not used.\n",
       "set_categories : Set the categories to the specified ones.\n",
       "\n",
       "Examples\n",
       "--------\n",
       "For :class:`pandas.Series`:\n",
       "\n",
       ">>> ser = pd.Series(['a', 'b', 'c', 'a'], dtype='category')\n",
       ">>> ser.cat.categories\n",
       "Index(['a', 'b', 'c'], dtype='object')\n",
       "\n",
       ">>> raw_cat = pd.Categorical(['a', 'b', 'c', 'a'], categories=['b', 'c', 'd'])\n",
       ">>> ser = pd.Series(raw_cat)\n",
       ">>> ser.cat.categories\n",
       "Index(['b', 'c', 'd'], dtype='object')\n",
       "\n",
       "For :class:`pandas.Categorical`:\n",
       "\n",
       ">>> cat = pd.Categorical(['a', 'b'], ordered=True)\n",
       ">>> cat.categories\n",
       "Index(['a', 'b'], dtype='object')\n",
       "\n",
       "For :class:`pandas.CategoricalIndex`:\n",
       "\n",
       ">>> ci = pd.CategoricalIndex(['a', 'c', 'b', 'a', 'c', 'b'])\n",
       ">>> ci.categories\n",
       "Index(['a', 'b', 'c'], dtype='object')\n",
       "\n",
       ">>> ci = pd.CategoricalIndex(['a', 'c'], categories=['c', 'b', 'a'])\n",
       ">>> ci.categories\n",
       "Index(['c', 'b', 'a'], dtype='object')"
      ]
     },
     "metadata": {},
     "output_type": "display_data"
    }
   ],
   "source": [
    "car_colors.cat.categories?"
   ]
  },
  {
   "cell_type": "code",
   "execution_count": 21,
   "id": "ce067303-1911-4bd7-87b3-0e582b465e5d",
   "metadata": {},
   "outputs": [
    {
     "name": "stdout",
     "output_type": "stream",
     "text": [
      "\n",
      "0    Bleu_Rouge\n",
      "1          Vert\n",
      "2    Bleu_Rouge\n",
      "3          Vert\n",
      "4    Bleu_Rouge\n",
      "5          Vert\n",
      "dtype: category\n",
      "Categories (2, object): ['Vert', 'Bleu_Rouge']\n"
     ]
    }
   ],
   "source": [
    "import pandas as pd\n",
    "\n",
    "car_colors = pd.Series(['Bleu', 'Rouge', 'Vert'], dtype='category')\n",
    "car_data = pd.Series(pd.Categorical(['Bleu', 'Vert', 'Rouge', 'Vert','Rouge', 'Vert'], categories=car_colors, ordered=False))\n",
    "\n",
    "car_data = car_data.cat.set_categories([\"Bleu\", \"Rouge\", \"Vert\", \"Bleu_Rouge\"])\n",
    "car_data.loc[car_data.isin(['Rouge'])]='Bleu_Rouge'\n",
    "car_data.loc[car_data.isin(['Bleu'])]='Bleu_Rouge'\n",
    "\n",
    "car_data = car_data.cat.set_categories([\"Vert\", \"Bleu_Rouge\"])\n",
    "\n",
    "print()\n",
    "print(car_data)"
   ]
  }
 ],
 "metadata": {
  "kernelspec": {
   "display_name": "Python 3 (ipykernel)",
   "language": "python",
   "name": "python3"
  },
  "language_info": {
   "codemirror_mode": {
    "name": "ipython",
    "version": 3
   },
   "file_extension": ".py",
   "mimetype": "text/x-python",
   "name": "python",
   "nbconvert_exporter": "python",
   "pygments_lexer": "ipython3",
   "version": "3.12.4"
  }
 },
 "nbformat": 4,
 "nbformat_minor": 5
}
