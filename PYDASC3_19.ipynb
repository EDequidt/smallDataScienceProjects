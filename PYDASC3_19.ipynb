{
 "cells": [
  {
   "cell_type": "markdown",
   "id": "10208a09",
   "metadata": {
    "papermill": {
     "duration": 0.019975,
     "end_time": "2023-05-13T06:31:27.965085",
     "exception": false,
     "start_time": "2023-05-13T06:31:27.945110",
     "status": "completed"
    },
    "tags": []
   },
   "source": [
    "# 19 : Transformations non linéaires"
   ]
  },
  {
   "cell_type": "markdown",
   "id": "997ebdb9",
   "metadata": {
    "papermill": {
     "duration": 0.017944,
     "end_time": "2023-05-13T06:31:28.002745",
     "exception": false,
     "start_time": "2023-05-13T06:31:27.984801",
     "status": "completed"
    },
    "tags": []
   },
   "source": [
    "## Transformations variables"
   ]
  },
  {
   "cell_type": "code",
   "execution_count": 1,
   "id": "08655971",
   "metadata": {
    "execution": {
     "iopub.execute_input": "2023-05-13T06:31:28.042463Z",
     "iopub.status.busy": "2023-05-13T06:31:28.041979Z",
     "iopub.status.idle": "2023-05-13T06:31:31.823772Z",
     "shell.execute_reply": "2023-05-13T06:31:31.821856Z"
    },
    "papermill": {
     "duration": 3.807619,
     "end_time": "2023-05-13T06:31:31.828871",
     "exception": false,
     "start_time": "2023-05-13T06:31:28.021252",
     "status": "completed"
    },
    "tags": []
   },
   "outputs": [
    {
     "name": "stdout",
     "output_type": "stream",
     "text": [
      ".. _california_housing_dataset:\n",
      "\n",
      "California Housing dataset\n",
      "--------------------------\n",
      "\n",
      "**Data Set Characteristics:**\n",
      "\n",
      "    :Number of Instances: 20640\n",
      "\n",
      "    :Number of Attributes: 8 numeric, predictive attributes and the target\n",
      "\n",
      "    :Attribute Information:\n",
      "        - MedInc        median income in block group\n",
      "        - HouseAge      median house age in block group\n",
      "        - AveRooms      average number of rooms per household\n",
      "        - AveBedrms     average number of bedrooms per household\n",
      "        - Population    block group population\n",
      "        - AveOccup      average number of household members\n",
      "        - Latitude      block group latitude\n",
      "        - Longitude     block group longitude\n",
      "\n",
      "    :Missing Attribute Values: None\n",
      "\n",
      "This dataset was obtained from the StatLib repository.\n",
      "https://www.dcc.fc.up.pt/~ltorgo/Regression/cal_housing.html\n",
      "\n",
      "The target variable is the median house value for California districts,\n",
      "expressed in hundreds of thousands of dollars ($100,000).\n",
      "\n",
      "This dataset was derived from the 1990 U.S. census, using one row per census\n",
      "block group. A block group is the smallest geographical unit for which the U.S.\n",
      "Census Bureau publishes sample data (a block group typically has a population\n",
      "of 600 to 3,000 people).\n",
      "\n",
      "A household is a group of people residing within a home. Since the average\n",
      "number of rooms and bedrooms in this dataset are provided per household, these\n",
      "columns may take surprisingly large values for block groups with few households\n",
      "and many empty houses, such as vacation resorts.\n",
      "\n",
      "It can be downloaded/loaded using the\n",
      ":func:`sklearn.datasets.fetch_california_housing` function.\n",
      "\n",
      ".. topic:: References\n",
      "\n",
      "    - Pace, R. Kelley and Ronald Barry, Sparse Spatial Autoregressions,\n",
      "      Statistics and Probability Letters, 33 (1997) 291-297\n",
      "\n"
     ]
    }
   ],
   "source": [
    "from sklearn.datasets import fetch_california_housing\n",
    "import pandas as pd\n",
    "\n",
    "def load_california_housing_data():\n",
    "    dataset = fetch_california_housing()\n",
    "    X = pd.DataFrame(data=dataset.data, \n",
    "                     columns=dataset.feature_names)\n",
    "    y = pd.Series(data=dataset.target, name=\"target\")\n",
    "    print(dataset.DESCR)\n",
    "    return X, y\n",
    "\n",
    "X, y = load_california_housing_data()"
   ]
  },
  {
   "cell_type": "code",
   "execution_count": 2,
   "id": "d8cc04e9",
   "metadata": {
    "execution": {
     "iopub.execute_input": "2023-05-13T06:31:31.870038Z",
     "iopub.status.busy": "2023-05-13T06:31:31.869594Z",
     "iopub.status.idle": "2023-05-13T06:31:31.896236Z",
     "shell.execute_reply": "2023-05-13T06:31:31.894647Z"
    },
    "papermill": {
     "duration": 0.050851,
     "end_time": "2023-05-13T06:31:31.899675",
     "exception": false,
     "start_time": "2023-05-13T06:31:31.848824",
     "status": "completed"
    },
    "tags": []
   },
   "outputs": [],
   "source": [
    "X[\"AveOccup\"] = X[\"AveOccup\"].clip(upper=100)\n",
    "\n",
    "X['AveOccupRooms'] = X['AveOccup'] / X['AveRooms']\n",
    "X['AveOccupBedrms'] = X['AveOccup'] / X['AveBedrms']\n",
    "X['Rooms_capita'] = X['Population'] / X['AveRooms']\n",
    "X['Bedrms_capita'] =  X['Population'] / X['AveBedrms']\n",
    "X['Bedrms_pct'] = X['AveBedrms'] / X['AveRooms']"
   ]
  },
  {
   "cell_type": "code",
   "execution_count": 3,
   "id": "28b12f6b",
   "metadata": {
    "execution": {
     "iopub.execute_input": "2023-05-13T06:31:31.942198Z",
     "iopub.status.busy": "2023-05-13T06:31:31.941641Z",
     "iopub.status.idle": "2023-05-13T06:31:32.283364Z",
     "shell.execute_reply": "2023-05-13T06:31:32.281385Z"
    },
    "papermill": {
     "duration": 0.369637,
     "end_time": "2023-05-13T06:31:32.288451",
     "exception": false,
     "start_time": "2023-05-13T06:31:31.918814",
     "status": "completed"
    },
    "tags": []
   },
   "outputs": [
    {
     "name": "stdout",
     "output_type": "stream",
     "text": [
      "F score de la caractéristique originelle 275.8\n",
      "F score de la caractéristique transformée 1434.7\n"
     ]
    }
   ],
   "source": [
    "import numpy as np\n",
    "from sklearn.feature_selection import f_regression\n",
    "\n",
    "single_variable = X[\"AveOccup\"].values.reshape(-1, 1)\n",
    "F, pval = f_regression(single_variable, y)\n",
    "print(f'F score de la caractéristique originelle {F[0]:.1f}')\n",
    "\n",
    "F, pval = f_regression(np.log1p(single_variable),y)\n",
    "print(f'F score de la caractéristique transformée {F[0]:.1f}')"
   ]
  },
  {
   "cell_type": "markdown",
   "id": "76c2b6aa",
   "metadata": {
    "papermill": {
     "duration": 0.040797,
     "end_time": "2023-05-13T06:31:32.369610",
     "exception": false,
     "start_time": "2023-05-13T06:31:32.328813",
     "status": "completed"
    },
    "tags": []
   },
   "source": [
    "## Interactions entre variables"
   ]
  },
  {
   "cell_type": "code",
   "execution_count": 4,
   "id": "941af727",
   "metadata": {
    "execution": {
     "iopub.execute_input": "2023-05-13T06:31:32.425503Z",
     "iopub.status.busy": "2023-05-13T06:31:32.424958Z",
     "iopub.status.idle": "2023-05-13T06:31:32.922804Z",
     "shell.execute_reply": "2023-05-13T06:31:32.921384Z"
    },
    "papermill": {
     "duration": 0.523208,
     "end_time": "2023-05-13T06:31:32.927470",
     "exception": false,
     "start_time": "2023-05-13T06:31:32.404262",
     "status": "completed"
    },
    "tags": []
   },
   "outputs": [
    {
     "name": "stdout",
     "output_type": "stream",
     "text": [
      "Erreur quadra de la référence Baseline: 0.507\n"
     ]
    }
   ],
   "source": [
    "from sklearn.linear_model import LinearRegression\n",
    "from sklearn.preprocessing import StandardScaler\n",
    "from sklearn.pipeline import Pipeline\n",
    "from sklearn.model_selection  import cross_val_score, KFold\n",
    "\n",
    "regression = Pipeline([(\"scaler\", StandardScaler()), (\"model\",LinearRegression())])\n",
    "crossvalidation = KFold(n_splits=10, shuffle=True, random_state=1)\n",
    "\n",
    "baseline = np.mean(cross_val_score(regression, X, y, \n",
    "                                   scoring='neg_mean_squared_error', \n",
    "                                   cv=crossvalidation))\n",
    "\n",
    "print(f'Erreur quadra de la référence Baseline: {abs(baseline):.3f}')"
   ]
  },
  {
   "cell_type": "code",
   "execution_count": 5,
   "id": "9937a631",
   "metadata": {
    "execution": {
     "iopub.execute_input": "2023-05-13T06:31:33.010025Z",
     "iopub.status.busy": "2023-05-13T06:31:33.009182Z",
     "iopub.status.idle": "2023-05-13T06:31:33.047572Z",
     "shell.execute_reply": "2023-05-13T06:31:33.046414Z"
    },
    "papermill": {
     "duration": 0.084091,
     "end_time": "2023-05-13T06:31:33.050922",
     "exception": false,
     "start_time": "2023-05-13T06:31:32.966831",
     "status": "completed"
    },
    "tags": []
   },
   "outputs": [],
   "source": [
    "from sklearn.preprocessing import PolynomialFeatures\n",
    "\n",
    "poly = PolynomialFeatures((2, 2), interaction_only=True, include_bias=False)\n",
    "features = [\"MedInc\", \"HouseAge\", \"Population\", \"AveRooms\", \"AveBedrms\", \"AveOccup\"]\n",
    "poly.fit(X[features])\n",
    "interactions = pd.DataFrame(poly.transform(X[features]), columns=poly.get_feature_names_out(features))\n"
   ]
  },
  {
   "cell_type": "code",
   "execution_count": 6,
   "id": "6ac092d0",
   "metadata": {
    "execution": {
     "iopub.execute_input": "2023-05-13T06:31:33.091567Z",
     "iopub.status.busy": "2023-05-13T06:31:33.090507Z",
     "iopub.status.idle": "2023-05-13T06:31:33.098948Z",
     "shell.execute_reply": "2023-05-13T06:31:33.097389Z"
    },
    "papermill": {
     "duration": 0.032384,
     "end_time": "2023-05-13T06:31:33.101947",
     "exception": false,
     "start_time": "2023-05-13T06:31:33.069563",
     "status": "completed"
    },
    "tags": []
   },
   "outputs": [
    {
     "name": "stdout",
     "output_type": "stream",
     "text": [
      "(20640, 15)\n"
     ]
    }
   ],
   "source": [
    "print(interactions.shape)"
   ]
  },
  {
   "cell_type": "code",
   "execution_count": 7,
   "id": "312f7164",
   "metadata": {
    "execution": {
     "iopub.execute_input": "2023-05-13T06:31:33.144589Z",
     "iopub.status.busy": "2023-05-13T06:31:33.143211Z",
     "iopub.status.idle": "2023-05-13T06:31:39.070836Z",
     "shell.execute_reply": "2023-05-13T06:31:39.068851Z"
    },
    "papermill": {
     "duration": 5.956226,
     "end_time": "2023-05-13T06:31:39.076684",
     "exception": false,
     "start_time": "2023-05-13T06:31:33.120458",
     "status": "completed"
    },
    "tags": []
   },
   "outputs": [
    {
     "name": "stdout",
     "output_type": "stream",
     "text": [
      "Avec interaction MedInc HouseAge erreur MSE passe à 0.504\n",
      "Avec interaction MedInc Population erreur MSE passe à 0.500\n",
      "Avec interaction MedInc AveRooms erreur MSE passe à 0.501\n",
      "Avec interaction MedInc AveBedrms erreur MSE passe à 0.506\n",
      "Avec interaction MedInc AveOccup erreur MSE passe à 0.507\n",
      "Avec interaction HouseAge Population erreur MSE passe à 0.506\n",
      "Avec interaction Population AveOccup erreur MSE passe à 0.490\n"
     ]
    }
   ],
   "source": [
    "for col in interactions:\n",
    "    Xt = pd.concat([X, interactions[col]], axis=1)\n",
    "    \n",
    "    test = np.mean(cross_val_score(regression, Xt, y, \n",
    "                                   scoring='neg_mean_squared_error', \n",
    "                                   cv=crossvalidation))\n",
    "    if test > baseline:\n",
    "        print(f\"Avec interaction {col} erreur MSE passe à {abs(test):0.3f}\")"
   ]
  },
  {
   "cell_type": "markdown",
   "id": "f5f17d55",
   "metadata": {
    "papermill": {
     "duration": 0.041024,
     "end_time": "2023-05-13T06:31:39.159559",
     "exception": false,
     "start_time": "2023-05-13T06:31:39.118535",
     "status": "completed"
    },
    "tags": []
   },
   "source": [
    "# Régularisation de modèles linéaires"
   ]
  },
  {
   "cell_type": "markdown",
   "id": "243cfc9a",
   "metadata": {
    "papermill": {
     "duration": 0.018995,
     "end_time": "2023-05-13T06:31:39.212478",
     "exception": false,
     "start_time": "2023-05-13T06:31:39.193483",
     "status": "completed"
    },
    "tags": []
   },
   "source": [
    "## Régression ridge"
   ]
  },
  {
   "cell_type": "code",
   "execution_count": 8,
   "id": "b0dc0959",
   "metadata": {
    "execution": {
     "iopub.execute_input": "2023-05-13T06:31:39.253547Z",
     "iopub.status.busy": "2023-05-13T06:31:39.252984Z",
     "iopub.status.idle": "2023-05-13T06:31:52.263184Z",
     "shell.execute_reply": "2023-05-13T06:31:52.261166Z"
    },
    "papermill": {
     "duration": 13.037325,
     "end_time": "2023-05-13T06:31:52.269205",
     "exception": false,
     "start_time": "2023-05-13T06:31:39.231880",
     "status": "completed"
    },
    "tags": []
   },
   "outputs": [
    {
     "name": "stdout",
     "output_type": "stream",
     "text": [
      "Meilleurs paramètres: {'model__alpha': 263.6650898730355}\n",
      "Erreur MSE CV des meilleurs paramètres: 0.499\n"
     ]
    }
   ],
   "source": [
    "from sklearn.model_selection import GridSearchCV\n",
    "from sklearn.linear_model import Ridge\n",
    "\n",
    "Xt = pd.concat([X, interactions], axis=1)\n",
    "\n",
    "ridge = Pipeline([(\"scaler\", StandardScaler()), (\"model\",Ridge())])\n",
    "search_grid = {'model__alpha': np.logspace(-6, 4, 20)}\n",
    "search = GridSearchCV(estimator=ridge, \n",
    "                      param_grid=search_grid, \n",
    "                      scoring='neg_mean_squared_error', \n",
    "                      refit=True, cv=crossvalidation)\n",
    "search.fit(Xt, y)\n",
    "print(f'Meilleurs paramètres: {search.best_params_}')\n",
    "score = abs(search.best_score_)\n",
    "print(f'Erreur MSE CV des meilleurs paramètres: {score:.3f}')"
   ]
  },
  {
   "cell_type": "markdown",
   "id": "e52f5ca1",
   "metadata": {
    "papermill": {
     "duration": 0.040454,
     "end_time": "2023-05-13T06:31:52.351727",
     "exception": false,
     "start_time": "2023-05-13T06:31:52.311273",
     "status": "completed"
    },
    "tags": []
   },
   "source": [
    "## Technique Lasso"
   ]
  },
  {
   "cell_type": "code",
   "execution_count": 9,
   "id": "2cdbd059",
   "metadata": {
    "execution": {
     "iopub.execute_input": "2023-05-13T06:31:52.406736Z",
     "iopub.status.busy": "2023-05-13T06:31:52.406173Z",
     "iopub.status.idle": "2023-05-13T06:32:44.561611Z",
     "shell.execute_reply": "2023-05-13T06:32:44.559133Z"
    },
    "papermill": {
     "duration": 52.207428,
     "end_time": "2023-05-13T06:32:44.592057",
     "exception": false,
     "start_time": "2023-05-13T06:31:52.384629",
     "status": "completed"
    },
    "tags": []
   },
   "outputs": [
    {
     "name": "stdout",
     "output_type": "stream",
     "text": [
      "Meilleurs paramètres: {'model__alpha': 0.004832930238571752}\n",
      "Erreur MSE CV des meilleurs paramètres: 0.493\n"
     ]
    }
   ],
   "source": [
    "from sklearn.linear_model import Lasso\n",
    "from warnings import simplefilter\n",
    "from sklearn.exceptions import ConvergenceWarning\n",
    "simplefilter(\"ignore\", category=ConvergenceWarning)\n",
    " \n",
    "lasso = Pipeline([(\"scaler\", StandardScaler()), (\"model\",Lasso(selection='random'))])\n",
    "\n",
    "search_grid = {'model__alpha': np.logspace(-6, 4, 20)}\n",
    "search = GridSearchCV(estimator=lasso, \n",
    "                      param_grid=search_grid, \n",
    "                      scoring='neg_mean_squared_error', \n",
    "                      refit=True, cv=crossvalidation)\n",
    "search.fit(Xt, y)\n",
    "best_alpha = search.best_params_\n",
    "print(f'Meilleurs paramètres: {search.best_params_}')\n",
    "score = abs(search.best_score_)\n",
    "print(f'Erreur MSE CV des meilleurs paramètres: {score:.3f}')"
   ]
  },
  {
   "cell_type": "markdown",
   "id": "7ad8de88",
   "metadata": {
    "papermill": {
     "duration": 0.03174,
     "end_time": "2023-05-13T06:32:44.666208",
     "exception": false,
     "start_time": "2023-05-13T06:32:44.634468",
     "status": "completed"
    },
    "tags": []
   },
   "source": [
    "## Régularisation et sélection de caractéristiques"
   ]
  },
  {
   "cell_type": "code",
   "execution_count": 10,
   "id": "0cf7c453",
   "metadata": {
    "execution": {
     "iopub.execute_input": "2023-05-13T06:32:44.707994Z",
     "iopub.status.busy": "2023-05-13T06:32:44.707484Z",
     "iopub.status.idle": "2023-05-13T06:32:44.715941Z",
     "shell.execute_reply": "2023-05-13T06:32:44.714441Z"
    },
    "papermill": {
     "duration": 0.033097,
     "end_time": "2023-05-13T06:32:44.719065",
     "exception": false,
     "start_time": "2023-05-13T06:32:44.685968",
     "status": "completed"
    },
    "tags": []
   },
   "outputs": [
    {
     "name": "stdout",
     "output_type": "stream",
     "text": [
      "['MedInc', 'HouseAge', 'AveRooms', 'AveOccup', 'Latitude', 'Longitude', 'AveOccupRooms', 'AveOccupBedrms', 'Rooms_capita', 'Bedrms_capita', 'Bedrms_pct', 'MedInc HouseAge', 'MedInc Population', 'MedInc AveRooms', 'HouseAge Population', 'HouseAge AveOccup', 'Population AveRooms', 'Population AveOccup']\n"
     ]
    }
   ],
   "source": [
    "selection = np.abs(\n",
    "    search.best_estimator_[\"model\"].coef_) > 0\n",
    "print(Xt.columns[selection].tolist())"
   ]
  },
  {
   "cell_type": "markdown",
   "id": "00d0c1e6",
   "metadata": {
    "papermill": {
     "duration": 0.019438,
     "end_time": "2023-05-13T06:32:44.759030",
     "exception": false,
     "start_time": "2023-05-13T06:32:44.739592",
     "status": "completed"
    },
    "tags": []
   },
   "source": [
    "## Combinaison de L1 & L2 : Elasticnet"
   ]
  },
  {
   "cell_type": "code",
   "execution_count": 11,
   "id": "638d294f",
   "metadata": {
    "execution": {
     "iopub.execute_input": "2023-05-13T06:32:44.801878Z",
     "iopub.status.busy": "2023-05-13T06:32:44.800384Z",
     "iopub.status.idle": "2023-05-13T06:39:04.866256Z",
     "shell.execute_reply": "2023-05-13T06:39:04.864769Z"
    },
    "papermill": {
     "duration": 380.135125,
     "end_time": "2023-05-13T06:39:04.913877",
     "exception": false,
     "start_time": "2023-05-13T06:32:44.778752",
     "status": "completed"
    },
    "tags": []
   },
   "outputs": [
    {
     "name": "stdout",
     "output_type": "stream",
     "text": [
      "Meilleurs paramètres: {'model__alpha': 0.004832930238571752, 'model__l1_ratio': 0.95}\n",
      "Erreur MSE CV des meilleurs paramètres: 0.493\n"
     ]
    }
   ],
   "source": [
    "from sklearn.linear_model import ElasticNet\n",
    "\n",
    "elastic = Pipeline([(\"scaler\", StandardScaler()), (\"model\", ElasticNet(selection='random'))])\n",
    "search_grid = {'model__alpha': np.logspace(-6, 4, 20), \n",
    "               'model__l1_ratio': [0.05, 0.10 ,0.25, 0.5, 0.75, 0.90, 0.95]}\n",
    "search = GridSearchCV(estimator=elastic, \n",
    "                      param_grid=search_grid, \n",
    "                      scoring='neg_mean_squared_error', \n",
    "                      refit=True, cv=crossvalidation)\n",
    "search.fit(Xt, y)\n",
    "print(f'Meilleurs paramètres: {search.best_params_}')\n",
    "score = abs(search.best_score_)\n",
    "print(f'Erreur MSE CV des meilleurs paramètres: {score:.3f}')\n"
   ]
  },
  {
   "cell_type": "markdown",
   "id": "a63f323d",
   "metadata": {
    "papermill": {
     "duration": 0.03194,
     "end_time": "2023-05-13T06:39:04.987815",
     "exception": false,
     "start_time": "2023-05-13T06:39:04.955875",
     "status": "completed"
    },
    "tags": []
   },
   "source": [
    "# Gestion progressive de gros volumes de données"
   ]
  },
  {
   "cell_type": "markdown",
   "id": "3352cb2c",
   "metadata": {
    "papermill": {
     "duration": 0.019683,
     "end_time": "2023-05-13T06:39:05.028021",
     "exception": false,
     "start_time": "2023-05-13T06:39:05.008338",
     "status": "completed"
    },
    "tags": []
   },
   "source": [
    "## Descente de gradient stochastique"
   ]
  },
  {
   "cell_type": "code",
   "execution_count": 12,
   "id": "a0124858",
   "metadata": {
    "execution": {
     "iopub.execute_input": "2023-05-13T06:39:05.070559Z",
     "iopub.status.busy": "2023-05-13T06:39:05.070001Z",
     "iopub.status.idle": "2023-05-13T06:39:05.354863Z",
     "shell.execute_reply": "2023-05-13T06:39:05.352962Z"
    },
    "papermill": {
     "duration": 0.312474,
     "end_time": "2023-05-13T06:39:05.360389",
     "exception": false,
     "start_time": "2023-05-13T06:39:05.047915",
     "status": "completed"
    },
    "tags": []
   },
   "outputs": [
    {
     "name": "stdout",
     "output_type": "stream",
     "text": [
      "MSE test: 0.494\n"
     ]
    }
   ],
   "source": [
    "from sklearn.linear_model import SGDRegressor\n",
    "from sklearn.preprocessing import MinMaxScaler\n",
    "from sklearn.metrics import mean_squared_error\n",
    "from sklearn.model_selection import train_test_split\n",
    "\n",
    "scaling = MinMaxScaler(feature_range=(0, 1))\n",
    "scaled_X = scaling.fit_transform(Xt)\n",
    "\n",
    "X_tr, X_t, y_tr, y_t = train_test_split(scaled_X, y, \n",
    "                                        test_size=0.20, \n",
    "                                        random_state=0)\n",
    "\n",
    "SGD = SGDRegressor(loss='squared_error', \n",
    "                   penalty='l1', \n",
    "                   alpha=0.00001, \n",
    "                   max_iter=2000,\n",
    "                   learning_rate=\"adaptive\",\n",
    "                   random_state=0)\n",
    "\n",
    "SGD.fit(X_tr, y_tr)\n",
    "\n",
    "score = mean_squared_error(y_t, SGD.predict(X_t))\n",
    "print(f'MSE test: {score:.3f}')"
   ]
  },
  {
   "cell_type": "code",
   "execution_count": 13,
   "id": "de8c71b3",
   "metadata": {
    "execution": {
     "iopub.execute_input": "2023-05-13T06:39:05.447355Z",
     "iopub.status.busy": "2023-05-13T06:39:05.446564Z",
     "iopub.status.idle": "2023-05-13T06:39:45.461483Z",
     "shell.execute_reply": "2023-05-13T06:39:45.459478Z"
    },
    "papermill": {
     "duration": 40.106611,
     "end_time": "2023-05-13T06:39:45.508726",
     "exception": false,
     "start_time": "2023-05-13T06:39:05.402115",
     "status": "completed"
    },
    "tags": []
   },
   "outputs": [
    {
     "name": "stdout",
     "output_type": "stream",
     "text": [
      "MSE test: 0.472\n"
     ]
    }
   ],
   "source": [
    "SGD = SGDRegressor(loss='squared_error', \n",
    "                   penalty='l1', \n",
    "                   alpha=0.00001,\n",
    "                   learning_rate=\"adaptive\",\n",
    "                   random_state=0)\n",
    "\n",
    "improvements = list()\n",
    "\n",
    "for z in range(2000):\n",
    "    SGD.partial_fit(X_tr, y_tr)\n",
    "    score = mean_squared_error(y_t, SGD.predict(X_t))\n",
    "    improvements.append(score)\n",
    "    \n",
    "print(f'MSE test: {improvements[-1]:.3f}')"
   ]
  },
  {
   "cell_type": "code",
   "execution_count": 14,
   "id": "c2c8d64b",
   "metadata": {
    "execution": {
     "iopub.execute_input": "2023-05-13T06:39:45.586126Z",
     "iopub.status.busy": "2023-05-13T06:39:45.585616Z",
     "iopub.status.idle": "2023-05-13T06:39:45.951856Z",
     "shell.execute_reply": "2023-05-13T06:39:45.950420Z"
    },
    "papermill": {
     "duration": 0.405179,
     "end_time": "2023-05-13T06:39:45.955702",
     "exception": false,
     "start_time": "2023-05-13T06:39:45.550523",
     "status": "completed"
    },
    "scrolled": true,
    "tags": []
   },
   "outputs": [
    {
     "data": {
      "image/png": "[encoded data removed]",
      "text/plain": [
       "<Figure size 800x400 with 2 Axes>"
      ]
     },
     "metadata": {},
     "output_type": "display_data"
    }
   ],
   "source": [
    "%matplotlib inline\n",
    "import matplotlib.pyplot as plt\n",
    "\n",
    "plt.figure(figsize=(8, 4))\n",
    "plt.subplot(1,2,1)\n",
    "range_1 = range(0,100,10)\n",
    "score_1 = np.abs(improvements[0:100:10])\n",
    "plt.plot(range_1, score_1,'o--')\n",
    "plt.xlabel('Itérations jusque 100')\n",
    "plt.ylabel('Erreur quad. moy. Test')\n",
    "plt.subplot(1,2,2)\n",
    "range_2 = range(100,2000,100)\n",
    "score_2 = np.abs(improvements[100:2000:100])\n",
    "plt.plot(range_2, score_2,'o--')\n",
    "plt.xlabel('Itérations de 101 à 2000')\n",
    "plt.show()"
   ]
  },
  {
   "cell_type": "markdown",
   "id": "3563a9bb",
   "metadata": {
    "papermill": {
     "duration": 0.020393,
     "end_time": "2023-05-13T06:39:45.997136",
     "exception": false,
     "start_time": "2023-05-13T06:39:45.976743",
     "status": "completed"
    },
    "tags": []
   },
   "source": [
    "### (suite en Machines à vecteurs de support)"
   ]
  },
  {
   "cell_type": "code",
   "execution_count": null,
   "id": "28325ede",
   "metadata": {},
   "outputs": [],
   "source": []
  }
 ],
 "metadata": {
  "kernelspec": {
   "display_name": "Python 3 (ipykernel)",
   "language": "python",
   "name": "python3"
  },
  "language_info": {
   "codemirror_mode": {
    "name": "ipython",
    "version": 3
   },
   "file_extension": ".py",
   "mimetype": "text/x-python",
   "name": "python",
   "nbconvert_exporter": "python",
   "pygments_lexer": "ipython3",
   "version": "3.11.5"
  },
  "papermill": {
   "default_parameters": {},
   "duration": 1861.882266,
   "end_time": "2023-05-13T07:02:14.337023",
   "environment_variables": {},
   "exception": null,
   "input_path": "__notebook__.ipynb",
   "output_path": "__notebook__.ipynb",
   "parameters": {},
   "start_time": "2023-05-13T06:31:12.454757",
   "version": "2.4.0"
  }
 },
 "nbformat": 4,
 "nbformat_minor": 5
}
